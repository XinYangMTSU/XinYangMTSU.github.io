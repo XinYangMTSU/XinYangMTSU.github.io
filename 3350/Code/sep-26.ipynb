{
 "cells": [
  {
   "cell_type": "code",
   "execution_count": 169,
   "id": "c749205c-1bfb-4ab3-80a1-77ff4314f3b1",
   "metadata": {},
   "outputs": [],
   "source": [
    "from sklearn.datasets import make_regression\n",
    "import pandas as pd\n",
    "pd.set_option(\"display.float_format\",\"{:.4f}\".format)"
   ]
  },
  {
   "cell_type": "code",
   "execution_count": 204,
   "id": "0e1880c6-07dd-4745-b45a-106d185e7a52",
   "metadata": {},
   "outputs": [],
   "source": [
    "X, y = make_regression(n_samples = 100, n_features = 100, n_informative = 10, noise = 0.5,\n",
    "                      random_state = 42)"
   ]
  },
  {
   "cell_type": "code",
   "execution_count": 205,
   "id": "ea5aefb2-2d5b-4286-bcd1-72eee7c461e0",
   "metadata": {},
   "outputs": [],
   "source": [
    "from sklearn.model_selection import train_test_split"
   ]
  },
  {
   "cell_type": "code",
   "execution_count": 206,
   "id": "2c305b7d-0841-4788-a721-c618d17b2d4a",
   "metadata": {},
   "outputs": [],
   "source": [
    "X_train, X_test , y_train, y_test = train_test_split(\n",
    "    X, y, test_size = 0.2, random_state  = 42)"
   ]
  },
  {
   "cell_type": "code",
   "execution_count": 207,
   "id": "8e3f3faa-608a-480a-89ea-bb58a9035692",
   "metadata": {},
   "outputs": [],
   "source": [
    "def evaluate_model(name, model, X_train, y_train, X_test, y_test):\n",
    "    \n",
    "    model.fit(X_train, y_train)\n",
    "\n",
    "    if hasattr(model, \"best_estimator_\"):\n",
    "        est = model.best_estimator_\n",
    "    else:\n",
    "        est = model\n",
    "    \n",
    "    #Training\n",
    "    y_pred_train = est.predict(X_train)\n",
    "    mse_train = mean_squared_error(y_train, y_pred_train)\n",
    "    rmse_train = np.sqrt(mse_train)\n",
    "    r2_train = r2_score(y_train, y_pred_train)\n",
    "    sse_train = np.sum((y_train - y_pred_train) ** 2)\n",
    "\n",
    "    #Testing\n",
    "    y_pred_test = est.predict(X_test)\n",
    "    mse_test = mean_squared_error(y_test, y_pred_test)\n",
    "    rmse_test = np.sqrt(mse_test)\n",
    "    r2_test = r2_score(y_test, y_pred_test)\n",
    "    sse_test = np.sum((y_test - y_pred_test) ** 2)\n",
    "\n",
    "    results = pd.DataFrame([\n",
    "        {\"Model\": name, \"Split\": \"Train\", \"R^2\": r2_train, \"RMSE\": rmse_train, \"MSE\": mse_train, \"SSE\": sse_train},\n",
    "        {\"Model\": name, \"Split\": \"Test\",  \"R^2\": r2_test,  \"RMSE\": rmse_test,  \"MSE\": mse_test,  \"SSE\": sse_test},\n",
    "    ]).set_index([\"Model\", \"Split\"])\n",
    "    \n",
    "    return results;"
   ]
  },
  {
   "cell_type": "code",
   "execution_count": 208,
   "id": "7d26f908-60ba-4bab-a239-95a8becc1913",
   "metadata": {},
   "outputs": [],
   "source": [
    "from sklearn.preprocessing import StandardScaler\n",
    "from sklearn.pipeline import Pipeline\n",
    "from sklearn.linear_model import LinearRegression, Ridge, Lasso, ElasticNet\n",
    "import numpy as np\n",
    "from sklearn.model_selection import GridSearchCV\n",
    "from sklearn.metrics import mean_squared_error, r2_score\n",
    "import pandas as pd"
   ]
  },
  {
   "cell_type": "code",
   "execution_count": 209,
   "id": "7793313e-2c8e-44f4-a57b-bbb9cabb1075",
   "metadata": {},
   "outputs": [],
   "source": [
    "ols = Pipeline([\n",
    "    (\"scaler\", StandardScaler()),\n",
    "    (\"ols\", LinearRegression())\n",
    "])"
   ]
  },
  {
   "cell_type": "code",
   "execution_count": 210,
   "id": "3be105d0-2ef8-43c2-9642-2331c4290f06",
   "metadata": {},
   "outputs": [],
   "source": [
    "ridge_pipe =  Pipeline([\n",
    "    (\"scaler\", StandardScaler()),\n",
    "    (\"ridge\", Ridge())\n",
    "])"
   ]
  },
  {
   "cell_type": "code",
   "execution_count": 211,
   "id": "240ee329-29c6-41b5-a92d-f969f3c9bfd2",
   "metadata": {},
   "outputs": [],
   "source": [
    "ridge_grid = {\n",
    "    \"ridge__alpha\": np.logspace(-3, 3, 50)\n",
    "}"
   ]
  },
  {
   "cell_type": "code",
   "execution_count": 212,
   "id": "3e2694ce-fee0-4d96-9d91-15f1b8e561b6",
   "metadata": {},
   "outputs": [],
   "source": [
    "ridge = GridSearchCV(\n",
    "    ridge_pipe,\n",
    "    ridge_grid,\n",
    "    cv =5,\n",
    "    n_jobs=-1\n",
    ")"
   ]
  },
  {
   "cell_type": "code",
   "execution_count": 213,
   "id": "31a9114c-b7d3-45fb-9599-b28dde28b74d",
   "metadata": {},
   "outputs": [],
   "source": [
    "lasso_pipe = Pipeline([\n",
    "    (\"scaler\", StandardScaler()),\n",
    "    (\"lasso\", Lasso(max_iter=200_000))\n",
    "])"
   ]
  },
  {
   "cell_type": "code",
   "execution_count": 214,
   "id": "60e5a66f-b441-451f-b6d0-355665285b31",
   "metadata": {},
   "outputs": [],
   "source": [
    "lasso_grid = {\n",
    "    \"lasso__alpha\": np.logspace(-3, 3,50)\n",
    "}"
   ]
  },
  {
   "cell_type": "code",
   "execution_count": 215,
   "id": "5979796b-875f-48b6-b7c7-4eda726af3c8",
   "metadata": {},
   "outputs": [],
   "source": [
    "lasso = GridSearchCV(\n",
    "    lasso_pipe,\n",
    "    lasso_grid,\n",
    "    cv = 5,\n",
    "    n_jobs=-1\n",
    ")"
   ]
  },
  {
   "cell_type": "code",
   "execution_count": 216,
   "id": "a99e7dc2-d764-4ee0-abc1-d4d90ceed047",
   "metadata": {},
   "outputs": [],
   "source": [
    "elastic_pipe = Pipeline([\n",
    "    (\"scaler\", StandardScaler()),\n",
    "    (\"elastic\", ElasticNet(max_iter=200_000))\n",
    "])"
   ]
  },
  {
   "cell_type": "code",
   "execution_count": 217,
   "id": "85c52e22-1f1a-4229-b40e-659e6b604fae",
   "metadata": {},
   "outputs": [],
   "source": [
    "elastic_grid = {\n",
    "    \"elastic__alpha\" : np.logspace(-3, 3, 50),\n",
    "    \"elastic__l1_ratio\": np.linspace(0.1,0.9,5)\n",
    "}"
   ]
  },
  {
   "cell_type": "code",
   "execution_count": 218,
   "id": "9d4d949a-d3bf-4ad3-bb51-6cd808d90e5e",
   "metadata": {},
   "outputs": [],
   "source": [
    "elastic = GridSearchCV(\n",
    "    elastic_pipe,\n",
    "    elastic_grid,\n",
    "    cv = 5,\n",
    "    n_jobs=-1\n",
    ")"
   ]
  },
  {
   "cell_type": "code",
   "execution_count": 219,
   "id": "05366f59-77dd-4215-997a-8acb83187f3d",
   "metadata": {},
   "outputs": [
    {
     "data": {
      "text/html": [
       "<div>\n",
       "<style scoped>\n",
       "    .dataframe tbody tr th:only-of-type {\n",
       "        vertical-align: middle;\n",
       "    }\n",
       "\n",
       "    .dataframe tbody tr th {\n",
       "        vertical-align: top;\n",
       "    }\n",
       "\n",
       "    .dataframe thead th {\n",
       "        text-align: right;\n",
       "    }\n",
       "</style>\n",
       "<table border=\"1\" class=\"dataframe\">\n",
       "  <thead>\n",
       "    <tr style=\"text-align: right;\">\n",
       "      <th></th>\n",
       "      <th></th>\n",
       "      <th>R^2</th>\n",
       "      <th>RMSE</th>\n",
       "      <th>MSE</th>\n",
       "      <th>SSE</th>\n",
       "    </tr>\n",
       "    <tr>\n",
       "      <th>Model</th>\n",
       "      <th>Split</th>\n",
       "      <th></th>\n",
       "      <th></th>\n",
       "      <th></th>\n",
       "      <th></th>\n",
       "    </tr>\n",
       "  </thead>\n",
       "  <tbody>\n",
       "    <tr>\n",
       "      <th rowspan=\"2\" valign=\"top\">OLS</th>\n",
       "      <th>Train</th>\n",
       "      <td>1.0000</td>\n",
       "      <td>0.0000</td>\n",
       "      <td>0.0000</td>\n",
       "      <td>0.0000</td>\n",
       "    </tr>\n",
       "    <tr>\n",
       "      <th>Test</th>\n",
       "      <td>0.6407</td>\n",
       "      <td>75.1957</td>\n",
       "      <td>5654.3979</td>\n",
       "      <td>113087.9584</td>\n",
       "    </tr>\n",
       "    <tr>\n",
       "      <th rowspan=\"2\" valign=\"top\">Ridge</th>\n",
       "      <th>Train</th>\n",
       "      <td>0.9987</td>\n",
       "      <td>5.0918</td>\n",
       "      <td>25.9263</td>\n",
       "      <td>2074.1026</td>\n",
       "    </tr>\n",
       "    <tr>\n",
       "      <th>Test</th>\n",
       "      <td>0.6569</td>\n",
       "      <td>73.4819</td>\n",
       "      <td>5399.5848</td>\n",
       "      <td>107991.6951</td>\n",
       "    </tr>\n",
       "    <tr>\n",
       "      <th rowspan=\"2\" valign=\"top\">Lasso</th>\n",
       "      <th>Train</th>\n",
       "      <td>1.0000</td>\n",
       "      <td>0.4785</td>\n",
       "      <td>0.2289</td>\n",
       "      <td>18.3137</td>\n",
       "    </tr>\n",
       "    <tr>\n",
       "      <th>Test</th>\n",
       "      <td>1.0000</td>\n",
       "      <td>0.5733</td>\n",
       "      <td>0.3286</td>\n",
       "      <td>6.5729</td>\n",
       "    </tr>\n",
       "    <tr>\n",
       "      <th rowspan=\"2\" valign=\"top\">Elastic</th>\n",
       "      <th>Train</th>\n",
       "      <td>0.9997</td>\n",
       "      <td>2.3272</td>\n",
       "      <td>5.4159</td>\n",
       "      <td>433.2735</td>\n",
       "    </tr>\n",
       "    <tr>\n",
       "      <th>Test</th>\n",
       "      <td>0.9725</td>\n",
       "      <td>20.8036</td>\n",
       "      <td>432.7892</td>\n",
       "      <td>8655.7845</td>\n",
       "    </tr>\n",
       "  </tbody>\n",
       "</table>\n",
       "</div>"
      ],
      "text/plain": [
       "                 R^2    RMSE       MSE         SSE\n",
       "Model   Split                                     \n",
       "OLS     Train 1.0000  0.0000    0.0000      0.0000\n",
       "        Test  0.6407 75.1957 5654.3979 113087.9584\n",
       "Ridge   Train 0.9987  5.0918   25.9263   2074.1026\n",
       "        Test  0.6569 73.4819 5399.5848 107991.6951\n",
       "Lasso   Train 1.0000  0.4785    0.2289     18.3137\n",
       "        Test  1.0000  0.5733    0.3286      6.5729\n",
       "Elastic Train 0.9997  2.3272    5.4159    433.2735\n",
       "        Test  0.9725 20.8036  432.7892   8655.7845"
      ]
     },
     "execution_count": 219,
     "metadata": {},
     "output_type": "execute_result"
    }
   ],
   "source": [
    "pd.concat([\n",
    "    evaluate_model(\"OLS\", ols, X_train, y_train, X_test, y_test),\n",
    "    evaluate_model(\"Ridge\", ridge, X_train, y_train, X_test, y_test),\n",
    "    evaluate_model(\"Lasso\", lasso, X_train, y_train, X_test, y_test),\n",
    "    evaluate_model(\"Elastic\", elastic, X_train, y_train, X_test, y_test)\n",
    "])"
   ]
  },
  {
   "cell_type": "code",
   "execution_count": 203,
   "id": "134840cc-0d99-4305-af4a-0c4a5a1c2593",
   "metadata": {},
   "outputs": [
    {
     "name": "stdout",
     "output_type": "stream",
     "text": [
      "best alpha for ridge: {'ridge__alpha': 0.005428675439323859}\n",
      "best alpha for lasso: {'lasso__alpha': 0.001}\n",
      "best alpha for elastic: {'elastic__alpha': 0.001, 'elastic__l1_ratio': 0.9}\n"
     ]
    }
   ],
   "source": [
    "print(\"best alpha for ridge:\", ridge.best_params_)\n",
    "print(\"best alpha for lasso:\", lasso.best_params_)\n",
    "print(\"best alpha for elastic:\", elastic.best_params_)"
   ]
  },
  {
   "cell_type": "code",
   "execution_count": null,
   "id": "ad2ec0d4-4101-4dce-b79c-762d2dd6a301",
   "metadata": {},
   "outputs": [],
   "source": []
  },
  {
   "cell_type": "code",
   "execution_count": null,
   "id": "16976a7d-2d90-4d94-a797-c15e1756edb4",
   "metadata": {},
   "outputs": [],
   "source": []
  }
 ],
 "metadata": {
  "kernelspec": {
   "display_name": "Python 3 (ipykernel)",
   "language": "python",
   "name": "python3"
  },
  "language_info": {
   "codemirror_mode": {
    "name": "ipython",
    "version": 3
   },
   "file_extension": ".py",
   "mimetype": "text/x-python",
   "name": "python",
   "nbconvert_exporter": "python",
   "pygments_lexer": "ipython3",
   "version": "3.12.11"
  }
 },
 "nbformat": 4,
 "nbformat_minor": 5
}
