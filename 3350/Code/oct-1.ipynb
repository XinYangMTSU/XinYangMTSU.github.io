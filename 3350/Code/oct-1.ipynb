{
 "cells": [
  {
   "cell_type": "code",
   "execution_count": 1,
   "id": "f1917017-78fa-422c-abde-95b11c8cd96e",
   "metadata": {},
   "outputs": [],
   "source": [
    "from sklearn.datasets import load_breast_cancer"
   ]
  },
  {
   "cell_type": "code",
   "execution_count": 3,
   "id": "3eccf9ee-dd08-43f7-adff-cba5826b3741",
   "metadata": {},
   "outputs": [],
   "source": [
    "df = load_breast_cancer(as_frame=True)"
   ]
  },
  {
   "cell_type": "code",
   "execution_count": 4,
   "id": "123c5fb1-c897-454f-a7c6-113fa5f61131",
   "metadata": {},
   "outputs": [],
   "source": [
    "X = df.data"
   ]
  },
  {
   "cell_type": "code",
   "execution_count": 5,
   "id": "fa8cd3a8-0a94-4f47-8baf-e42ee1de5c29",
   "metadata": {},
   "outputs": [],
   "source": [
    "y = df.target"
   ]
  },
  {
   "cell_type": "code",
   "execution_count": 6,
   "id": "6125741d-899a-4de3-bad0-9fc39f2bd91f",
   "metadata": {},
   "outputs": [],
   "source": [
    "from sklearn.model_selection import train_test_split"
   ]
  },
  {
   "cell_type": "code",
   "execution_count": 8,
   "id": "849b234f-9d81-4c70-a779-5584ac273d59",
   "metadata": {},
   "outputs": [],
   "source": [
    "X_train, X_test, y_train, y_test = train_test_split(\n",
    "    X, y, test_size = 0.2, random_state = 42, stratify = y)"
   ]
  },
  {
   "cell_type": "code",
   "execution_count": 19,
   "id": "286b4816-637a-45d8-8e21-6ae24ec2a991",
   "metadata": {},
   "outputs": [],
   "source": [
    "from sklearn.neighbors import KNeighborsClassifier\n",
    "from sklearn.pipeline import Pipeline\n",
    "from sklearn.preprocessing import StandardScaler\n",
    "import numpy as np\n",
    "from sklearn.model_selection import GridSearchCV"
   ]
  },
  {
   "cell_type": "code",
   "execution_count": 20,
   "id": "a7e01d8a-92cd-4ff7-8ef9-624d2a183411",
   "metadata": {},
   "outputs": [],
   "source": [
    "knn_pipe = Pipeline([\n",
    "    (\"scaler\", StandardScaler()),\n",
    "    (\"knn\", KNeighborsClassifier())\n",
    "])"
   ]
  },
  {
   "cell_type": "code",
   "execution_count": 21,
   "id": "4118e3bd-5aeb-48a3-9465-1af1be318b49",
   "metadata": {},
   "outputs": [],
   "source": [
    "knn_grid = {\n",
    "    \"knn__n_neighbors\": np.arange(1,31,2)\n",
    "}"
   ]
  },
  {
   "cell_type": "code",
   "execution_count": 40,
   "id": "23bf96a3-f7dc-48a7-aaae-d32cd7c3d7ef",
   "metadata": {},
   "outputs": [],
   "source": [
    "knn = GridSearchCV(\n",
    "    knn_pipe,\n",
    "    knn_grid,\n",
    "    cv = 5,\n",
    "    n_jobs = -1\n",
    ")"
   ]
  },
  {
   "cell_type": "code",
   "execution_count": 41,
   "id": "3d458260-6839-4732-b180-345a5e9ffff1",
   "metadata": {},
   "outputs": [],
   "source": [
    "from sklearn.metrics import accuracy_score, precision_score, recall_score, f1_score, confusion_matrix"
   ]
  },
  {
   "cell_type": "code",
   "execution_count": 42,
   "id": "5b6c1f2a-bbb8-4c51-91cd-c599f3eed8a5",
   "metadata": {},
   "outputs": [],
   "source": [
    "import pandas as pd"
   ]
  },
  {
   "cell_type": "code",
   "execution_count": 54,
   "id": "3446319b-8d93-4b73-a6a4-454476f81998",
   "metadata": {},
   "outputs": [],
   "source": [
    "def evaluate_model(name, model, X_train, y_train, X_test, y_test):\n",
    "\n",
    "    model.fit(X_train, y_train)\n",
    "    best_model = model.best_estimator_\n",
    "    \n",
    "    #Testing \n",
    "    y_test_pred = best_model.predict(X_test)\n",
    "    accuracy_test = accuracy_score(y_test_pred, y_test)\n",
    "    precision_test = precision_score(y_test_pred, y_test)\n",
    "    recall_test = recall_score(y_test_pred, y_test)\n",
    "    f1_test = f1_score(y_test_pred, y_test)\n",
    "    cm_test = confusion_matrix(y_test_pred, y_test)\n",
    "    \n",
    "    results = pd.DataFrame([\n",
    "        {\"Model\":name, \"Split\":\"Testing\", \"Accuracy\":accuracy_test, \"Precision\":precision_test,\n",
    "        \"Recall\":recall_test, \"f1\":f1_test}\n",
    "    ])\n",
    "\n",
    "    print(f\"{'-'*40}\")\n",
    "    print(\"Confusion Matrix for Test Data\")\n",
    "    print(f\"{'-'*40}\")\n",
    "    print(cm_test)\n",
    "    \n",
    "    return results"
   ]
  },
  {
   "cell_type": "code",
   "execution_count": 55,
   "id": "c33daa92-c7df-44e6-b1c1-f61b2fe19596",
   "metadata": {},
   "outputs": [
    {
     "name": "stdout",
     "output_type": "stream",
     "text": [
      "----------------------------------------\n",
      "Confusion Matrix for Test Data\n",
      "----------------------------------------\n",
      "[[39  0]\n",
      " [ 3 72]]\n"
     ]
    },
    {
     "data": {
      "text/html": [
       "<div>\n",
       "<style scoped>\n",
       "    .dataframe tbody tr th:only-of-type {\n",
       "        vertical-align: middle;\n",
       "    }\n",
       "\n",
       "    .dataframe tbody tr th {\n",
       "        vertical-align: top;\n",
       "    }\n",
       "\n",
       "    .dataframe thead th {\n",
       "        text-align: right;\n",
       "    }\n",
       "</style>\n",
       "<table border=\"1\" class=\"dataframe\">\n",
       "  <thead>\n",
       "    <tr style=\"text-align: right;\">\n",
       "      <th></th>\n",
       "      <th>Model</th>\n",
       "      <th>Split</th>\n",
       "      <th>Accuracy</th>\n",
       "      <th>Precision</th>\n",
       "      <th>Recall</th>\n",
       "      <th>f1</th>\n",
       "    </tr>\n",
       "  </thead>\n",
       "  <tbody>\n",
       "    <tr>\n",
       "      <th>0</th>\n",
       "      <td>KNN</td>\n",
       "      <td>Testing</td>\n",
       "      <td>0.973684</td>\n",
       "      <td>1.0</td>\n",
       "      <td>0.96</td>\n",
       "      <td>0.979592</td>\n",
       "    </tr>\n",
       "  </tbody>\n",
       "</table>\n",
       "</div>"
      ],
      "text/plain": [
       "  Model    Split  Accuracy  Precision  Recall        f1\n",
       "0   KNN  Testing  0.973684        1.0    0.96  0.979592"
      ]
     },
     "execution_count": 55,
     "metadata": {},
     "output_type": "execute_result"
    }
   ],
   "source": [
    "evaluate_model(\"KNN\",knn, X_train, y_train, X_test, y_test)"
   ]
  },
  {
   "cell_type": "code",
   "execution_count": null,
   "id": "9f18c901-b739-440f-ac32-c3b552f27bfd",
   "metadata": {},
   "outputs": [],
   "source": []
  }
 ],
 "metadata": {
  "kernelspec": {
   "display_name": "Python 3 (ipykernel)",
   "language": "python",
   "name": "python3"
  },
  "language_info": {
   "codemirror_mode": {
    "name": "ipython",
    "version": 3
   },
   "file_extension": ".py",
   "mimetype": "text/x-python",
   "name": "python",
   "nbconvert_exporter": "python",
   "pygments_lexer": "ipython3",
   "version": "3.12.11"
  }
 },
 "nbformat": 4,
 "nbformat_minor": 5
}
