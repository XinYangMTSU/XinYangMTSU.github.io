{
 "cells": [
  {
   "cell_type": "markdown",
   "metadata": {},
   "source": [
    "## 1. Please answer questions 1 - 7 using the following graphs."
   ]
  },
  {
   "cell_type": "markdown",
   "metadata": {},
   "source": [
    "<img width=\"70%\" src=\"https://www.cs.mtsu.edu/~xyang/3080/Quiz/q1.png\">"
   ]
  },
  {
   "cell_type": "markdown",
   "metadata": {},
   "source": [
    "1. Which of the graphs have loops?  <font size=4 color=\"blue\">(H)</font>\n",
    "2. Which of the graphs are simple?  <font size=4 color=\"blue\"> (A,C,D,E,F,G)</font>\n",
    "3. Which graphs are complete?  <font size=4 color=\"blue\">(D)</font>\n",
    "4. Which graphs are connected? <font size=4 color=\"blue\">(A,B,C,D,E,G,H)</font>\n",
    "5. Which graphs are acyclic? <font size=4 color=\"blue\">(A,G)</font>\n",
    "6. Which graphs are bipartite complete? <font size=4 color=\"blue\">(A,C,E,G)</font>\n",
    "7. Which paris of graphs are isomorphic? <font size=4 color=\"blue\">(A+G,  C+E)</font>"
   ]
  },
  {
   "cell_type": "code",
   "execution_count": null,
   "metadata": {},
   "outputs": [],
   "source": [
    " "
   ]
  },
  {
   "cell_type": "markdown",
   "metadata": {},
   "source": [
    "## 2. Please answer questions 8 - 10 using the following graph."
   ]
  },
  {
   "cell_type": "markdown",
   "metadata": {},
   "source": [
    "<img width=\"15%\" src=\"https://www.cs.mtsu.edu/~xyang/3080/Quiz/q2.png\">"
   ]
  },
  {
   "cell_type": "markdown",
   "metadata": {},
   "source": [
    "8. Give the adjacency matrix representation for the graph.\n",
    "9. Give the adjacency list representation for the graph.\n",
    "10. Give the array-pointer representation for the graph."
   ]
  },
  {
   "cell_type": "markdown",
   "metadata": {},
   "source": [
    "8. <img width=\"25%\" src=\"https://www.cs.mtsu.edu/~xyang/3080/Quiz/q5_2_1.png\">"
   ]
  },
  {
   "cell_type": "markdown",
   "metadata": {},
   "source": [
    "9. <img width=\"35%\" src=\"https://www.cs.mtsu.edu/~xyang/3080/Quiz/q5_2_2.png\">"
   ]
  },
  {
   "cell_type": "markdown",
   "metadata": {},
   "source": [
    "10. <img width=\"15%\" src=\"https://www.cs.mtsu.edu/~xyang/3080/Quiz/q5_2_3.png\">"
   ]
  },
  {
   "cell_type": "markdown",
   "metadata": {},
   "source": [
    "## 3. Please answer questions 1 - 10 using the following graph."
   ]
  },
  {
   "cell_type": "markdown",
   "metadata": {},
   "source": [
    "<img width=\"70%\" src=\"https://www.cs.mtsu.edu/~xyang/3080/Quiz/q1.png\">"
   ]
  },
  {
   "cell_type": "markdown",
   "metadata": {},
   "source": [
    "1. Which of the above are trees? <font size=4 color=\"blue\">(A,G)</font> \n",
    "2. Draw a complete binary tree that is not full with at least 3 nodes.\n",
    "Number the nodes."
   ]
  },
  {
   "cell_type": "markdown",
   "metadata": {},
   "source": [
    "2. <img width=\"20%\" src=\"https://www.cs.mtsu.edu/~xyang/3080/Quiz/q3_2.png\">"
   ]
  },
  {
   "cell_type": "markdown",
   "metadata": {},
   "source": [
    "3. What is the depth of the binary tree you draw? <font size=4 color=\"blue\">2</font> \n",
    "4. Name a leaf. <font size=4 color=\"blue\">3 or 4</font> \n",
    "5. What is the root? <font size=4 color=\"blue\">1</font> "
   ]
  },
  {
   "cell_type": "markdown",
   "metadata": {},
   "source": [
    "6. Give the pointer representation for your tree of #2.\n",
    "<img width=\"40%\" src=\"https://www.cs.mtsu.edu/~xyang/3080/Quiz/q3_6.png\">"
   ]
  },
  {
   "cell_type": "markdown",
   "metadata": {},
   "source": [
    "7. Give the left child-right child array representation for your tree of #2.\n",
    "<img width=\"20%\" src=\"https://www.cs.mtsu.edu/~xyang/3080/Quiz/q3_7.png\">"
   ]
  },
  {
   "cell_type": "markdown",
   "metadata": {},
   "source": [
    "8. Give the algebraic expression tree for the expression $(4x+7y)*(3z-2x)$.\n",
    "<img width=\"40%\" src=\"https://www.cs.mtsu.edu/~xyang/3080/Quiz/q3_8.png\">"
   ]
  },
  {
   "cell_type": "markdown",
   "metadata": {},
   "source": [
    "9. Give the prefix and postfix notaions for the expression in #8. <Br>\n",
    "    prefix:   <font size=4 color=\"blue\">* + * 4 x * 7 y - * 3 z * 2 x</font> <Br>\n",
    "    postfix:  <font size=4 color=\"blue\">4 x * 7 y * + 3 z * 2 x * - * </font><br>"
   ]
  },
  {
   "cell_type": "markdown",
   "metadata": {},
   "source": [
    "## 4. Any algorithm that solves the <font color=\"blue\">search problem</font> for a <font color=\"red\">957</font> element list by comparing the target element x to the list items must do at least ___________ comparisons."
   ]
  },
  {
   "cell_type": "markdown",
   "metadata": {},
   "source": [
    "<font size=4 color=\"blue\">\n",
    "$\\left \\lfloor{957}\\right \\rfloor + 1 = \\left \\lfloor{9.???}\\right \\rfloor + 1 = 10 $\n",
    "</font>"
   ]
  },
  {
   "cell_type": "markdown",
   "metadata": {},
   "source": [
    "## 5. Any algorithm that <font color=\"blue\">sorts</font> a <font color=\"red\">6</font> element list by comparing pairs of items from the list must do at least ____________ comparisions in the worst case."
   ]
  },
  {
   "cell_type": "markdown",
   "metadata": {},
   "source": [
    "<font size=4 color=\"blue\">\n",
    "$\\left \\lceil{log 6!}\\right \\rceil  = \\left \\lceil{720}\\right \\rceil = \\left \\lceil{9.???}\\right \\rceil = 10$\n",
    "</font>"
   ]
  },
  {
   "cell_type": "markdown",
   "metadata": {},
   "source": [
    "## 6. Given the following code, decode the received bit string: \n",
    "1110100110"
   ]
  },
  {
   "cell_type": "markdown",
   "metadata": {},
   "source": [
    " <pre>\n",
    " a     b      c     d     e \n",
    "100   111    101   110    0\n",
    "</pre>\n"
   ]
  },
  {
   "cell_type": "markdown",
   "metadata": {},
   "source": [
    "<font color=\"blue\" size=4>\n",
    "bead\n",
    "</font>"
   ]
  },
  {
   "cell_type": "markdown",
   "metadata": {},
   "source": [
    "## 7. Given the following tree, give the code words for the characters: a, b, c, and d."
   ]
  },
  {
   "cell_type": "markdown",
   "metadata": {},
   "source": [
    "<img width=\"15%\" src=\"https://www.cs.mtsu.edu/~xyang/3080/Quiz/q3.png\">"
   ]
  },
  {
   "cell_type": "markdown",
   "metadata": {},
   "source": [
    "<font color=\"blue\" size=4>\n",
    "a: 0 <br>\n",
    "b: 11 <Br>\n",
    "c: 101 <Br>\n",
    "d: 100 <br>\n",
    "</font>"
   ]
  },
  {
   "cell_type": "markdown",
   "metadata": {},
   "source": [
    "## 8. Construct the huffman tree for the following characters and their associated frequencies.\n",
    "<pre>\n",
    "    character    a   b   c   d\n",
    "    frequency    35  11  45  9\n",
    "</pre>"
   ]
  },
  {
   "cell_type": "markdown",
   "metadata": {},
   "source": [
    "1. Please construct the huffman tree for the above characters and associated frequencies.\n",
    "<img width=\"70%\" src=\"https://www.cs.mtsu.edu/~xyang/3080/Quiz/q8_1.png\">"
   ]
  },
  {
   "cell_type": "markdown",
   "metadata": {},
   "source": [
    "2. Please write the code words for the characters a, b, c, and d.\n",
    "<br>\n",
    "<font color=\"blue\" size=4>\n",
    "a: 11 <br>\n",
    "b: 101 <Br>\n",
    "c: 0 <Br>\n",
    "d: 100 <br>\n",
    "</font>"
   ]
  },
  {
   "cell_type": "markdown",
   "metadata": {},
   "source": [
    "3. Please encode the word <b><font color=\"blue\">cab</font></b> using the huffman code. <Br>\n",
    "    \n",
    "    <font color=\"blue\" size=4>\n",
    "    011101\n",
    "    </font>"
   ]
  },
  {
   "cell_type": "markdown",
   "metadata": {},
   "source": [
    "4. If the file containing 100 characters consisted of the above characters and associated freuencies. How many bits would be needed to store using the associated huffman code?"
   ]
  },
  {
   "cell_type": "markdown",
   "metadata": {},
   "source": [
    "One a is 2 bits: $35\\times2$ = 70 bits<br>\n",
    "One b is 3 bits: $11\\times3$ = 33 bits <br>\n",
    "One c is 1 bit: $45\\times1$ = 45 bits  <Br>\n",
    "One d is 3 bits: $9\\times3$ = 27 bits <br>\n",
    "\n",
    "<font color=\"blue\" size=4>  \n",
    "total = 70 + 33 + 45 + 27 = 175 bits\n",
    "</font>"
   ]
  },
  {
   "cell_type": "code",
   "execution_count": null,
   "metadata": {},
   "outputs": [],
   "source": []
  }
 ],
 "metadata": {
  "kernelspec": {
   "display_name": "Python 3",
   "language": "python",
   "name": "python3"
  },
  "language_info": {
   "codemirror_mode": {
    "name": "ipython",
    "version": 3
   },
   "file_extension": ".py",
   "mimetype": "text/x-python",
   "name": "python",
   "nbconvert_exporter": "python",
   "pygments_lexer": "ipython3",
   "version": "3.8.5"
  }
 },
 "nbformat": 4,
 "nbformat_minor": 4
}
