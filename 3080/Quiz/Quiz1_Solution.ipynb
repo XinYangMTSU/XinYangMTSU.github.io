{
 "cells": [
  {
   "cell_type": "markdown",
   "metadata": {},
   "source": [
    "### 1. Let <br> A = {1,2,3,5,10} <br> B = {2,4,7,8,9} <br> C = {5,8,10} <br> be subsets of S = {1,2,3,4,5,6,7,8,9,10}. Please find <br><Br> <font color=\"blue\">(a)B &cup; A</font>    $\\quad \\quad$ <font color=\"blue\">(b) A - C</font> $\\quad \\quad$ <font color=\"blue\">(c)B' &cap; (A &cup; C)</font>\n"
   ]
  },
  {
   "cell_type": "code",
   "execution_count": 9,
   "metadata": {},
   "outputs": [
    {
     "data": {
      "text/plain": [
       "{1, 2, 3, 4, 5, 7, 8, 9, 10}"
      ]
     },
     "execution_count": 9,
     "metadata": {},
     "output_type": "execute_result"
    }
   ],
   "source": [
    "#(a)\n",
    "A = {1,2,3,5,10}\n",
    "B = {2,4,7,8,9}\n",
    "B.union(A)"
   ]
  },
  {
   "cell_type": "code",
   "execution_count": 8,
   "metadata": {},
   "outputs": [
    {
     "data": {
      "text/plain": [
       "{1, 2, 3}"
      ]
     },
     "execution_count": 8,
     "metadata": {},
     "output_type": "execute_result"
    }
   ],
   "source": [
    "#(b)\n",
    "A = {1,2,3,5,10}\n",
    "C = {5,8,10}\n",
    "A.difference(C)"
   ]
  },
  {
   "cell_type": "code",
   "execution_count": 7,
   "metadata": {},
   "outputs": [
    {
     "data": {
      "text/plain": [
       "{1, 3, 5, 10}"
      ]
     },
     "execution_count": 7,
     "metadata": {},
     "output_type": "execute_result"
    }
   ],
   "source": [
    "#(c)\n",
    "S = {1,2,3,4,5,6,7,8,9,10}\n",
    "B = {2,4,7,8,9}\n",
    "A = {1,2,3,5,10}\n",
    "C = {5,8,10}\n",
    "NB = S.difference(B)\n",
    "AC = A.union(C)\n",
    "NB.intersection(AC)"
   ]
  },
  {
   "cell_type": "markdown",
   "metadata": {},
   "source": [
    "### 2. Let A = {1,2}, and B = {3,4}. Please<br><br><font color=\"blue\">(a) Find A $\\times$ B</font> $\\quad \\quad$ <font color=\"blue\">(b)Find B $\\times$ A</font>\n"
   ]
  },
  {
   "cell_type": "code",
   "execution_count": 14,
   "metadata": {},
   "outputs": [
    {
     "name": "stdout",
     "output_type": "stream",
     "text": [
      "(1,3)\n",
      "(1,4)\n",
      "(2,3)\n",
      "(2,4)\n"
     ]
    }
   ],
   "source": [
    "#(a)\n",
    "print(\"(1,3)\")\n",
    "print(\"(1,4)\")\n",
    "print(\"(2,3)\")\n",
    "print(\"(2,4)\")"
   ]
  },
  {
   "cell_type": "code",
   "execution_count": 15,
   "metadata": {},
   "outputs": [
    {
     "name": "stdout",
     "output_type": "stream",
     "text": [
      "(3,1)\n",
      "(3,2)\n",
      "(4,1)\n",
      "(4,2)\n"
     ]
    }
   ],
   "source": [
    "#(b)\n",
    "print(\"(3,1)\")\n",
    "print(\"(3,2)\")\n",
    "print(\"(4,1)\")\n",
    "print(\"(4,2)\")"
   ]
  },
  {
   "cell_type": "markdown",
   "metadata": {},
   "source": [
    "### 3. How many three-letter words (not nescessarily meaningful) can be formed  from the word \"compiler\" if no letters can be repeated?"
   ]
  },
  {
   "cell_type": "code",
   "execution_count": null,
   "metadata": {},
   "outputs": [],
   "source": [
    "n = 8\n",
    "r = 3\n",
    "P(8,3) = n!/(n-r)! = 8!/5! = 8*7*6 = 336"
   ]
  },
  {
   "cell_type": "markdown",
   "metadata": {},
   "source": [
    "### 4. How many 5-card poker hands are possible with a 52-card deck?"
   ]
  },
  {
   "cell_type": "code",
   "execution_count": 3,
   "metadata": {},
   "outputs": [],
   "source": [
    "import math\n",
    "def fact(n):\n",
    "     if (n <= 1):\n",
    "        return 1\n",
    "     return n * fact(n - 1)"
   ]
  },
  {
   "cell_type": "code",
   "execution_count": null,
   "metadata": {},
   "outputs": [],
   "source": [
    "n = 52\n",
    "r = 5\n",
    "C(52,5) = n!/((n-r)!*r!) = 52!/(47!*5!)"
   ]
  },
  {
   "cell_type": "code",
   "execution_count": 4,
   "metadata": {},
   "outputs": [
    {
     "data": {
      "text/plain": [
       "2598960.0"
      ]
     },
     "execution_count": 4,
     "metadata": {},
     "output_type": "execute_result"
    }
   ],
   "source": [
    "fact(52)/(fact(47)*fact(5))"
   ]
  },
  {
   "cell_type": "markdown",
   "metadata": {},
   "source": [
    "### 5. Select all the statements in the following list"
   ]
  },
  {
   "cell_type": "markdown",
   "metadata": {},
   "source": [
    "(1) Be sure to wash your dishes after eating <br>\n",
    "(2) Will there be tacos for dinner? <br>\n",
    "(3) There are life forms on Jupiter. <br>\n",
    "(4) 2 + 4 = 82 <br>"
   ]
  },
  {
   "cell_type": "markdown",
   "metadata": {},
   "source": [
    "(1) No, it is a command, not a proposition <br>\n",
    "(2) No, it is a question <br>\n",
    "(3) Yes. It is a proposition. <br>\n",
    "(4) Yes. It is a proposition. <br>"
   ]
  },
  {
   "cell_type": "markdown",
   "metadata": {},
   "source": [
    "### 6. How many rows will be in a truth table of a wff that contains 6 variables?"
   ]
  },
  {
   "cell_type": "markdown",
   "metadata": {},
   "source": [
    "A. 12 <br>\n",
    "B. 64 <Br>\n",
    "C. 32 <Br>\n",
    "D. 6 <Br>"
   ]
  },
  {
   "cell_type": "code",
   "execution_count": 6,
   "metadata": {},
   "outputs": [
    {
     "data": {
      "text/plain": [
       "64"
      ]
     },
     "execution_count": 6,
     "metadata": {},
     "output_type": "execute_result"
    }
   ],
   "source": [
    "2**6"
   ]
  },
  {
   "cell_type": "markdown",
   "metadata": {},
   "source": [
    "### 7. Negate the following:"
   ]
  },
  {
   "cell_type": "markdown",
   "metadata": {},
   "source": [
    " (1) A &or; B <br>\n",
    " (2) You did not pass the class and you did not fail. <br>\n",
    " (3) A &rarr; B"
   ]
  },
  {
   "cell_type": "markdown",
   "metadata": {},
   "source": [
    "(1) (A &or; B)' = A' &and; B'"
   ]
  },
  {
   "cell_type": "markdown",
   "metadata": {},
   "source": [
    "(2) <br>\n",
    "A: You did pass the class <br>\n",
    "B: You did fail the class <br>\n",
    "A' &and; B'\n",
    "\n"
   ]
  },
  {
   "cell_type": "markdown",
   "metadata": {},
   "source": [
    "(A' &and; B')' = A &or; B"
   ]
  },
  {
   "cell_type": "markdown",
   "metadata": {},
   "source": [
    "You did pass the class or you did fail the class"
   ]
  },
  {
   "cell_type": "markdown",
   "metadata": {},
   "source": [
    "(3) A &rarr; B <br>\n",
    "A' &or; B"
   ]
  },
  {
   "cell_type": "markdown",
   "metadata": {},
   "source": [
    "(A' &or; B)' = A &and; B'"
   ]
  },
  {
   "cell_type": "markdown",
   "metadata": {},
   "source": [
    "### 8. Construct the truth tables for the following wffs. "
   ]
  },
  {
   "cell_type": "markdown",
   "metadata": {},
   "source": [
    "(1) (A &or; B)' <br>\n",
    "(2) A' &and; B' <br>\n",
    "(3) (A &rarr; B) &harr; (A' &or; B)' <br>\n",
    "(4) A &or; B &harr; (A' &rarr; B) <br>"
   ]
  },
  {
   "cell_type": "markdown",
   "metadata": {},
   "source": [
    "(1) \n",
    "<table>\n",
    "        <tr style=\"border: 1px solid black\">\n",
    "            <th style=\"border: 1px solid black\">A</th>\n",
    "            <th style=\"border: 1px solid black\">B</th>\n",
    "            <th style=\"border: 1px solid black\">A &or; B</th>\n",
    "            <th style=\"border: 1px solid black\">(A &or; B)'</th>\n",
    "        </tr>\n",
    "        <tr>\n",
    "            <td>T</td>\n",
    "            <td>T</td>\n",
    "            <td>T</td>\n",
    "            <td>F</td>\n",
    "        </tr>\n",
    "         <tr>\n",
    "            <td>T</td>\n",
    "            <td>F</td>\n",
    "            <td>T</td>\n",
    "            <td>F</td>\n",
    "        </tr>\n",
    "        <tr>\n",
    "            <td>F</td>\n",
    "            <td>T</td>\n",
    "            <td>T</td>\n",
    "            <td>F</td>\n",
    "        </tr>\n",
    "        <tr>\n",
    "            <td>F</td>\n",
    "            <td>F</td>\n",
    "            <td>F</td>\n",
    "            <td>T</td>\n",
    "        </tr>\n",
    "</table>"
   ]
  },
  {
   "cell_type": "markdown",
   "metadata": {},
   "source": [
    "(2) \n",
    "<table>\n",
    "        <tr style=\"border: 1px solid black\">\n",
    "            <th style=\"border: 1px solid black\">A</th>\n",
    "            <th style=\"border: 1px solid black\">B</th>\n",
    "            <th style=\"border: 1px solid black\">A'</th>\n",
    "            <th style=\"border: 1px solid black\">B'</th>\n",
    "            <th style=\"border: 1px solid black\">A' &and; B'</th>\n",
    "        </tr>\n",
    "        <tr>\n",
    "            <td>T</td>\n",
    "            <td>T</td>\n",
    "            <td>F</td>\n",
    "            <td>F</td>\n",
    "            <td>F</td>\n",
    "        </tr>\n",
    "         <tr>\n",
    "            <td>T</td>\n",
    "            <td>F</td>\n",
    "            <td>F</td>\n",
    "            <td>T</td>\n",
    "            <td>F</td>\n",
    "        </tr>\n",
    "        <tr>\n",
    "            <td>F</td>\n",
    "            <td>T</td>\n",
    "            <td>T</td>\n",
    "            <td>F</td>\n",
    "            <td>F</td>\n",
    "        </tr>\n",
    "        <tr>\n",
    "            <td>F</td>\n",
    "            <td>F</td>\n",
    "            <td>T</td>\n",
    "            <td>T</td>\n",
    "            <td>T</td>\n",
    "        </tr>\n",
    "</table>"
   ]
  },
  {
   "cell_type": "markdown",
   "metadata": {},
   "source": [
    "(3) \n",
    "<table>\n",
    "        <tr style=\"border: 1px solid black\">\n",
    "            <th style=\"border: 1px solid black\">A</th>\n",
    "            <th style=\"border: 1px solid black\">B</th>\n",
    "            <th style=\"border: 1px solid black\">A'</th>\n",
    "            <th style=\"border: 1px solid black\">A &rarr; B</th>\n",
    "            <th style=\"border: 1px solid black\">A' &or; B</th>\n",
    "            <th style=\"border: 1px solid black\">(A' &or; B)'</th>\n",
    "            <th style=\"border: 1px solid black\">A &rarr; B &harr; (A' &or; B)'</th>\n",
    "        </tr>\n",
    "        <tr>\n",
    "            <td>T</td>\n",
    "            <td>T</td>\n",
    "            <td>F</td>\n",
    "            <td>T</td>\n",
    "            <td>T</td>\n",
    "            <td>F</td>\n",
    "            <td>F</td>\n",
    "        </tr>\n",
    "         <tr>\n",
    "            <td>T</td>\n",
    "            <td>F</td>\n",
    "            <td>F</td>\n",
    "            <td>F</td>\n",
    "            <td>F</td>\n",
    "            <td>T</td>\n",
    "             <td>F</td>\n",
    "        </tr>\n",
    "        <tr>\n",
    "            <td>F</td>\n",
    "            <td>T</td>\n",
    "            <td>T</td>\n",
    "            <td>T</td>\n",
    "            <td>T</td>\n",
    "            <td>F</td>\n",
    "            <td>F</td>\n",
    "        </tr>\n",
    "        <tr>\n",
    "            <td>F</td>\n",
    "            <td>F</td>\n",
    "            <td>T</td>\n",
    "            <td>T</td>\n",
    "            <td>T</td>\n",
    "            <td>F</td>\n",
    "            <td>F</td>\n",
    "        </tr>\n",
    "</table>"
   ]
  },
  {
   "cell_type": "markdown",
   "metadata": {},
   "source": [
    "(4) \n",
    "<table>\n",
    "        <tr style=\"border: 1px solid black\">\n",
    "            <th style=\"border: 1px solid black\">A</th>\n",
    "            <th style=\"border: 1px solid black\">B</th>\n",
    "            <th style=\"border: 1px solid black\">A'</th>\n",
    "            <th style=\"border: 1px solid black\">A &or; B</th>\n",
    "            <th style=\"border: 1px solid black\">A' &rarr; B</th>\n",
    "            <th style=\"border: 1px solid black\">A &or; B &harr; A' &rarr; B</th>\n",
    "        </tr>\n",
    "        <tr>\n",
    "            <td>T</td>\n",
    "            <td>T</td>\n",
    "            <td>F</td>\n",
    "            <td>T</td>\n",
    "            <td>T</td>\n",
    "            <td>T</td>\n",
    "        </tr>\n",
    "         <tr>\n",
    "            <td>T</td>\n",
    "            <td>F</td>\n",
    "            <td>F</td>\n",
    "            <td>T</td>\n",
    "            <td>T</td>\n",
    "            <td>T</td>\n",
    "        </tr>\n",
    "        <tr>\n",
    "            <td>F</td>\n",
    "            <td>T</td>\n",
    "            <td>T</td>\n",
    "            <td>T</td>\n",
    "            <td>T</td>\n",
    "            <td>T</td>\n",
    "        </tr>\n",
    "        <tr>\n",
    "            <td>F</td>\n",
    "            <td>F</td>\n",
    "            <td>T</td>\n",
    "            <td>F</td>\n",
    "            <td>F</td>\n",
    "            <td>T</td>\n",
    "        </tr>\n",
    "</table>"
   ]
  },
  {
   "cell_type": "markdown",
   "metadata": {},
   "source": [
    "### 9. List all wff in #3 that are tautologies or contradictions. "
   ]
  },
  {
   "cell_type": "markdown",
   "metadata": {},
   "source": [
    "(3) is contradition, (4) is tautology"
   ]
  },
  {
   "cell_type": "markdown",
   "metadata": {},
   "source": [
    "### 10. List all paris of wffs in #3 that are equivalent"
   ]
  },
  {
   "cell_type": "markdown",
   "metadata": {},
   "source": [
    "(1) and (2) are equivalent"
   ]
  },
  {
   "cell_type": "markdown",
   "metadata": {},
   "source": [
    "### 11. Simplify the Boolean expression in the following piece of code"
   ]
  },
  {
   "cell_type": "markdown",
   "metadata": {},
   "source": [
    "if( !( !(x == 2) || (y < z)) || ( (y<z) && (x == 2) ))  <br>\n",
    "{ <Br>\n",
    "  z++; <br>\n",
    "} <Br>"
   ]
  },
  {
   "cell_type": "markdown",
   "metadata": {},
   "source": [
    "A: x == 2 <br>\n",
    "B: y < z"
   ]
  },
  {
   "cell_type": "markdown",
   "metadata": {},
   "source": [
    "(A' &or; B)' &or; (B &and; A) <br>\n",
    "A &and; B' &or; (B &and; A) <br>\n",
    "(A &and; B') &or; (A &and; B) <br>\n",
    "A &and; (B' &or; B ) <br>\n",
    "A &and; 1 <BR>\n",
    "    A\n",
    "<br>"
   ]
  },
  {
   "cell_type": "markdown",
   "metadata": {},
   "source": [
    "After the simplification, we got: <br>"
   ]
  },
  {
   "cell_type": "markdown",
   "metadata": {},
   "source": [
    "if(x==2)\n",
    "{\n",
    "    z++;\n",
    "    \n",
    "}"
   ]
  },
  {
   "cell_type": "code",
   "execution_count": null,
   "metadata": {},
   "outputs": [],
   "source": []
  }
 ],
 "metadata": {
  "kernelspec": {
   "display_name": "Python 3",
   "language": "python",
   "name": "python3"
  },
  "language_info": {
   "codemirror_mode": {
    "name": "ipython",
    "version": 3
   },
   "file_extension": ".py",
   "mimetype": "text/x-python",
   "name": "python",
   "nbconvert_exporter": "python",
   "pygments_lexer": "ipython3",
   "version": "3.8.5"
  }
 },
 "nbformat": 4,
 "nbformat_minor": 4
}
