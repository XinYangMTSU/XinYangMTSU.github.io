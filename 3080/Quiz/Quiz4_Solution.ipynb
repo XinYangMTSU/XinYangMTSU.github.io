{
 "cells": [
  {
   "cell_type": "markdown",
   "metadata": {},
   "source": [
    "## 1. Please answer questions 1 - 10 refer to the following arrays. <font color=\"red\">If the operation cannot be done, say \"not possible\"</font>."
   ]
  },
  {
   "cell_type": "markdown",
   "metadata": {},
   "source": [
    "$A = \\begin{pmatrix} 1 & 1 \\\\ 1 & 0 \\\\ 1 & 0 \\end{pmatrix}\n",
    "\\quad\n",
    "B = \\begin{pmatrix} 1 & 1 \\\\ 1 & 0 \\\\ 0 & 1 \\end{pmatrix}\n",
    "\\quad\n",
    "C = \\begin{pmatrix} 0 & 1 & 1 \\\\ 1 & 1 & 0 \\\\ 1 & 0 & 1 \\end{pmatrix}\n",
    "\\quad\n",
    "D = \\begin{pmatrix} -1 & 2 & 1 \\\\ 1 & 0 & 1 \\\\ 2 & 1 & 4 \\end{pmatrix}\n",
    "$"
   ]
  },
  {
   "cell_type": "markdown",
   "metadata": {},
   "source": [
    "### 1. A + B"
   ]
  },
  {
   "cell_type": "code",
   "execution_count": 6,
   "metadata": {},
   "outputs": [
    {
     "name": "stdout",
     "output_type": "stream",
     "text": [
      "[[2 2]\n",
      " [2 0]\n",
      " [1 1]]\n"
     ]
    }
   ],
   "source": [
    "import numpy as np\n",
    "A = np.array([[1,1],[1,0],[1,0]])\n",
    "B = np.array([[1,1],[1,0],[0,1]])\n",
    "print(A+B)"
   ]
  },
  {
   "cell_type": "markdown",
   "metadata": {},
   "source": [
    "### 2. C + B"
   ]
  },
  {
   "cell_type": "markdown",
   "metadata": {},
   "source": [
    "Can not do it. The dimension doesn't match."
   ]
  },
  {
   "cell_type": "markdown",
   "metadata": {},
   "source": [
    "### 3. A - B"
   ]
  },
  {
   "cell_type": "code",
   "execution_count": 7,
   "metadata": {},
   "outputs": [
    {
     "name": "stdout",
     "output_type": "stream",
     "text": [
      "[[ 0  0]\n",
      " [ 0  0]\n",
      " [ 1 -1]]\n"
     ]
    }
   ],
   "source": [
    "import numpy as np\n",
    "A = np.array([[1,1],[1,0],[1,0]])\n",
    "B = np.array([[1,1],[1,0],[0,1]])\n",
    "print(A-B)"
   ]
  },
  {
   "cell_type": "markdown",
   "metadata": {},
   "source": [
    "### 4.  C &middot; D (matrix multiplication)"
   ]
  },
  {
   "cell_type": "code",
   "execution_count": 8,
   "metadata": {},
   "outputs": [
    {
     "name": "stdout",
     "output_type": "stream",
     "text": [
      "[[3 1 5]\n",
      " [0 2 2]\n",
      " [1 3 5]]\n"
     ]
    }
   ],
   "source": [
    "import numpy as np\n",
    "C = np.array([[0,1,1],[1,1,0],[1,0,1]])\n",
    "D = np.array([[-1,2,1],[1,0,1],[2,1,4]])\n",
    "print(np.matmul(C,D))"
   ]
  },
  {
   "cell_type": "markdown",
   "metadata": {},
   "source": [
    "### 5. 2B"
   ]
  },
  {
   "cell_type": "code",
   "execution_count": 9,
   "metadata": {},
   "outputs": [
    {
     "name": "stdout",
     "output_type": "stream",
     "text": [
      "[[2 2]\n",
      " [2 0]\n",
      " [0 2]]\n"
     ]
    }
   ],
   "source": [
    "import numpy as np\n",
    "B = np.array([[1,1],[1,0],[0,1]])\n",
    "print(2*B)"
   ]
  },
  {
   "cell_type": "markdown",
   "metadata": {},
   "source": [
    "### 6. $B^T$"
   ]
  },
  {
   "cell_type": "code",
   "execution_count": 11,
   "metadata": {},
   "outputs": [],
   "source": [
    "import numpy as np\n",
    "B = np.array([[1,1],[1,0],[0,1]])"
   ]
  },
  {
   "cell_type": "code",
   "execution_count": 12,
   "metadata": {},
   "outputs": [
    {
     "name": "stdout",
     "output_type": "stream",
     "text": [
      "[[1 1 0]\n",
      " [1 0 1]]\n"
     ]
    }
   ],
   "source": [
    "B_transpose = np.transpose(B)\n",
    "print(B_transpose)"
   ]
  },
  {
   "cell_type": "markdown",
   "metadata": {},
   "source": [
    "### 7. A &or; B"
   ]
  },
  {
   "cell_type": "markdown",
   "metadata": {},
   "source": [
    " \\begin{pmatrix} 1 & 1  \\\\ 1 & 0  \\\\ 1 & 1  \\end{pmatrix}"
   ]
  },
  {
   "cell_type": "markdown",
   "metadata": {},
   "source": [
    "### 8. A &and; B"
   ]
  },
  {
   "cell_type": "markdown",
   "metadata": {},
   "source": [
    " \\begin{pmatrix} 1 & 1  \\\\ 1 & 0  \\\\ 0 & 0  \\end{pmatrix}"
   ]
  },
  {
   "cell_type": "markdown",
   "metadata": {},
   "source": [
    "### 9. $C \\times A$ (Boolean matrix multiplication)"
   ]
  },
  {
   "cell_type": "markdown",
   "metadata": {},
   "source": [
    "$\\begin{pmatrix} 1 & 0 \\\\ 1 & 1\\\\ 1 & 1 \\end{pmatrix}$"
   ]
  },
  {
   "cell_type": "markdown",
   "metadata": {},
   "source": [
    "### 10. Draw a $5 \\times 5$ Identify matrix"
   ]
  },
  {
   "cell_type": "markdown",
   "metadata": {},
   "source": [
    "$ \\begin{pmatrix} 1 & 0  & 0 & 0 & 0 \n",
    "               \\\\ 0 & 1  & 0 & 0 & 0\n",
    "               \\\\ 0 & 0  & 1 & 0 & 0\n",
    "               \\\\ 0 & 0  & 0 & 1 & 0\n",
    "               \\\\ 0 & 0  & 0 & 0 & 1\n",
    "\\end{pmatrix}$"
   ]
  },
  {
   "cell_type": "code",
   "execution_count": 18,
   "metadata": {},
   "outputs": [
    {
     "data": {
      "text/plain": [
       "array([[1., 0., 0., 0., 0.],\n",
       "       [0., 1., 0., 0., 0.],\n",
       "       [0., 0., 1., 0., 0.],\n",
       "       [0., 0., 0., 1., 0.],\n",
       "       [0., 0., 0., 0., 1.]])"
      ]
     },
     "execution_count": 18,
     "metadata": {},
     "output_type": "execute_result"
    }
   ],
   "source": [
    "np.eye(5)"
   ]
  },
  {
   "cell_type": "markdown",
   "metadata": {},
   "source": [
    "## 2. If A is a symmetric matrix, find u, v, and w: "
   ]
  },
  {
   "cell_type": "markdown",
   "metadata": {},
   "source": [
    "$A = \\begin{pmatrix} 2 & w  & u \\\\ 7 & 0 & v \\\\ 1 & -3 & 4 \\end{pmatrix}$"
   ]
  },
  {
   "cell_type": "markdown",
   "metadata": {},
   "source": [
    "w = 7 <br>\n",
    "u = 1 <br>\n",
    "v = -3 <br>"
   ]
  },
  {
   "cell_type": "markdown",
   "metadata": {},
   "source": [
    "## 3. If A is a $n \\times n$ invertible matrix, please use gaussian elimination method to find $A^{-1}$\n"
   ]
  },
  {
   "cell_type": "markdown",
   "metadata": {},
   "source": [
    "$A = \\begin{pmatrix} 2 & w  & u \\\\ 7 & 0 & v \\\\ 1 & -3 & 4 \\end{pmatrix}$"
   ]
  },
  {
   "cell_type": "code",
   "execution_count": 19,
   "metadata": {},
   "outputs": [
    {
     "name": "stdout",
     "output_type": "stream",
     "text": [
      "[[ 2  7  1]\n",
      " [ 7  0 -3]\n",
      " [ 1 -3  4]]\n"
     ]
    }
   ],
   "source": [
    "A = np.array([[2,7,1],[7,0,-3],[1,-3,4]])\n",
    "print(A)"
   ]
  },
  {
   "cell_type": "code",
   "execution_count": 20,
   "metadata": {},
   "outputs": [
    {
     "name": "stdout",
     "output_type": "stream",
     "text": [
      "[[1. 0. 0.]\n",
      " [0. 1. 0.]\n",
      " [0. 0. 1.]]\n"
     ]
    }
   ],
   "source": [
    "I = np.eye(3)\n",
    "print(I)"
   ]
  },
  {
   "cell_type": "code",
   "execution_count": 21,
   "metadata": {},
   "outputs": [
    {
     "name": "stdout",
     "output_type": "stream",
     "text": [
      "[[ 2.  7.  1.  1.  0.  0.]\n",
      " [ 7.  0. -3.  0.  1.  0.]\n",
      " [ 1. -3.  4.  0.  0.  1.]]\n"
     ]
    }
   ],
   "source": [
    "aut = np.hstack([A,I])\n",
    "print(aut)"
   ]
  },
  {
   "cell_type": "code",
   "execution_count": 22,
   "metadata": {},
   "outputs": [],
   "source": [
    "def gauss_method(aug_mat):\n",
    "    # num of rows/unknown variables\n",
    "    n_row,n_col = aug_mat.shape\n",
    "    for i in range(n_row):\n",
    "            \n",
    "        divisor = aug_mat[i,i]\n",
    "        for j in range(n_col):\n",
    "            aug_mat[i,j] /= divisor\n",
    "            \n",
    "        for j in range(n_row):\n",
    "            if j != i:\n",
    "                multiplier = -aug_mat[j,i]\n",
    "                aug_mat[j,:] += multiplier*aug_mat[i,:]\n",
    "    return aug_mat"
   ]
  },
  {
   "cell_type": "code",
   "execution_count": 23,
   "metadata": {},
   "outputs": [
    {
     "name": "stdout",
     "output_type": "stream",
     "text": [
      "[[ 1.          0.          0.          0.03515625  0.12109375  0.08203125]\n",
      " [-0.          1.          0.          0.12109375 -0.02734375 -0.05078125]\n",
      " [ 0.          0.          1.          0.08203125 -0.05078125  0.19140625]]\n"
     ]
    }
   ],
   "source": [
    "print(gauss_method(aut))"
   ]
  },
  {
   "cell_type": "code",
   "execution_count": null,
   "metadata": {},
   "outputs": [],
   "source": []
  }
 ],
 "metadata": {
  "kernelspec": {
   "display_name": "Python 3",
   "language": "python",
   "name": "python3"
  },
  "language_info": {
   "codemirror_mode": {
    "name": "ipython",
    "version": 3
   },
   "file_extension": ".py",
   "mimetype": "text/x-python",
   "name": "python",
   "nbconvert_exporter": "python",
   "pygments_lexer": "ipython3",
   "version": "3.8.5"
  }
 },
 "nbformat": 4,
 "nbformat_minor": 4
}
