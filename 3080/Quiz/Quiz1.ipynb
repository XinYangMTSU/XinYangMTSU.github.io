{
 "cells": [
  {
   "cell_type": "markdown",
   "metadata": {},
   "source": [
    "### 1. Let <br> A = {1,2,3,5,10} <br> B = {2,4,7,8,9} <br> C = {5,8,10} <br> be subsets of S = {1,2,3,4,5,6,7,8,9,10}. Please find <br><Br> <font color=\"blue\">(b)B &cup; A</font>    $\\quad \\quad$ <font color=\"blue\">(b) A - C</font> $\\quad \\quad$ <font color=\"blue\">B' &cap; (A &cup; C)</font>\n"
   ]
  },
  {
   "cell_type": "markdown",
   "metadata": {},
   "source": [
    "### 2. Let A = {1,2}, and B = {3,4}. Please<br><br><font color=\"blue\">(a) Find A $\\times$ B</font> $\\quad \\quad$ <font color=\"blue\">(b)Find B $\\times$ A</font>\n"
   ]
  },
  {
   "cell_type": "markdown",
   "metadata": {},
   "source": [
    "### 3. How many three-letter words (not nescessarily meaningful) can be formed  from the word \"compiler\" if no letters can be repeated?"
   ]
  },
  {
   "cell_type": "markdown",
   "metadata": {},
   "source": [
    "### 4. How many 5-card poker hands are possible with a 52-card deck?"
   ]
  },
  {
   "cell_type": "markdown",
   "metadata": {},
   "source": [
    "### 5. Select all the statements in the following list"
   ]
  },
  {
   "cell_type": "markdown",
   "metadata": {},
   "source": [
    "(1) Be sure to wash your dishes after eating <br>\n",
    "(2) Will there be tacos for dinner? <br>\n",
    "(3) There are life forms on Jupiter. <br>\n",
    "(4) 2 + 4 = 82 <br>"
   ]
  },
  {
   "cell_type": "code",
   "execution_count": null,
   "metadata": {},
   "outputs": [],
   "source": []
  },
  {
   "cell_type": "markdown",
   "metadata": {},
   "source": [
    "### 6. How many rows will be in a truth table of a wff that contains 6 variables?"
   ]
  },
  {
   "cell_type": "markdown",
   "metadata": {},
   "source": [
    "A. 12 <br>\n",
    "B. 64 <Br>\n",
    "C. 32 <Br>\n",
    "D. 6 <Br>"
   ]
  },
  {
   "cell_type": "code",
   "execution_count": null,
   "metadata": {},
   "outputs": [],
   "source": []
  },
  {
   "cell_type": "markdown",
   "metadata": {},
   "source": [
    "### 7. Negate the following:"
   ]
  },
  {
   "cell_type": "markdown",
   "metadata": {},
   "source": [
    " (1) A &or; B <br>\n",
    " (2) You did not pass the class and you did not fail. <br>\n",
    " (3) A &rarr; B"
   ]
  },
  {
   "cell_type": "markdown",
   "metadata": {},
   "source": [
    "### 8. Construct the truth tables for the following wffs. "
   ]
  },
  {
   "cell_type": "markdown",
   "metadata": {},
   "source": [
    "(1) (A &or; B)' <br>\n",
    "(2) A' &and; B' <br>\n",
    "(3) (A &rarr; B) &harr; (A' &or; B)' <br>\n",
    "(4) A &or; B &harr; (A' &rarr; B) <br>"
   ]
  },
  {
   "cell_type": "code",
   "execution_count": null,
   "metadata": {},
   "outputs": [],
   "source": []
  },
  {
   "cell_type": "markdown",
   "metadata": {},
   "source": [
    "### 9. List all wff in #3 that are tautologies or contradictions. "
   ]
  },
  {
   "cell_type": "code",
   "execution_count": null,
   "metadata": {},
   "outputs": [],
   "source": []
  },
  {
   "cell_type": "markdown",
   "metadata": {},
   "source": [
    "### 10. List all paris of wffs in #3 that are equivalent"
   ]
  },
  {
   "cell_type": "code",
   "execution_count": null,
   "metadata": {},
   "outputs": [],
   "source": []
  },
  {
   "cell_type": "markdown",
   "metadata": {},
   "source": [
    "### 11. Simplify the Boolean expression in the following piece of code"
   ]
  },
  {
   "cell_type": "markdown",
   "metadata": {},
   "source": [
    "if( !( !(x == 2) || (y < z)) || ( (y<z) && (x == 2) ))  <br>\n",
    "{ <Br>\n",
    "  z++; <br>\n",
    "} <Br>"
   ]
  },
  {
   "cell_type": "code",
   "execution_count": null,
   "metadata": {},
   "outputs": [],
   "source": []
  }
 ],
 "metadata": {
  "kernelspec": {
   "display_name": "Python 3",
   "language": "python",
   "name": "python3"
  },
  "language_info": {
   "codemirror_mode": {
    "name": "ipython",
    "version": 3
   },
   "file_extension": ".py",
   "mimetype": "text/x-python",
   "name": "python",
   "nbconvert_exporter": "python",
   "pygments_lexer": "ipython3",
   "version": "3.8.5"
  }
 },
 "nbformat": 4,
 "nbformat_minor": 4
}
