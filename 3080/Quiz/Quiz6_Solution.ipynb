{
 "cells": [
  {
   "cell_type": "markdown",
   "metadata": {},
   "source": [
    "## 1. Please answer questions 1 - 3 using the following graph"
   ]
  },
  {
   "cell_type": "markdown",
   "metadata": {},
   "source": [
    "<img width=\"20%\" src=\"https://www.cs.mtsu.edu/~xyang/3080/images/quiz6_1.png\">"
   ]
  },
  {
   "cell_type": "markdown",
   "metadata": {},
   "source": [
    "<font size=5>\n",
    "1. Give the binary relation for the graph. <br>\n",
    "</font>\n",
    "<font size=4 color=\"blue\">\n",
    "{(1,2), (2,5), (5,3), (3,4), (4,1)} \n",
    "</font>"
   ]
  },
  {
   "cell_type": "markdown",
   "metadata": {},
   "source": [
    "<font size=\"5\">\n",
    "2. Determine how many paths of length 2 there are using the technique described in the book. Show all work <br>\n",
    "</font>\n",
    "\n",
    "<font color=\"blue\" size=4> \n",
    "    \n",
    "$ A = \\begin{pmatrix} 0 & 1  & 0 & 0 & 0 \n",
    "               \\\\ 0 & 0  & 0 & 0 & 1\n",
    "               \\\\ 0 & 0  & 0 & 1 & 0\n",
    "               \\\\ 1 & 0  & 0 & 0 & 0\n",
    "               \\\\ 0 & 0  & 1 & 0 & 0\n",
    "\\end{pmatrix}\n",
    "$\n",
    "\n",
    "</font>\n",
    "\n",
    "<font color=\"blue\" size=4>\n",
    "$A^{(2)} = \\begin{pmatrix} 0 & 1  & 0 & 0 & 0 \n",
    "               \\\\ 0 & 0  & 0 & 0 & 1\n",
    "               \\\\ 0 & 0  & 0 & 1 & 0\n",
    "               \\\\ 1 & 0  & 0 & 0 & 0\n",
    "               \\\\ 0 & 0  & 1 & 0 & 0\n",
    "\\end{pmatrix} \\times \\begin{pmatrix} 0 & 1  & 0 & 0 & 0 \n",
    "               \\\\ 0 & 0  & 0 & 0 & 1\n",
    "               \\\\ 0 & 0  & 0 & 1 & 0\n",
    "               \\\\ 1 & 0  & 0 & 0 & 0\n",
    "               \\\\ 0 & 0  & 1 & 0 & 0\n",
    "\\end{pmatrix} = \\begin{pmatrix} 0 & 0  & 0 & 0 & 1 \n",
    "               \\\\ 0 & 0  & 1 & 0 & 0\n",
    "               \\\\ 1 & 0  & 0 & 0 & 0\n",
    "               \\\\ 0 & 1  & 0 & 0 & 0\n",
    "               \\\\ 0 & 0  & 0 & 1 & 0\n",
    "\\end{pmatrix}\n",
    "$\n",
    "<br>\n",
    "    There are 5 paths of length 2: <br>\n",
    "   (1->2->5) <br>\n",
    "   (2->5->3) <br>\n",
    "   (3->4->1) <br>\n",
    "   (4->1->2) <br>\n",
    "   (5->3->4) <br>\n",
    "</font>"
   ]
  },
  {
   "cell_type": "markdown",
   "metadata": {},
   "source": [
    "<font size=5>\n",
    "3. Using Warshall's algorithm to determine the reachability matrix. Show all work.\n",
    "</font>\n",
    "\n",
    "<font size=4 color=\"blue\">\n",
    "\n",
    "$ \n",
    "M_0 = \\begin{pmatrix} 0 & 1  & 0 & 0 & 0 \n",
    "               \\\\ 0 & 0  & 0 & 0 & 1\n",
    "               \\\\ 0 & 0  & 0 & 1 & 0\n",
    "               \\\\ 1 & 0  & 0 & 0 & 0\n",
    "               \\\\ 0 & 0  & 1 & 0 & 0\n",
    "\\end{pmatrix}\n",
    "$\n",
    "  \n",
    "$ \n",
    "M_1 = \\begin{pmatrix} 0 & 1  & 0 & 0 & 0 \n",
    "               \\\\ 0 & 0  & 0 & 0 & 1\n",
    "               \\\\ 0 & 0  & 0 & 1 & 0\n",
    "               \\\\ 1 & 1  & 0 & 0 & 0\n",
    "               \\\\ 0 & 0  & 1 & 0 & 0\n",
    "\\end{pmatrix}\n",
    "$    \n",
    "    \n",
    "$ \n",
    "M_2 = \\begin{pmatrix} 0 & 1  & 0 & 0 & 1 \n",
    "               \\\\ 0 & 0  & 0 & 0 & 1\n",
    "               \\\\ 0 & 0  & 0 & 1 & 0\n",
    "               \\\\ 1 & 1  & 0 & 0 & 1\n",
    "               \\\\ 0 & 0  & 1 & 0 & 0\n",
    "\\end{pmatrix}\n",
    "$ \n",
    "    \n",
    "$ \n",
    "M_3 = \\begin{pmatrix} 0 & 1  & 0 & 0 & 1 \n",
    "               \\\\ 0 & 0  & 0 & 0 & 1\n",
    "               \\\\ 0 & 0  & 0 & 1 & 0\n",
    "               \\\\ 1 & 1  & 0 & 0 & 1\n",
    "               \\\\ 0 & 0  & 1 & 1 & 0\n",
    "\\end{pmatrix}\n",
    "$ \n",
    "  \n",
    "$ \n",
    "M_4 = \\begin{pmatrix} 0 & 1  & 0 & 0 & 1 \n",
    "               \\\\ 0 & 0  & 0 & 0 & 1\n",
    "               \\\\ 1 & 1  & 0 & 1 & 1\n",
    "               \\\\ 1 & 1  & 0 & 0 & 1\n",
    "               \\\\ 1 & 1  & 1 & 1 & 1\n",
    "\\end{pmatrix}\n",
    "$ \n",
    "    \n",
    "$ \n",
    "R = M_5 = \\begin{pmatrix} 1 & 1  & 1 & 1 & 1\n",
    "               \\\\ 1 & 1  & 1 & 1 & 1\n",
    "               \\\\ 1 & 1  & 1 & 1 & 1\n",
    "               \\\\ 1 & 1  & 1 & 1 & 1\n",
    "               \\\\ 1 & 1  & 1 & 1 & 1\n",
    "\\end{pmatrix}\n",
    "$ \n",
    "</font>\n"
   ]
  },
  {
   "cell_type": "markdown",
   "metadata": {},
   "source": [
    "## 2. Please answer questions 4 - 5 using the following graphs."
   ]
  },
  {
   "cell_type": "markdown",
   "metadata": {},
   "source": [
    "<img width=\"60%\" src=\"https://www.cs.mtsu.edu/~xyang/3080/images/quiz6_2.png\">"
   ]
  },
  {
   "cell_type": "markdown",
   "metadata": {},
   "source": [
    "4. Write EP beside each graph with an Euler Path, then pick one and write the path beside the graph (label it, please).\n",
    "5. Write HC beside each graph with a Hamiltonian Circuit, then pick one and write the circuit beside the graph (label it, please)."
   ]
  },
  {
   "cell_type": "markdown",
   "metadata": {},
   "source": [
    "<font size=4 color=\"blue\">\n",
    "The answer is in the graph.\n",
    "</font>"
   ]
  },
  {
   "cell_type": "markdown",
   "metadata": {},
   "source": [
    "## 3. Use the Dijkstra's algorithm to find the shortest path from <b><font color=\"blue\">1 to 3</font></b> and the length of that path in the following graph. Show all work."
   ]
  },
  {
   "cell_type": "markdown",
   "metadata": {},
   "source": [
    "<img width=\"40%\" src=\"https://www.cs.mtsu.edu/~xyang/3080/images/quiz6_3.png\">"
   ]
  },
  {
   "cell_type": "markdown",
   "metadata": {},
   "source": [
    "<img width=\"70%\" src=\"https://www.cs.mtsu.edu/~xyang/3080/Quiz/q6_3.jpeg\">"
   ]
  },
  {
   "cell_type": "markdown",
   "metadata": {},
   "source": [
    "## 4. Using the following graph to answer questions 6 and 7."
   ]
  },
  {
   "cell_type": "markdown",
   "metadata": {},
   "source": [
    "<img width=\"30%\" src=\"https://www.cs.mtsu.edu/~xyang/3080/images/quiz6_4.png\">"
   ]
  },
  {
   "cell_type": "markdown",
   "metadata": {},
   "source": [
    "6. Do a Depth First Search on the graph beginning at node a. <br>\n",
    "<font color=\"blue\" size=4>\n",
    "a b c f j g d e h k i\n",
    "</font>"
   ]
  },
  {
   "cell_type": "markdown",
   "metadata": {},
   "source": [
    "7. Do a Breadth First Search on the graph beginning at node a. <br>\n",
    "<font color=\"blue\" size=4>\n",
    "a b c d e f g h i j k\n",
    "</font>"
   ]
  },
  {
   "cell_type": "code",
   "execution_count": null,
   "metadata": {},
   "outputs": [],
   "source": []
  }
 ],
 "metadata": {
  "kernelspec": {
   "display_name": "Python 3",
   "language": "python",
   "name": "python3"
  },
  "language_info": {
   "codemirror_mode": {
    "name": "ipython",
    "version": 3
   },
   "file_extension": ".py",
   "mimetype": "text/x-python",
   "name": "python",
   "nbconvert_exporter": "python",
   "pygments_lexer": "ipython3",
   "version": "3.8.5"
  }
 },
 "nbformat": 4,
 "nbformat_minor": 4
}
