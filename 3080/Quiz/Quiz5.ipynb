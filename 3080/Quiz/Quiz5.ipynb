{
 "cells": [
  {
   "cell_type": "markdown",
   "metadata": {},
   "source": [
    "## 1. Please answer questions 1 - 7 using the following graphs."
   ]
  },
  {
   "cell_type": "markdown",
   "metadata": {},
   "source": [
    "<img width=\"40%\" src=\"q1.png\">"
   ]
  },
  {
   "cell_type": "markdown",
   "metadata": {},
   "source": [
    "1. Which of the graphs have loops?\n",
    "2. Which of the graphs are simple?\n",
    "3. Which graphs are complete?\n",
    "4. Which graphs are connected?\n",
    "5. Which graphs are acyclic?\n",
    "6. Which graphs are bipartite complete?\n",
    "7. Which paris of graphs are isomorphic?"
   ]
  },
  {
   "cell_type": "code",
   "execution_count": null,
   "metadata": {},
   "outputs": [],
   "source": [
    " "
   ]
  },
  {
   "cell_type": "markdown",
   "metadata": {},
   "source": [
    "## 2. Please answer questions 8 - 10 using the following graph."
   ]
  },
  {
   "cell_type": "markdown",
   "metadata": {},
   "source": [
    "<img width=\"15%\" src=\"q2.png\">"
   ]
  },
  {
   "cell_type": "markdown",
   "metadata": {},
   "source": [
    "8. Give the adjacency matrix representation for the graph.\n",
    "9. Give the adjacency list representation for the graph.\n",
    "10. Give the array-pointer representation for the graph."
   ]
  },
  {
   "cell_type": "code",
   "execution_count": null,
   "metadata": {},
   "outputs": [],
   "source": []
  },
  {
   "cell_type": "markdown",
   "metadata": {},
   "source": [
    "## 3. Please answer questions 1 - 10 using the following graph."
   ]
  },
  {
   "cell_type": "markdown",
   "metadata": {},
   "source": [
    "<img width=\"70%\" src=\"https://www.cs.mtsu.edu/~xyang/3080/Quiz/q1.png\">"
   ]
  },
  {
   "cell_type": "markdown",
   "metadata": {},
   "source": [
    "1. Which of the above are trees?\n",
    "2. Draw a complete binary tree that is not full with at least 3 nodes.\n",
    "Number the nodes.\n",
    "3. What is the depth of the binary tree you draw?\n",
    "4. Name a leaf.\n",
    "5. What is the root?\n",
    "6. Give the pointer representation for your tree of #2.\n",
    "7. Give the left child-right child array representation for your tree of #2.\n",
    "8. Give the algebraic expression tree for the expression $(4x+7y)*(3z-2x)$.\n",
    "9. Give the prefix and postfix notaions for the expression in #8."
   ]
  },
  {
   "cell_type": "code",
   "execution_count": null,
   "metadata": {},
   "outputs": [],
   "source": []
  },
  {
   "cell_type": "markdown",
   "metadata": {},
   "source": [
    "## 4. Any algorithm that solves the <font color=\"blue\">search problem</font> for a <font color=\"red\">957</font> element list by comparing the target element x to the list items must do at least ___________ comparisons."
   ]
  },
  {
   "cell_type": "code",
   "execution_count": null,
   "metadata": {},
   "outputs": [],
   "source": []
  },
  {
   "cell_type": "markdown",
   "metadata": {},
   "source": [
    "## 5. Any algorithm that <font color=\"blue\">sorts</font> a <font color=\"red\">6</font> element list by comparing pairs of items from the list must do at least ____________ comparisions in the worst case."
   ]
  },
  {
   "cell_type": "code",
   "execution_count": null,
   "metadata": {},
   "outputs": [],
   "source": []
  },
  {
   "cell_type": "markdown",
   "metadata": {},
   "source": [
    "## 6. Given the following code, decode the received bit string: \n",
    "1110100110"
   ]
  },
  {
   "cell_type": "markdown",
   "metadata": {},
   "source": [
    " <pre>\n",
    " a     b      c     d     e \n",
    "100   111    101   110    0\n",
    "</pre>\n"
   ]
  },
  {
   "cell_type": "code",
   "execution_count": null,
   "metadata": {},
   "outputs": [],
   "source": []
  },
  {
   "cell_type": "markdown",
   "metadata": {},
   "source": [
    "## 7. Given the following tree, give the code words for the characters: a, b, c, and d."
   ]
  },
  {
   "cell_type": "markdown",
   "metadata": {},
   "source": [
    "<img width=\"15%\" src=\"q3.png\">"
   ]
  },
  {
   "cell_type": "code",
   "execution_count": null,
   "metadata": {},
   "outputs": [],
   "source": []
  },
  {
   "cell_type": "markdown",
   "metadata": {},
   "source": [
    "## 8. Construct the huffman tree for the following characters and their associated frequencies.\n",
    "<pre>\n",
    "    character    a   b   c   d\n",
    "    frequency    35  11  45  9\n",
    "</pre>\n",
    "\n",
    "1. Please construct the huffman tree for the above characters and associated frequencies.\n",
    "2. Please write the code words for the characters a, b, c, and d.\n",
    "3. Please encode the word <b><font color=\"blue\">cab</font></b> using the huffman code.\n",
    "4. If the file containing 100 characters consisted of the above characters and associated freuencies. How many bits would be needed to store using the associated huffman code?"
   ]
  },
  {
   "cell_type": "code",
   "execution_count": null,
   "metadata": {},
   "outputs": [],
   "source": []
  },
  {
   "cell_type": "code",
   "execution_count": null,
   "metadata": {},
   "outputs": [],
   "source": []
  }
 ],
 "metadata": {
  "kernelspec": {
   "display_name": "Python 3",
   "language": "python",
   "name": "python3"
  },
  "language_info": {
   "codemirror_mode": {
    "name": "ipython",
    "version": 3
   },
   "file_extension": ".py",
   "mimetype": "text/x-python",
   "name": "python",
   "nbconvert_exporter": "python",
   "pygments_lexer": "ipython3",
   "version": "3.8.5"
  }
 },
 "nbformat": 4,
 "nbformat_minor": 4
}
