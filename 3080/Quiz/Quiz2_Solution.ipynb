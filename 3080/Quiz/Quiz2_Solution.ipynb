{
 "cells": [
  {
   "cell_type": "markdown",
   "metadata": {},
   "source": [
    "### 1. Disprove the following:"
   ]
  },
  {
   "cell_type": "markdown",
   "metadata": {},
   "source": [
    "Every animal with wings is a brid."
   ]
  },
  {
   "cell_type": "markdown",
   "metadata": {},
   "source": [
    "Bats are not birds"
   ]
  },
  {
   "cell_type": "markdown",
   "metadata": {},
   "source": [
    "### 2. Give a direct proof of the following:"
   ]
  },
  {
   "cell_type": "markdown",
   "metadata": {},
   "source": [
    "if $ 4x^2 - 16x + 16 = 0$, then $x = 2 $"
   ]
  },
  {
   "cell_type": "markdown",
   "metadata": {},
   "source": [
    "P: $4x^2 - 16x + 16 = 0$ <br>\n",
    "Q: $x = 2$ <br>\n",
    "P &rarr; Q <br>\n",
    "\n",
    "Proof: <br><br>\n",
    "$4x^2 - 16x + 16 = 0$ (hypothesis)<br>\n",
    "$4(x^2 - 4x + 4) = 0$ (algebra)<br>\n",
    "$x^2 - 4x + 4 = 0$ (algebra)<br>\n",
    "$(x-2)^2 = 0$ (algebra)<br>\n",
    "$x-2 = 0$ (algebra)<br>\n",
    "$x = 2$ (algebra)<br>"
   ]
  },
  {
   "cell_type": "markdown",
   "metadata": {},
   "source": [
    "### 3. Give a proof by contrapositive of the following"
   ]
  },
  {
   "cell_type": "markdown",
   "metadata": {},
   "source": [
    "if $x - 2 > 0$, then $x > 0$ (be very careful!)"
   ]
  },
  {
   "cell_type": "markdown",
   "metadata": {},
   "source": [
    "P: $x - 2 > 0$ <br>\n",
    "Q: $x > 0$ <br>\n",
    "P -> Q <br> <br>\n",
    "Q': $x <= 0$ <br>\n",
    "P': $x -2 <= 0$ <br>\n",
    "Q' -> P' <Br>"
   ]
  },
  {
   "cell_type": "markdown",
   "metadata": {},
   "source": [
    "x <= 0 <br>\n",
    "x - 2 <= 0 - 2 (algebra)<br>\n",
    "x - 2 <=  - 2 (algebra)<br>\n",
    "x - 2 <=  0 (algebra)<br>"
   ]
  },
  {
   "cell_type": "markdown",
   "metadata": {},
   "source": [
    "### 4. Give a proof by contradiction of the following:"
   ]
  },
  {
   "cell_type": "markdown",
   "metadata": {},
   "source": [
    "if $2x^2 - 8x + 8 = 0$, then $x$ &ne; $3$"
   ]
  },
  {
   "cell_type": "markdown",
   "metadata": {},
   "source": [
    "P: $2x^2 - 8x + 8 = 0$ <br>\n",
    "Q: $x$ &ne; $3$ <br>\n",
    "P -> Q <BR>\n",
    "    \n",
    "Q': $x = 3$ <Br>\n",
    "P &and; Q' -> 0 <br>"
   ]
  },
  {
   "cell_type": "markdown",
   "metadata": {},
   "source": [
    "Proof by contradiction: <Br> <br>\n",
    "$2x^2 - 8x + 8 = 0$ (hypothesis) <br>\n",
    "$x = 3$ (hypothesis) <br>\n",
    "$2*3^2 - 8*3 + 8 = 0$ <br>\n",
    "$2*9 - 8*3 + 8 = 0$ <br>\n",
    "$18 - 24 + 8 = 0$ <br>\n",
    "$2 = 0$ (contradiction)<br>"
   ]
  },
  {
   "cell_type": "markdown",
   "metadata": {},
   "source": [
    "### 5. Give an exhaustive proof of the following:"
   ]
  },
  {
   "cell_type": "markdown",
   "metadata": {},
   "source": [
    "if $0 < x < 5$, then $2x^2 + 1 > 2$"
   ]
  },
  {
   "cell_type": "markdown",
   "metadata": {},
   "source": [
    "<table>\n",
    "    <tr style=\"border:1px solid black;\">\n",
    "        <th style=\"border:1px solid black;\">$x$</th>\n",
    "        <th style=\"border:1px solid black;\">$2x^2+1$</th>\n",
    "        <th style=\"border:1px solid black;\">$2x^2+1 > 2$</th>\n",
    "    </tr>\n",
    "    <tr style=\"border:1px solid black;\">\n",
    "        <th style=\"border:1px solid black;\">$1$</th>\n",
    "        <th style=\"border:1px solid black;\">$3$</th>\n",
    "        <th style=\"border:1px solid black;\">$Yes$</th>\n",
    "    </tr>\n",
    "    <tr style=\"border:1px solid black;\">\n",
    "        <th style=\"border:1px solid black;\">$2$</th>\n",
    "        <th style=\"border:1px solid black;\">$9$</th>\n",
    "        <th style=\"border:1px solid black;\">$Yes$</th>\n",
    "    </tr>\n",
    "    <tr style=\"border:1px solid black;\">\n",
    "        <th style=\"border:1px solid black;\">$3$</th>\n",
    "        <th style=\"border:1px solid black;\">$19$</th>\n",
    "        <th style=\"border:1px solid black;\">$Yes$</th>\n",
    "    </tr>\n",
    "    <tr style=\"border:1px solid black;\">\n",
    "        <th style=\"border:1px solid black;\">$4$</th>\n",
    "        <th style=\"border:1px solid black;\">$33$</th>\n",
    "        <th style=\"border:1px solid black;\">$Yes$</th>\n",
    "    </tr>\n",
    "</table>"
   ]
  },
  {
   "cell_type": "markdown",
   "metadata": {},
   "source": [
    "### 6. Prove by mathematical induction that the following is true. Show all work."
   ]
  },
  {
   "cell_type": "markdown",
   "metadata": {},
   "source": [
    "$1^2 + 2^2 + \\dots + n^2 = \\frac{n(n+1)(2n+1)}{6}$, $n$ &ge; $2$"
   ]
  },
  {
   "cell_type": "markdown",
   "metadata": {},
   "source": [
    "Base step: <br>\n",
    "P(2): <br>\n",
    "left side: $1^2 + 2^2 = 5$ <br>\n",
    "right side: $\\frac{2*(2+1)*(2*2+1)}{6} = \\frac{2*3*5}{6} = 5 $ <br>\n",
    "P(2) is true."
   ]
  },
  {
   "cell_type": "markdown",
   "metadata": {},
   "source": [
    "Induction step: P(k) -> P(k+1)"
   ]
  },
  {
   "cell_type": "markdown",
   "metadata": {},
   "source": [
    "P(k): $1^2 + 2^2 + \\dots + k^2 = \\frac{k(k+1)(2k+1)}{6}$"
   ]
  },
  {
   "cell_type": "markdown",
   "metadata": {},
   "source": [
    "Proof: <br>\n",
    "P(k+1): $1^2 + 2^2 + \\dots + k^2 + (k+1)^2 = \\frac{(k+1)(k+1+1)(2(k+1)+1)}{6} $ <br> "
   ]
  },
  {
   "cell_type": "markdown",
   "metadata": {},
   "source": [
    "$ 1^2 + 2^2 + \\dots + k^2 = \\frac{k(k+1)(2k+1)}{6}$ (hypothesis) <br>\n",
    "$ 1^2 + 2^2 + \\dots + k^2 + (k+1)^2= \\frac{k(k+1)(2k+1)}{6} + (k+1)^2$ (algebra) <br>\n",
    "$ 1^2 + 2^2 + \\dots + k^2 + (k+1)^2= \\frac{(k(k+1)(2k+1)+6(k+1)^2)}{6}$ (algebra) <br>\n",
    "$ 1^2 + 2^2 + \\dots + k^2 + (k+1)^2= \\frac{(k+1)(k(2k+1)+6(k+1))}{6}$ (algebra) <br>\n",
    "$ 1^2 + 2^2 + \\dots + k^2 + (k+1)^2= \\frac{(k+1)(2k^2+k+6k+6)}{6}$ (algebra) <br>\n",
    "$ 1^2 + 2^2 + \\dots + k^2 + (k+1)^2= \\frac{(k+1)(2k^2+7k+6)}{6}$ (algebra) <br>\n",
    "$ 1^2 + 2^2 + \\dots + k^2 + (k+1)^2= \\frac{(k+1)(k+2)(2k+3)}{6}$ (algebra) <br>\n",
    "$ 1^2 + 2^2 + \\dots + k^2 + (k+1)^2= \\frac{(k+1)(k+1+1)(2(k+1)+1)}{6}$ (algebra) <br>\n",
    "P(k) &rarr; P(k+1) is true<br>"
   ]
  },
  {
   "cell_type": "code",
   "execution_count": null,
   "metadata": {},
   "outputs": [],
   "source": []
  }
 ],
 "metadata": {
  "kernelspec": {
   "display_name": "Python 3",
   "language": "python",
   "name": "python3"
  },
  "language_info": {
   "codemirror_mode": {
    "name": "ipython",
    "version": 3
   },
   "file_extension": ".py",
   "mimetype": "text/x-python",
   "name": "python",
   "nbconvert_exporter": "python",
   "pygments_lexer": "ipython3",
   "version": "3.8.5"
  }
 },
 "nbformat": 4,
 "nbformat_minor": 4
}
