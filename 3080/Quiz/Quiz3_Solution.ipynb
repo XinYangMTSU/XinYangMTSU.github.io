{
 "cells": [
  {
   "cell_type": "markdown",
   "metadata": {},
   "source": [
    "## Please answer questions 1 - 5 refer to the following recurrence relation."
   ]
  },
  {
   "cell_type": "markdown",
   "metadata": {},
   "source": [
    "$B(1) = 3$ <br>\n",
    "$B(n) = 2B(n-1)$ for all $n > 1$"
   ]
  },
  {
   "cell_type": "markdown",
   "metadata": {},
   "source": [
    "### 1. Please write the first five terms in the sequence"
   ]
  },
  {
   "cell_type": "markdown",
   "metadata": {},
   "source": [
    "B(1) = 3 <BR>\n",
    "B(2) = 2B(1) = 6  <br>\n",
    "B(3) = 2B(2) = 12 <br>\n",
    "B(4) = 2B(3) = 24 <br>    \n",
    "B(5) = 2B(4) = 48 <br>  "
   ]
  },
  {
   "cell_type": "markdown",
   "metadata": {},
   "source": [
    "### 2. Write the python cody of a recursive function to solve the relation above"
   ]
  },
  {
   "cell_type": "code",
   "execution_count": 5,
   "metadata": {},
   "outputs": [],
   "source": [
    "def B(n):\n",
    "    if n == 1:\n",
    "        return 3\n",
    "    else:\n",
    "        return 2*B(n-1)"
   ]
  },
  {
   "cell_type": "markdown",
   "metadata": {},
   "source": [
    "### 3. Write a for loop to solve the relation above"
   ]
  },
  {
   "cell_type": "code",
   "execution_count": 14,
   "metadata": {},
   "outputs": [],
   "source": [
    "def Bloop(n):\n",
    "        if n == 1:\n",
    "            return 3;\n",
    "        else:\n",
    "            B = 3\n",
    "            for i in range(2,n+1):\n",
    "                B = 2*B;\n",
    "            return B"
   ]
  },
  {
   "cell_type": "code",
   "execution_count": 15,
   "metadata": {},
   "outputs": [
    {
     "name": "stdout",
     "output_type": "stream",
     "text": [
      "B( 1 ) =  3\n",
      "B( 2 ) =  6\n",
      "B( 3 ) =  12\n",
      "B( 4 ) =  24\n",
      "B( 5 ) =  48\n"
     ]
    }
   ],
   "source": [
    "for i in range (1,6):\n",
    "    print(\"B(\",i,\") = \", Bloop(i))"
   ]
  },
  {
   "cell_type": "markdown",
   "metadata": {},
   "source": [
    "### 4. Use the expand-and-guess method to find the solution to the relation"
   ]
  },
  {
   "cell_type": "markdown",
   "metadata": {},
   "source": [
    "B = 3 <Br>\n",
    "B(n) = 2B(n-1) <br>        B(n-(n-2))  B(1)\n",
    "\n",
    "$ B(n) = 2B(n-1) = 2^1B(n-1) $ <br>\n",
    "$ B(n) = 2(2*B(n-2)) = 2^2B(n-2) $<Br> \n",
    "$ B(n) = 2(2*(2*B(n-3))) = 2^3B(n-3) $ <br>\n",
    "$ \\dots $ <Br>\n",
    "$ B(n) = 2^{n-2}B(n-(n-2)) = 2^{n-2}B(2) $ <br>\n",
    "$ B(n) = 2^{n-1}B(n-(n-1)) = 2^{n-1}B(1) $ <br>\n",
    "    \n",
    "$B(n) = 3*2^{n-1}$"
   ]
  },
  {
   "cell_type": "markdown",
   "metadata": {},
   "source": [
    "### 5. Please find the closed form solution using the linear, first-order recurrence relation with constant coefficients formula:\n",
    "$$ S(n) = c^{n-1}S(1) + \\sum\\limits_{i=2}^nc^{n-i}g(i) $$"
   ]
  },
  {
   "cell_type": "code",
   "execution_count": null,
   "metadata": {},
   "outputs": [],
   "source": [
    "B(1) = 3\n",
    "B(n) = 2*B(n-1) \n",
    "\n",
    "\n",
    "S(n) = cS(n-1) + g(n)\n",
    "c = 2\n",
    "g(n) = 0\n"
   ]
  },
  {
   "cell_type": "markdown",
   "metadata": {},
   "source": [
    "$S(n) = 2^{n-1}*3 + 0 $"
   ]
  },
  {
   "cell_type": "markdown",
   "metadata": {},
   "source": [
    "## Please answer questions 6 - 7 refer to the following recurrence relation."
   ]
  },
  {
   "cell_type": "markdown",
   "metadata": {},
   "source": [
    "$S(1) = 3 $ <br>\n",
    "$S(n) = S(n-1) + n$ for all $n > 1$"
   ]
  },
  {
   "cell_type": "code",
   "execution_count": null,
   "metadata": {},
   "outputs": [],
   "source": []
  },
  {
   "cell_type": "markdown",
   "metadata": {},
   "source": [
    "### 6. Using the formula in Q5, write the formula for the given recurrence relation."
   ]
  },
  {
   "cell_type": "code",
   "execution_count": null,
   "metadata": {},
   "outputs": [],
   "source": [
    "S(1) = 3\n",
    "c = 1\n",
    "g(n) = n"
   ]
  },
  {
   "cell_type": "markdown",
   "metadata": {},
   "source": [
    "$ 1^{n-1}*3 + \\sum_{i=2}^n 1^{n-i}*i $ <br>\n",
    "$ 3 + \\sum_{i=2}^n i $ <br>\n"
   ]
  },
  {
   "cell_type": "markdown",
   "metadata": {},
   "source": [
    "### 7. Simplify the formula in Q6 using summation facts "
   ]
  },
  {
   "cell_type": "markdown",
   "metadata": {},
   "source": [
    "$ 3 + (2 + 3 + ... + n) $ <br>\n",
    "$ 3 - 1 + (1 + 2 + 3 + ... + n) $ <br>\n",
    "$ 2 + \\frac{n(n+1)}{2}$ "
   ]
  },
  {
   "cell_type": "markdown",
   "metadata": {},
   "source": [
    "### Summation Facts"
   ]
  },
  {
   "cell_type": "markdown",
   "metadata": {},
   "source": [
    "(1) $\\sum\\limits_{i=m}^nc = (n-m+1)c$ <br> <br>\n",
    "(2) $\\sum\\limits_{i=m}^nca_i = c\\sum\\limits_{i=m}^na_i$ <br> <br>\n",
    "(3) $\\sum\\limits_{i=1}^ni = \\frac{n(n+1)}{2}$ <br> <br>\n",
    "(4) $\\sum\\limits_{i=1}^ni^2 = \\frac{n(n+1))(2n+1)}{6}$ <br><br>"
   ]
  },
  {
   "cell_type": "code",
   "execution_count": null,
   "metadata": {},
   "outputs": [],
   "source": []
  }
 ],
 "metadata": {
  "kernelspec": {
   "display_name": "Python 3",
   "language": "python",
   "name": "python3"
  },
  "language_info": {
   "codemirror_mode": {
    "name": "ipython",
    "version": 3
   },
   "file_extension": ".py",
   "mimetype": "text/x-python",
   "name": "python",
   "nbconvert_exporter": "python",
   "pygments_lexer": "ipython3",
   "version": "3.8.5"
  }
 },
 "nbformat": 4,
 "nbformat_minor": 4
}
