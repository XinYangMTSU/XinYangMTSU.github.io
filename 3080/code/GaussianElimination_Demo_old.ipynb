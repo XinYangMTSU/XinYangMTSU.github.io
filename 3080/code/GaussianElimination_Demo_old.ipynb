{
 "cells": [
  {
   "cell_type": "markdown",
   "metadata": {},
   "source": [
    "### Reference:\n",
    "https://personal.math.ubc.ca/~pwalls/math-python/linear-algebra/solving-linear-systems/#examples"
   ]
  },
  {
   "cell_type": "code",
   "execution_count": null,
   "metadata": {},
   "outputs": [],
   "source": [
    "#### The operation performed on Gaussian elimination\n",
    "ii. Multiply all the elements in any one row of the matrix by a non-zero scalar.\n",
    "iii. Add a scalar multiple of any one row to another row."
   ]
  },
  {
   "cell_type": "code",
   "execution_count": 2,
   "metadata": {},
   "outputs": [],
   "source": [
    "import numpy as np"
   ]
  },
  {
   "cell_type": "code",
   "execution_count": 3,
   "metadata": {},
   "outputs": [],
   "source": [
    "def add_row(A,k,i,j):\n",
    "    \"Add k times row j to row i in matrix A.\"\n",
    "    n = A.shape[0]\n",
    "    E = np.eye(n)\n",
    "    if i == j:\n",
    "        E[i,i] = k + 1\n",
    "    else:\n",
    "        E[i,j] = k\n",
    "    return E @ A"
   ]
  },
  {
   "cell_type": "code",
   "execution_count": 4,
   "metadata": {},
   "outputs": [],
   "source": [
    "def scale_row(A,k,i):\n",
    "    \"Multiply row i by k in matrix A.\"\n",
    "    n = A.shape[0]\n",
    "    E = np.eye(n)\n",
    "    E[i,i] = k\n",
    "    return E @ A"
   ]
  },
  {
   "cell_type": "code",
   "execution_count": 5,
   "metadata": {},
   "outputs": [],
   "source": [
    "import numpy as np\n",
    "np.set_printoptions(suppress=True)"
   ]
  },
  {
   "cell_type": "markdown",
   "metadata": {},
   "source": [
    "### ===============================\n",
    "### Example 1:\n",
    "### ==============================="
   ]
  },
  {
   "cell_type": "code",
   "execution_count": 45,
   "metadata": {},
   "outputs": [
    {
     "name": "stdout",
     "output_type": "stream",
     "text": [
      "[[   1    1   70]\n",
      " [  24   14 1180]]\n"
     ]
    }
   ],
   "source": [
    "A = np.array([[1,1,70],[24,14,1180]])\n",
    "print(A)"
   ]
  },
  {
   "cell_type": "code",
   "execution_count": 46,
   "metadata": {},
   "outputs": [
    {
     "name": "stdout",
     "output_type": "stream",
     "text": [
      "[[   1.    1.   70.]\n",
      " [   0.  -10. -500.]]\n"
     ]
    }
   ],
   "source": [
    "k = -24\n",
    "j = 0\n",
    "i = 1\n",
    "A1 = add_row(A,k,i,j)\n",
    "print(A1)"
   ]
  },
  {
   "cell_type": "code",
   "execution_count": 47,
   "metadata": {},
   "outputs": [
    {
     "name": "stdout",
     "output_type": "stream",
     "text": [
      "[[ 1.  1. 70.]\n",
      " [ 0.  1. 50.]]\n"
     ]
    }
   ],
   "source": [
    "k = -1/10\n",
    "i = 1\n",
    "A2 = scale_row(A1,k,i)\n",
    "print(A2)"
   ]
  },
  {
   "cell_type": "code",
   "execution_count": 48,
   "metadata": {},
   "outputs": [
    {
     "name": "stdout",
     "output_type": "stream",
     "text": [
      "[[ 1.  0. 20.]\n",
      " [ 0.  1. 50.]]\n"
     ]
    }
   ],
   "source": [
    "k = -1\n",
    "j = 1\n",
    "i = 0\n",
    "A3 = add_row(A2,k,i,j)\n",
    "print(A3)"
   ]
  },
  {
   "cell_type": "code",
   "execution_count": 49,
   "metadata": {},
   "outputs": [
    {
     "name": "stdout",
     "output_type": "stream",
     "text": [
      "[[ 3 -5  5]\n",
      " [ 7  1 37]]\n"
     ]
    }
   ],
   "source": [
    "B = np.array([[3,-5,5],[7,1,37]])\n",
    "print(B)"
   ]
  },
  {
   "cell_type": "code",
   "execution_count": 50,
   "metadata": {},
   "outputs": [
    {
     "name": "stdout",
     "output_type": "stream",
     "text": [
      "[[ 1.         -1.66666667  1.66666667]\n",
      " [ 7.          1.         37.        ]]\n"
     ]
    }
   ],
   "source": [
    "k = 1/3\n",
    "i = 0\n",
    "B1 = scale_row(B,k,i)\n",
    "print(B1)"
   ]
  },
  {
   "cell_type": "code",
   "execution_count": 51,
   "metadata": {},
   "outputs": [
    {
     "name": "stdout",
     "output_type": "stream",
     "text": [
      "[[ 1.         -1.66666667  1.66666667]\n",
      " [ 0.         12.66666667 25.33333333]]\n"
     ]
    }
   ],
   "source": [
    "k = -7\n",
    "j = 0\n",
    "i = 1\n",
    "B2 = add_row(B1,k,i,j)\n",
    "print(B2)"
   ]
  },
  {
   "cell_type": "code",
   "execution_count": 52,
   "metadata": {},
   "outputs": [
    {
     "name": "stdout",
     "output_type": "stream",
     "text": [
      "[[ 1.         -1.66666667  1.66666667]\n",
      " [ 0.          1.          2.        ]]\n"
     ]
    }
   ],
   "source": [
    "k = 1/12.66666667\n",
    "i = 1\n",
    "B3 = scale_row(B2,k,i)\n",
    "print(B3)"
   ]
  },
  {
   "cell_type": "code",
   "execution_count": 53,
   "metadata": {},
   "outputs": [
    {
     "name": "stdout",
     "output_type": "stream",
     "text": [
      "[[1.         0.         5.00000001]\n",
      " [0.         1.         2.        ]]\n"
     ]
    }
   ],
   "source": [
    "k = 1.66666667\n",
    "j = 1\n",
    "i = 0\n",
    "B4 = add_row(B3,k,i,j)\n",
    "print(B4)"
   ]
  },
  {
   "cell_type": "markdown",
   "metadata": {},
   "source": [
    "### ===============================\n",
    "### Example 2:\n",
    "### ==============================="
   ]
  },
  {
   "cell_type": "code",
   "execution_count": 54,
   "metadata": {},
   "outputs": [
    {
     "data": {
      "text/plain": [
       "array([[-1,  2, -3,  1,  0,  0],\n",
       "       [ 2,  1,  0,  0,  1,  0],\n",
       "       [ 4, -2,  5,  0,  0,  1]])"
      ]
     },
     "execution_count": 54,
     "metadata": {},
     "output_type": "execute_result"
    }
   ],
   "source": [
    "P = np.array([[-1, 2, -3, 1, 0, 0],[2, 1, 0, 0 , 1, 0],[4, -2, 5, 0, 0, 1]])\n",
    "P"
   ]
  },
  {
   "cell_type": "code",
   "execution_count": 55,
   "metadata": {},
   "outputs": [
    {
     "name": "stdout",
     "output_type": "stream",
     "text": [
      "[[ 1. -2.  3. -1.  0.  0.]\n",
      " [ 2.  1.  0.  0.  1.  0.]\n",
      " [ 4. -2.  5.  0.  0.  1.]]\n"
     ]
    }
   ],
   "source": [
    "k = -1\n",
    "i = 0\n",
    "P1 = scale_row(P,k,i)\n",
    "print(P1)"
   ]
  },
  {
   "cell_type": "code",
   "execution_count": 56,
   "metadata": {},
   "outputs": [
    {
     "name": "stdout",
     "output_type": "stream",
     "text": [
      "[[ 1. -2.  3. -1.  0.  0.]\n",
      " [ 0.  5. -6.  2.  1.  0.]\n",
      " [ 4. -2.  5.  0.  0.  1.]]\n"
     ]
    }
   ],
   "source": [
    "k = -2\n",
    "j = 0\n",
    "i = 1\n",
    "P2 = add_row(P1,k,i,j)\n",
    "print(P2)"
   ]
  },
  {
   "cell_type": "code",
   "execution_count": 57,
   "metadata": {},
   "outputs": [
    {
     "name": "stdout",
     "output_type": "stream",
     "text": [
      "[[ 1.  -2.   3.  -1.   0.   0. ]\n",
      " [ 0.   1.  -1.2  0.4  0.2  0. ]\n",
      " [ 4.  -2.   5.   0.   0.   1. ]]\n"
     ]
    }
   ],
   "source": [
    "k = 1/5\n",
    "i = 1\n",
    "P3 = scale_row(P2,k,i)\n",
    "print(P3)"
   ]
  },
  {
   "cell_type": "code",
   "execution_count": 58,
   "metadata": {},
   "outputs": [
    {
     "name": "stdout",
     "output_type": "stream",
     "text": [
      "[[ 1.   0.   0.6 -0.2  0.4  0. ]\n",
      " [ 0.   1.  -1.2  0.4  0.2  0. ]\n",
      " [ 4.  -2.   5.   0.   0.   1. ]]\n"
     ]
    }
   ],
   "source": [
    "k = 2\n",
    "j = 1\n",
    "i = 0\n",
    "P4 = add_row(P3,k,i,j)\n",
    "print(P4)"
   ]
  },
  {
   "cell_type": "code",
   "execution_count": 59,
   "metadata": {},
   "outputs": [
    {
     "name": "stdout",
     "output_type": "stream",
     "text": [
      "[[ 1.   0.   0.6 -0.2  0.4  0. ]\n",
      " [ 0.   1.  -1.2  0.4  0.2  0. ]\n",
      " [ 0.  -2.   2.6  0.8 -1.6  1. ]]\n"
     ]
    }
   ],
   "source": [
    "k = -4\n",
    "j = 0\n",
    "i = 2\n",
    "P5 = add_row(P4,k,i,j)\n",
    "print(P5)"
   ]
  },
  {
   "cell_type": "code",
   "execution_count": 60,
   "metadata": {},
   "outputs": [
    {
     "name": "stdout",
     "output_type": "stream",
     "text": [
      "[[ 1.   0.   0.6 -0.2  0.4  0. ]\n",
      " [ 0.   1.  -1.2  0.4  0.2  0. ]\n",
      " [ 0.   0.   0.2  1.6 -1.2  1. ]]\n"
     ]
    }
   ],
   "source": [
    "k = 2\n",
    "j = 1\n",
    "i = 2\n",
    "P6 = add_row(P5,k,i,j)\n",
    "print(P6)"
   ]
  },
  {
   "cell_type": "code",
   "execution_count": 61,
   "metadata": {},
   "outputs": [
    {
     "name": "stdout",
     "output_type": "stream",
     "text": [
      "[[ 1.   0.   0.6 -0.2  0.4  0. ]\n",
      " [ 0.   1.  -1.2  0.4  0.2  0. ]\n",
      " [ 0.   0.   1.   8.  -6.   5. ]]\n"
     ]
    }
   ],
   "source": [
    "k = 1/0.2\n",
    "i = 2\n",
    "P7 = scale_row(P6,k,i)\n",
    "print(P7)"
   ]
  },
  {
   "cell_type": "code",
   "execution_count": 62,
   "metadata": {},
   "outputs": [
    {
     "name": "stdout",
     "output_type": "stream",
     "text": [
      "[[ 1.   0.   0.6 -0.2  0.4  0. ]\n",
      " [ 0.   1.   0.  10.  -7.   6. ]\n",
      " [ 0.   0.   1.   8.  -6.   5. ]]\n"
     ]
    }
   ],
   "source": [
    "k = 1.2\n",
    "j = 2\n",
    "i = 1\n",
    "P8 = add_row(P7,k,i,j)\n",
    "print(P8)"
   ]
  },
  {
   "cell_type": "code",
   "execution_count": 63,
   "metadata": {},
   "outputs": [
    {
     "name": "stdout",
     "output_type": "stream",
     "text": [
      "[[ 1.  0. -0. -5.  4. -3.]\n",
      " [ 0.  1.  0. 10. -7.  6.]\n",
      " [ 0.  0.  1.  8. -6.  5.]]\n"
     ]
    }
   ],
   "source": [
    "k = -0.6\n",
    "j = 2\n",
    "i = 0\n",
    "P9 = add_row(P8,k,i,j)\n",
    "print(P9)"
   ]
  },
  {
   "cell_type": "markdown",
   "metadata": {},
   "source": [
    "### ===========================================\n",
    "### Gaussian Elimination Algorithm in Python\n",
    "### ==========================================="
   ]
  },
  {
   "cell_type": "code",
   "execution_count": 64,
   "metadata": {},
   "outputs": [],
   "source": [
    "def gauss_method(aug_mat):\n",
    "    # num of rows/unknown variables\n",
    "    n_row,n_col = aug_mat.shape\n",
    "    for i in range(n_row):\n",
    "            \n",
    "        divisor = aug_mat[i,i]\n",
    "        for j in range(n_col):\n",
    "            aug_mat[i,j] /= divisor\n",
    "            \n",
    "        for j in range(n_row):\n",
    "            if j != i:\n",
    "                multiplier = -aug_mat[j,i]\n",
    "                aug_mat[j,:] += multiplier*aug_mat[i,:]\n",
    "    return aug_mat"
   ]
  },
  {
   "cell_type": "code",
   "execution_count": 65,
   "metadata": {},
   "outputs": [
    {
     "name": "stdout",
     "output_type": "stream",
     "text": [
      "[[ 1.  0.  0. -4.]\n",
      " [ 0.  1.  0. 11.]\n",
      " [ 0.  0.  1. 19.]]\n"
     ]
    }
   ],
   "source": [
    "import numpy as np\n",
    "a = np.array([[2,-3,  1],\n",
    "              [7, 9, -3],\n",
    "              [6, 7,  2]], dtype = float)\n",
    "\n",
    "b = np.array([[-22], [14], [91]], dtype = float)\n",
    "\n",
    "aug_mat = np.hstack([a,b])\n",
    "\n",
    "print(gauss_method(aug_mat))"
   ]
  },
  {
   "cell_type": "code",
   "execution_count": null,
   "metadata": {},
   "outputs": [],
   "source": []
  },
  {
   "cell_type": "code",
   "execution_count": null,
   "metadata": {},
   "outputs": [],
   "source": []
  }
 ],
 "metadata": {
  "kernelspec": {
   "display_name": "Python 3",
   "language": "python",
   "name": "python3"
  },
  "language_info": {
   "codemirror_mode": {
    "name": "ipython",
    "version": 3
   },
   "file_extension": ".py",
   "mimetype": "text/x-python",
   "name": "python",
   "nbconvert_exporter": "python",
   "pygments_lexer": "ipython3",
   "version": "3.8.5"
  }
 },
 "nbformat": 4,
 "nbformat_minor": 4
}
