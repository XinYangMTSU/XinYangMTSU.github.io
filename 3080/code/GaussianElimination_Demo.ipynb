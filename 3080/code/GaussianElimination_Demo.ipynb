{
 "cells": [
  {
   "cell_type": "markdown",
   "metadata": {},
   "source": [
    "### ==================================================\n",
    "# Gaussian Elimination Algorithm in Python\n",
    "### =================================================="
   ]
  },
  {
   "cell_type": "code",
   "execution_count": 10,
   "metadata": {},
   "outputs": [],
   "source": [
    "def gauss_method(aug_mat):\n",
    "    \n",
    "    # num of rows/unknown variables\n",
    "    n_row,n_col = aug_mat.shape\n",
    "    \n",
    "    for i in range(n_row):\n",
    "            \n",
    "        # get the divisor from the main diagonal\n",
    "        divisor = aug_mat[i,i]\n",
    "        \n",
    "        # change the main diagonal all to 1s\n",
    "        #for each column j in row i:\n",
    "        for j in range(n_col):\n",
    "            aug_mat[i,j] /= divisor ## aug_mat[i,j] = aug_mat[i,j]/divisor\n",
    "            \n",
    "        # use the main diagonal to cancel other elements to 0\n",
    "        #for each row j not equal to i:\n",
    "        for j in range(n_row):\n",
    "            if j != i:\n",
    "                multiplier = -aug_mat[j,i]\n",
    "                aug_mat[j,:] += multiplier*aug_mat[i,:]\n",
    "                \n",
    "    return aug_mat"
   ]
  },
  {
   "cell_type": "code",
   "execution_count": 11,
   "metadata": {},
   "outputs": [
    {
     "data": {
      "text/plain": [
       "array([[  2.,  -3.,   1., -22.],\n",
       "       [  7.,   9.,  -3.,  14.],\n",
       "       [  6.,   7.,   2.,  91.]])"
      ]
     },
     "execution_count": 11,
     "metadata": {},
     "output_type": "execute_result"
    }
   ],
   "source": [
    "x = np.array([[2,-3,1,-22],[7,9,-3,14],[6,7,2,91]], dtype = float)\n",
    "x"
   ]
  },
  {
   "cell_type": "code",
   "execution_count": 13,
   "metadata": {},
   "outputs": [
    {
     "data": {
      "text/plain": [
       "array([-3.,  9.,  7.])"
      ]
     },
     "execution_count": 13,
     "metadata": {},
     "output_type": "execute_result"
    }
   ],
   "source": []
  },
  {
   "cell_type": "markdown",
   "metadata": {},
   "source": [
    "## 1. Solve the system of equations using Gaussian Elimination Algorithm"
   ]
  },
  {
   "cell_type": "markdown",
   "metadata": {},
   "source": [
    "### Example 1:"
   ]
  },
  {
   "cell_type": "code",
   "execution_count": 9,
   "metadata": {},
   "outputs": [
    {
     "data": {
      "text/plain": [
       "array([[  2.,  -3.,   1., -22.],\n",
       "       [  7.,   9.,  -3.,  14.],\n",
       "       [  6.,   7.,   2.,  91.]])"
      ]
     },
     "execution_count": 9,
     "metadata": {},
     "output_type": "execute_result"
    }
   ],
   "source": [
    "import numpy as np\n",
    "\n",
    "x = np.array([[2,-3,1,-22],[7,9,-3,14],[6,7,2,91]], dtype = float)\n",
    "x"
   ]
  },
  {
   "cell_type": "code",
   "execution_count": 6,
   "metadata": {},
   "outputs": [
    {
     "name": "stdout",
     "output_type": "stream",
     "text": [
      "[[ 1.  0.  0. -4.]\n",
      " [ 0.  1.  0. 11.]\n",
      " [ 0.  0.  1. 19.]]\n"
     ]
    }
   ],
   "source": [
    "print(gauss_method(x))"
   ]
  },
  {
   "cell_type": "code",
   "execution_count": 71,
   "metadata": {},
   "outputs": [],
   "source": [
    "x = -4\n",
    "y = 11\n",
    "z = 19"
   ]
  },
  {
   "cell_type": "markdown",
   "metadata": {},
   "source": [
    "### Example 2:"
   ]
  },
  {
   "cell_type": "code",
   "execution_count": 7,
   "metadata": {},
   "outputs": [
    {
     "name": "stdout",
     "output_type": "stream",
     "text": [
      "[[ 3. -5.  5.]\n",
      " [ 7.  1. 37.]]\n"
     ]
    }
   ],
   "source": [
    "aug = np.array([[3,-5,5],[7,1,37]],dtype=float)\n",
    "print(aug)"
   ]
  },
  {
   "cell_type": "code",
   "execution_count": 8,
   "metadata": {},
   "outputs": [
    {
     "name": "stdout",
     "output_type": "stream",
     "text": [
      "[[1. 0. 5.]\n",
      " [0. 1. 2.]]\n"
     ]
    }
   ],
   "source": [
    "print(gauss_method(aug))"
   ]
  },
  {
   "cell_type": "code",
   "execution_count": 74,
   "metadata": {},
   "outputs": [],
   "source": [
    "x = 5\n",
    "y = 2"
   ]
  },
  {
   "cell_type": "markdown",
   "metadata": {},
   "source": [
    "### Example 3:"
   ]
  },
  {
   "cell_type": "code",
   "execution_count": 75,
   "metadata": {},
   "outputs": [
    {
     "name": "stdout",
     "output_type": "stream",
     "text": [
      "[[ 1.  0.  0. -4.]\n",
      " [ 0.  1.  0. 11.]\n",
      " [ 0.  0.  1. 19.]]\n"
     ]
    }
   ],
   "source": [
    "import numpy as np\n",
    "a = np.array([[2,-3,  1],\n",
    "              [7, 9, -3],\n",
    "              [6, 7,  2]], dtype = float)\n",
    "\n",
    "b = np.array([[-22], [14], [91]], dtype = float)\n",
    "\n",
    "aug_mat = np.hstack([a,b])\n",
    "\n",
    "print(gauss_method(aug_mat))"
   ]
  },
  {
   "cell_type": "code",
   "execution_count": 76,
   "metadata": {},
   "outputs": [],
   "source": [
    "aug = np.array([[2,-3,  1, -22],\n",
    "              [7, 9, -3, 14],\n",
    "              [6, 7,  2, 91]], dtype = float)"
   ]
  },
  {
   "cell_type": "code",
   "execution_count": 77,
   "metadata": {},
   "outputs": [
    {
     "name": "stdout",
     "output_type": "stream",
     "text": [
      "[[ 1.  0.  0. -4.]\n",
      " [ 0.  1.  0. 11.]\n",
      " [ 0.  0.  1. 19.]]\n"
     ]
    }
   ],
   "source": [
    "print(gauss_method(aug))"
   ]
  },
  {
   "cell_type": "code",
   "execution_count": null,
   "metadata": {},
   "outputs": [],
   "source": []
  },
  {
   "cell_type": "markdown",
   "metadata": {},
   "source": [
    "## 2. Find the inverse of the Matrix using Gaussian Elimination Algorithm"
   ]
  },
  {
   "cell_type": "markdown",
   "metadata": {},
   "source": [
    "### Practice 1 Demo"
   ]
  },
  {
   "cell_type": "code",
   "execution_count": 78,
   "metadata": {},
   "outputs": [
    {
     "name": "stdout",
     "output_type": "stream",
     "text": [
      "[[-1.  2. -3.]\n",
      " [ 2.  1.  0.]\n",
      " [ 4. -2.  5.]]\n"
     ]
    }
   ],
   "source": [
    "practice1 = np.array([[-1,2,-3],[2,1,0],[4,-2,5]], dtype = float)\n",
    "print(practice1)"
   ]
  },
  {
   "cell_type": "code",
   "execution_count": 79,
   "metadata": {},
   "outputs": [
    {
     "name": "stdout",
     "output_type": "stream",
     "text": [
      "[[1. 0. 0.]\n",
      " [0. 1. 0.]\n",
      " [0. 0. 1.]]\n"
     ]
    }
   ],
   "source": [
    "I3 = np.eye(3,3)\n",
    "print(I3)"
   ]
  },
  {
   "cell_type": "code",
   "execution_count": 81,
   "metadata": {},
   "outputs": [
    {
     "name": "stdout",
     "output_type": "stream",
     "text": [
      "[[-1.  2. -3.  1.  0.  0.]\n",
      " [ 2.  1.  0.  0.  1.  0.]\n",
      " [ 4. -2.  5.  0.  0.  1.]]\n"
     ]
    }
   ],
   "source": [
    "practice1_aug = np.hstack([practice1,I3])\n",
    "print(practice1_aug)"
   ]
  },
  {
   "cell_type": "code",
   "execution_count": 82,
   "metadata": {},
   "outputs": [
    {
     "name": "stdout",
     "output_type": "stream",
     "text": [
      "[[ 1.  0.  0. -5.  4. -3.]\n",
      " [ 0.  1.  0. 10. -7.  6.]\n",
      " [ 0.  0.  1.  8. -6.  5.]]\n"
     ]
    }
   ],
   "source": [
    "print(gauss_method(practice1_aug))"
   ]
  },
  {
   "cell_type": "markdown",
   "metadata": {},
   "source": [
    "### Practice 2 Demo"
   ]
  },
  {
   "cell_type": "code",
   "execution_count": 83,
   "metadata": {},
   "outputs": [
    {
     "name": "stdout",
     "output_type": "stream",
     "text": [
      "[[1. 3.]\n",
      " [2. 2.]]\n"
     ]
    }
   ],
   "source": [
    "practice2 = np.array([[1,3],[2,2]], dtype = float)\n",
    "print(practice2)"
   ]
  },
  {
   "cell_type": "code",
   "execution_count": 84,
   "metadata": {},
   "outputs": [
    {
     "name": "stdout",
     "output_type": "stream",
     "text": [
      "[[1. 0.]\n",
      " [0. 1.]]\n"
     ]
    }
   ],
   "source": [
    "I2 = np.eye(2,2)\n",
    "print(I2)"
   ]
  },
  {
   "cell_type": "code",
   "execution_count": 85,
   "metadata": {},
   "outputs": [
    {
     "name": "stdout",
     "output_type": "stream",
     "text": [
      "[[1. 3. 1. 0.]\n",
      " [2. 2. 0. 1.]]\n"
     ]
    }
   ],
   "source": [
    "practice2_aug = np.hstack([practice2,I2])\n",
    "print(practice2_aug)"
   ]
  },
  {
   "cell_type": "code",
   "execution_count": 86,
   "metadata": {},
   "outputs": [
    {
     "name": "stdout",
     "output_type": "stream",
     "text": [
      "[[ 1.    0.   -0.5   0.75]\n",
      " [-0.    1.    0.5  -0.25]]\n"
     ]
    }
   ],
   "source": [
    "print(gauss_method(practice2_aug))"
   ]
  },
  {
   "cell_type": "code",
   "execution_count": null,
   "metadata": {},
   "outputs": [],
   "source": []
  },
  {
   "cell_type": "code",
   "execution_count": 13,
   "metadata": {},
   "outputs": [],
   "source": [
    "import numpy as np"
   ]
  },
  {
   "cell_type": "code",
   "execution_count": 14,
   "metadata": {},
   "outputs": [],
   "source": [
    "A = np.array([\n",
    "              [1,1],\n",
    "              [1,0],\n",
    "              [1,0]\n",
    "             ])"
   ]
  },
  {
   "cell_type": "code",
   "execution_count": 15,
   "metadata": {},
   "outputs": [
    {
     "data": {
      "text/plain": [
       "array([[1, 1],\n",
       "       [1, 0],\n",
       "       [1, 0]])"
      ]
     },
     "execution_count": 15,
     "metadata": {},
     "output_type": "execute_result"
    }
   ],
   "source": [
    "A"
   ]
  },
  {
   "cell_type": "code",
   "execution_count": 16,
   "metadata": {},
   "outputs": [],
   "source": [
    "B = np.array([[1,1],\n",
    "              [1,0],\n",
    "              [0,1]])"
   ]
  },
  {
   "cell_type": "code",
   "execution_count": 17,
   "metadata": {},
   "outputs": [
    {
     "data": {
      "text/plain": [
       "array([[1, 1],\n",
       "       [1, 0],\n",
       "       [0, 1]])"
      ]
     },
     "execution_count": 17,
     "metadata": {},
     "output_type": "execute_result"
    }
   ],
   "source": [
    "B"
   ]
  },
  {
   "cell_type": "code",
   "execution_count": 18,
   "metadata": {},
   "outputs": [
    {
     "name": "stdout",
     "output_type": "stream",
     "text": [
      "[[2 2]\n",
      " [2 0]\n",
      " [1 1]]\n"
     ]
    }
   ],
   "source": [
    "print(A+B)"
   ]
  },
  {
   "cell_type": "code",
   "execution_count": 19,
   "metadata": {},
   "outputs": [
    {
     "name": "stdout",
     "output_type": "stream",
     "text": [
      "[[ 0  0]\n",
      " [ 0  0]\n",
      " [ 1 -1]]\n"
     ]
    }
   ],
   "source": [
    "print(A-B)"
   ]
  },
  {
   "cell_type": "code",
   "execution_count": 20,
   "metadata": {},
   "outputs": [],
   "source": [
    "C = np.array([\n",
    "            [0,1,1],\n",
    "            [1,1,0],\n",
    "            [1,0,1]\n",
    "])"
   ]
  },
  {
   "cell_type": "code",
   "execution_count": 21,
   "metadata": {},
   "outputs": [],
   "source": [
    "D = np.array([\n",
    "            [-1,2,1],\n",
    "            [1,0,1],\n",
    "            [2,1,4]\n",
    "])"
   ]
  },
  {
   "cell_type": "code",
   "execution_count": 22,
   "metadata": {},
   "outputs": [
    {
     "name": "stdout",
     "output_type": "stream",
     "text": [
      "[[3 1 5]\n",
      " [0 2 2]\n",
      " [1 3 5]]\n"
     ]
    }
   ],
   "source": [
    "print(np.matmul(C,D))"
   ]
  },
  {
   "cell_type": "code",
   "execution_count": 23,
   "metadata": {},
   "outputs": [
    {
     "name": "stdout",
     "output_type": "stream",
     "text": [
      "[[2 2]\n",
      " [2 0]\n",
      " [0 2]]\n"
     ]
    }
   ],
   "source": [
    "print(2*B)"
   ]
  },
  {
   "cell_type": "code",
   "execution_count": 24,
   "metadata": {},
   "outputs": [
    {
     "data": {
      "text/plain": [
       "array([[1, 1],\n",
       "       [1, 0],\n",
       "       [0, 1]])"
      ]
     },
     "execution_count": 24,
     "metadata": {},
     "output_type": "execute_result"
    }
   ],
   "source": [
    "B"
   ]
  },
  {
   "cell_type": "code",
   "execution_count": 25,
   "metadata": {},
   "outputs": [
    {
     "name": "stdout",
     "output_type": "stream",
     "text": [
      "[[1 1 0]\n",
      " [1 0 1]]\n"
     ]
    }
   ],
   "source": [
    "print(np.transpose(B))"
   ]
  },
  {
   "cell_type": "code",
   "execution_count": 26,
   "metadata": {},
   "outputs": [
    {
     "data": {
      "text/plain": [
       "array([[0, 1, 1],\n",
       "       [1, 1, 0],\n",
       "       [1, 0, 1]])"
      ]
     },
     "execution_count": 26,
     "metadata": {},
     "output_type": "execute_result"
    }
   ],
   "source": [
    "C"
   ]
  },
  {
   "cell_type": "code",
   "execution_count": 27,
   "metadata": {},
   "outputs": [
    {
     "data": {
      "text/plain": [
       "array([[1, 1],\n",
       "       [1, 0],\n",
       "       [1, 0]])"
      ]
     },
     "execution_count": 27,
     "metadata": {},
     "output_type": "execute_result"
    }
   ],
   "source": [
    "A"
   ]
  },
  {
   "cell_type": "code",
   "execution_count": 28,
   "metadata": {},
   "outputs": [
    {
     "data": {
      "text/plain": [
       "array([[1., 0., 0., 0., 0.],\n",
       "       [0., 1., 0., 0., 0.],\n",
       "       [0., 0., 1., 0., 0.],\n",
       "       [0., 0., 0., 1., 0.],\n",
       "       [0., 0., 0., 0., 1.]])"
      ]
     },
     "execution_count": 28,
     "metadata": {},
     "output_type": "execute_result"
    }
   ],
   "source": [
    "np.eye(5)"
   ]
  },
  {
   "cell_type": "code",
   "execution_count": 29,
   "metadata": {},
   "outputs": [
    {
     "data": {
      "text/plain": [
       "array([[1., 0.],\n",
       "       [0., 1.]])"
      ]
     },
     "execution_count": 29,
     "metadata": {},
     "output_type": "execute_result"
    }
   ],
   "source": [
    "np.eye(2)"
   ]
  },
  {
   "cell_type": "code",
   "execution_count": 30,
   "metadata": {},
   "outputs": [
    {
     "data": {
      "text/plain": [
       "array([[1., 0., 0.],\n",
       "       [0., 1., 0.],\n",
       "       [0., 0., 1.]])"
      ]
     },
     "execution_count": 30,
     "metadata": {},
     "output_type": "execute_result"
    }
   ],
   "source": [
    "np.eye(3)"
   ]
  },
  {
   "cell_type": "code",
   "execution_count": 31,
   "metadata": {},
   "outputs": [
    {
     "name": "stdout",
     "output_type": "stream",
     "text": [
      "[[ 2  7  1]\n",
      " [ 7  0 -3]\n",
      " [ 1 -3  4]]\n"
     ]
    }
   ],
   "source": [
    "A = np.array([\n",
    "    [2,7,1],\n",
    "    [7,0,-3],\n",
    "    [1,-3,4]\n",
    "])\n",
    "print(A)"
   ]
  },
  {
   "cell_type": "code",
   "execution_count": 32,
   "metadata": {},
   "outputs": [
    {
     "name": "stdout",
     "output_type": "stream",
     "text": [
      "[[1. 0. 0.]\n",
      " [0. 1. 0.]\n",
      " [0. 0. 1.]]\n"
     ]
    }
   ],
   "source": [
    "I = np.eye(3)\n",
    "print(I)"
   ]
  },
  {
   "cell_type": "code",
   "execution_count": 33,
   "metadata": {},
   "outputs": [
    {
     "name": "stdout",
     "output_type": "stream",
     "text": [
      "[[ 2.  7.  1.  1.  0.  0.]\n",
      " [ 7.  0. -3.  0.  1.  0.]\n",
      " [ 1. -3.  4.  0.  0.  1.]]\n"
     ]
    }
   ],
   "source": [
    "A_aug = np.hstack([A,I])\n",
    "print(A_aug)"
   ]
  },
  {
   "cell_type": "code",
   "execution_count": 34,
   "metadata": {},
   "outputs": [
    {
     "name": "stdout",
     "output_type": "stream",
     "text": [
      "[[ 1.          0.          0.          0.03515625  0.12109375  0.08203125]\n",
      " [-0.          1.          0.          0.12109375 -0.02734375 -0.05078125]\n",
      " [ 0.          0.          1.          0.08203125 -0.05078125  0.19140625]]\n"
     ]
    }
   ],
   "source": [
    "print(gauss_method(A_aug))"
   ]
  },
  {
   "cell_type": "code",
   "execution_count": null,
   "metadata": {},
   "outputs": [],
   "source": []
  },
  {
   "cell_type": "code",
   "execution_count": 2,
   "metadata": {},
   "outputs": [],
   "source": [
    "import numpy as np"
   ]
  },
  {
   "cell_type": "code",
   "execution_count": 3,
   "metadata": {},
   "outputs": [
    {
     "name": "stdout",
     "output_type": "stream",
     "text": [
      "[[1 3]\n",
      " [2 2]]\n"
     ]
    }
   ],
   "source": [
    "A = np.array([\n",
    " [1,3],\n",
    " [2,2]\n",
    "])\n",
    "print(A)"
   ]
  },
  {
   "cell_type": "code",
   "execution_count": 6,
   "metadata": {},
   "outputs": [
    {
     "name": "stdout",
     "output_type": "stream",
     "text": [
      "[[1. 0.]\n",
      " [0. 1.]]\n"
     ]
    }
   ],
   "source": [
    "I2b2 = np.eye(2)\n",
    "print(I2b2)"
   ]
  },
  {
   "cell_type": "code",
   "execution_count": 8,
   "metadata": {},
   "outputs": [
    {
     "name": "stdout",
     "output_type": "stream",
     "text": [
      "[[1. 3. 1. 0.]\n",
      " [2. 2. 0. 1.]]\n"
     ]
    }
   ],
   "source": [
    "aug_A = np.hstack([A,I2b2])\n",
    "print(aug_A)"
   ]
  },
  {
   "cell_type": "code",
   "execution_count": 11,
   "metadata": {},
   "outputs": [
    {
     "data": {
      "text/plain": [
       "array([[ 1.  ,  0.  , -0.5 ,  0.75],\n",
       "       [-0.  ,  1.  ,  0.5 , -0.25]])"
      ]
     },
     "execution_count": 11,
     "metadata": {},
     "output_type": "execute_result"
    }
   ],
   "source": [
    "gauss_method(aug_A)"
   ]
  },
  {
   "cell_type": "code",
   "execution_count": 14,
   "metadata": {},
   "outputs": [
    {
     "name": "stdout",
     "output_type": "stream",
     "text": [
      "[[-1  2 -3]\n",
      " [ 2  1  0]\n",
      " [ 4 -2  5]]\n"
     ]
    }
   ],
   "source": [
    "A2 = np.array([\n",
    "[-1,2,-3],\n",
    "[2,1,0],\n",
    "[4,-2,5]\n",
    "])\n",
    "print(A2)"
   ]
  },
  {
   "cell_type": "code",
   "execution_count": 16,
   "metadata": {},
   "outputs": [
    {
     "name": "stdout",
     "output_type": "stream",
     "text": [
      "[[1. 0. 0.]\n",
      " [0. 1. 0.]\n",
      " [0. 0. 1.]]\n"
     ]
    }
   ],
   "source": [
    "I3b3 = np.eye(3)\n",
    "print(I3b3)"
   ]
  },
  {
   "cell_type": "code",
   "execution_count": 18,
   "metadata": {},
   "outputs": [
    {
     "name": "stdout",
     "output_type": "stream",
     "text": [
      "[[-1.  2. -3.  1.  0.  0.]\n",
      " [ 2.  1.  0.  0.  1.  0.]\n",
      " [ 4. -2.  5.  0.  0.  1.]]\n"
     ]
    }
   ],
   "source": [
    "aug_A2 = np.hstack([A2,I3b3])\n",
    "print(aug_A2)"
   ]
  },
  {
   "cell_type": "code",
   "execution_count": 19,
   "metadata": {},
   "outputs": [
    {
     "data": {
      "text/plain": [
       "array([[ 1.,  0.,  0., -5.,  4., -3.],\n",
       "       [ 0.,  1.,  0., 10., -7.,  6.],\n",
       "       [ 0.,  0.,  1.,  8., -6.,  5.]])"
      ]
     },
     "execution_count": 19,
     "metadata": {},
     "output_type": "execute_result"
    }
   ],
   "source": [
    "gauss_method(aug_A2)"
   ]
  },
  {
   "cell_type": "code",
   "execution_count": 20,
   "metadata": {},
   "outputs": [
    {
     "name": "stdout",
     "output_type": "stream",
     "text": [
      "[[ 2  7  1]\n",
      " [ 7  0 -3]\n",
      " [ 1 -3  4]]\n"
     ]
    }
   ],
   "source": [
    "B = np.array([\n",
    "[2,7,1],\n",
    "[7,0,-3],\n",
    "[1,-3,4]\n",
    "])\n",
    "print(B)"
   ]
  },
  {
   "cell_type": "code",
   "execution_count": 21,
   "metadata": {},
   "outputs": [
    {
     "data": {
      "text/plain": [
       "array([[1., 0., 0.],\n",
       "       [0., 1., 0.],\n",
       "       [0., 0., 1.]])"
      ]
     },
     "execution_count": 21,
     "metadata": {},
     "output_type": "execute_result"
    }
   ],
   "source": [
    "I3b3"
   ]
  },
  {
   "cell_type": "code",
   "execution_count": 22,
   "metadata": {},
   "outputs": [
    {
     "name": "stdout",
     "output_type": "stream",
     "text": [
      "[[ 2.  7.  1.  1.  0.  0.]\n",
      " [ 7.  0. -3.  0.  1.  0.]\n",
      " [ 1. -3.  4.  0.  0.  1.]]\n"
     ]
    }
   ],
   "source": [
    "aug_B = np.hstack([B, I3b3])\n",
    "print(aug_B)"
   ]
  },
  {
   "cell_type": "code",
   "execution_count": 25,
   "metadata": {},
   "outputs": [
    {
     "data": {
      "text/plain": [
       "array([[ 1.        ,  0.        ,  0.        ,  0.03515625,  0.12109375,\n",
       "         0.08203125],\n",
       "       [ 0.        ,  1.        ,  0.        ,  0.12109375, -0.02734375,\n",
       "        -0.05078125],\n",
       "       [ 0.        ,  0.        ,  1.        ,  0.08203125, -0.05078125,\n",
       "         0.19140625]])"
      ]
     },
     "execution_count": 25,
     "metadata": {},
     "output_type": "execute_result"
    }
   ],
   "source": [
    "gauss_method(aug_B)"
   ]
  },
  {
   "cell_type": "code",
   "execution_count": null,
   "metadata": {},
   "outputs": [],
   "source": [
    " 1.        ,  0.        ,  0.        ,  0.03515625,  0.12109375, 0.08203125,\n",
    " 0.        ,  1.        ,  0.        ,  0.12109375, -0.02734375, -0.05078125,\n",
    " 0.        ,  0.        ,  1.        ,  0.08203125, -0.05078125, 0.19140625"
   ]
  }
 ],
 "metadata": {
  "kernelspec": {
   "display_name": "Python 3",
   "language": "python",
   "name": "python3"
  },
  "language_info": {
   "codemirror_mode": {
    "name": "ipython",
    "version": 3
   },
   "file_extension": ".py",
   "mimetype": "text/x-python",
   "name": "python",
   "nbconvert_exporter": "python",
   "pygments_lexer": "ipython3",
   "version": "3.8.5"
  }
 },
 "nbformat": 4,
 "nbformat_minor": 4
}
