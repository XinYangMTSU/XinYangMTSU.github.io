{
 "cells": [
  {
   "cell_type": "markdown",
   "metadata": {},
   "source": [
    "# Example 1"
   ]
  },
  {
   "cell_type": "markdown",
   "metadata": {},
   "source": [
    "1. S(1) = 2 <Br>\n",
    "2. S(n) = 2S(n-1) <br>"
   ]
  },
  {
   "cell_type": "code",
   "execution_count": 11,
   "metadata": {},
   "outputs": [],
   "source": [
    "## recursive algorithm:\n",
    "def S_recur(n):\n",
    "    if n == 1:\n",
    "        return 2\n",
    "    else:\n",
    "        return 2*S_recur(n-1)"
   ]
  },
  {
   "cell_type": "code",
   "execution_count": 10,
   "metadata": {},
   "outputs": [
    {
     "name": "stdout",
     "output_type": "stream",
     "text": [
      "i:  1  =  2\n",
      "i:  2  =  4\n",
      "i:  3  =  8\n",
      "i:  4  =  16\n",
      "i:  5  =  32\n"
     ]
    }
   ],
   "source": [
    "for i in range(1,6):\n",
    "    print(\"i: \", i, \" = \", S_recur(i))"
   ]
  },
  {
   "cell_type": "code",
   "execution_count": 18,
   "metadata": {},
   "outputs": [],
   "source": [
    "## iterative algorithm:\n",
    "\n",
    "def S_ite(n):\n",
    "    if n == 1:\n",
    "        return 2\n",
    "    else:\n",
    "        S = 2\n",
    "        for i in range(2,n+1):\n",
    "            S = 2*S\n",
    "        return S"
   ]
  },
  {
   "cell_type": "code",
   "execution_count": 17,
   "metadata": {},
   "outputs": [
    {
     "name": "stdout",
     "output_type": "stream",
     "text": [
      "i:  1  =  2\n",
      "i:  2  =  4\n",
      "i:  3  =  8\n",
      "i:  4  =  16\n",
      "i:  5  =  32\n"
     ]
    }
   ],
   "source": [
    "for i in range(1,6):\n",
    "    print(\"i: \", i, \" = \", S_ite(i))"
   ]
  },
  {
   "cell_type": "markdown",
   "metadata": {},
   "source": [
    "##############################"
   ]
  },
  {
   "cell_type": "markdown",
   "metadata": {},
   "source": [
    "# Example 2"
   ]
  },
  {
   "cell_type": "markdown",
   "metadata": {},
   "source": [
    "1. F(1) = 1 <Br>\n",
    "2. F(2) = 1 <br>\n",
    "3. F(n) = F(n-2) + F(n-1) for n > 2<br>"
   ]
  },
  {
   "cell_type": "code",
   "execution_count": 20,
   "metadata": {},
   "outputs": [],
   "source": [
    "def F_recur(n):\n",
    "    if n == 1 or n == 2:\n",
    "        return 1\n",
    "    else:\n",
    "        return F_recur(n-2) + F_recur(n-1)"
   ]
  },
  {
   "cell_type": "code",
   "execution_count": 25,
   "metadata": {},
   "outputs": [
    {
     "name": "stdout",
     "output_type": "stream",
     "text": [
      "i:  1  =  1\n",
      "i:  2  =  1\n",
      "i:  3  =  2\n",
      "i:  4  =  3\n",
      "i:  5  =  5\n",
      "i:  6  =  8\n",
      "i:  7  =  13\n",
      "i:  8  =  21\n",
      "i:  9  =  34\n",
      "i:  10  =  55\n"
     ]
    }
   ],
   "source": [
    "for i in range(1,11):\n",
    "    print(\"i: \", i, \" = \", F_recur(i))"
   ]
  },
  {
   "cell_type": "code",
   "execution_count": 28,
   "metadata": {},
   "outputs": [],
   "source": [
    "## iterative algorithm:\n",
    "\n",
    "def F_ite(n):\n",
    "    if n == 1 or n == 2:\n",
    "        return 1\n",
    "    else:\n",
    "        F1 = 1\n",
    "        F2 = 1\n",
    "        for i in range(3,n+1):\n",
    "            Fn = F1 + F2\n",
    "            F1 = F2\n",
    "            F2 = Fn\n",
    "        return Fn"
   ]
  },
  {
   "cell_type": "code",
   "execution_count": 29,
   "metadata": {},
   "outputs": [
    {
     "name": "stdout",
     "output_type": "stream",
     "text": [
      "i:  1  =  1\n",
      "i:  2  =  1\n",
      "i:  3  =  2\n",
      "i:  4  =  3\n",
      "i:  5  =  5\n",
      "i:  6  =  8\n",
      "i:  7  =  13\n",
      "i:  8  =  21\n",
      "i:  9  =  34\n",
      "i:  10  =  55\n"
     ]
    }
   ],
   "source": [
    "for i in range(1,11):\n",
    "    print(\"i: \", i, \" = \", F_ite(i))"
   ]
  },
  {
   "cell_type": "code",
   "execution_count": null,
   "metadata": {},
   "outputs": [],
   "source": []
  }
 ],
 "metadata": {
  "kernelspec": {
   "display_name": "Python 3",
   "language": "python",
   "name": "python3"
  },
  "language_info": {
   "codemirror_mode": {
    "name": "ipython",
    "version": 3
   },
   "file_extension": ".py",
   "mimetype": "text/x-python",
   "name": "python",
   "nbconvert_exporter": "python",
   "pygments_lexer": "ipython3",
   "version": "3.8.5"
  }
 },
 "nbformat": 4,
 "nbformat_minor": 4
}
