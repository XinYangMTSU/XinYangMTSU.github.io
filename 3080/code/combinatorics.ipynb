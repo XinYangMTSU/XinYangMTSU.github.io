{
 "cells": [
  {
   "cell_type": "code",
   "execution_count": 28,
   "metadata": {},
   "outputs": [],
   "source": [
    "import math\n",
    "\n",
    "def fact(n):\n",
    "    if (n <= 1):\n",
    "        return 1\n",
    "         \n",
    "    return n * fact(n - 1)"
   ]
  },
  {
   "cell_type": "code",
   "execution_count": 24,
   "metadata": {},
   "outputs": [],
   "source": [
    "## Permutation\n",
    "def nPr(n, r):\n",
    "     \n",
    "    return math.floor(fact(n) / fact(n - r))"
   ]
  },
  {
   "cell_type": "code",
   "execution_count": 25,
   "metadata": {},
   "outputs": [],
   "source": [
    "## Combination \n",
    "def nCr(n, r):\n",
    "     \n",
    "    return math.floor(fact(n) / (fact(n - r)*fact(r)) )"
   ]
  },
  {
   "cell_type": "code",
   "execution_count": 27,
   "metadata": {},
   "outputs": [
    {
     "name": "stdout",
     "output_type": "stream",
     "text": [
      "nPr = 8835488640\n",
      "nCr = 12271512\n"
     ]
    }
   ],
   "source": [
    "# Driver code\n",
    "n = 48\n",
    "r = 6\n",
    "\n",
    "print(\"nPr =\", nPr(n, r))\n",
    "print(\"nCr =\", nCr(n, r))"
   ]
  },
  {
   "cell_type": "code",
   "execution_count": null,
   "metadata": {},
   "outputs": [],
   "source": []
  }
 ],
 "metadata": {
  "kernelspec": {
   "display_name": "Python 3",
   "language": "python",
   "name": "python3"
  },
  "language_info": {
   "codemirror_mode": {
    "name": "ipython",
    "version": 3
   },
   "file_extension": ".py",
   "mimetype": "text/x-python",
   "name": "python",
   "nbconvert_exporter": "python",
   "pygments_lexer": "ipython3",
   "version": "3.8.5"
  }
 },
 "nbformat": 4,
 "nbformat_minor": 4
}
