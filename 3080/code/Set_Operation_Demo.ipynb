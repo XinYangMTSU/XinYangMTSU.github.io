{
 "cells": [
  {
   "cell_type": "markdown",
   "metadata": {},
   "source": [
    "### 1. Union Method :"
   ]
  },
  {
   "cell_type": "code",
   "execution_count": 4,
   "metadata": {},
   "outputs": [
    {
     "name": "stdout",
     "output_type": "stream",
     "text": [
      "A :  {1, 2, 3, 4, 5}\n",
      "B :  {4, 5, 6, 7, 8, 9}\n",
      "A Union B :  {1, 2, 3, 4, 5, 6, 7, 8, 9}\n"
     ]
    }
   ],
   "source": [
    "# create set object and assign it to variable A\n",
    "A = {1,2,3,4,5}\n",
    "\n",
    "# create set object and assign it to variable B\n",
    "B = {4,5,6,7,8,9}\n",
    "\n",
    "# call union method to get union of set A and B and assign it to variable S\n",
    "S = A.union(B)\n",
    "\n",
    "# print all the values of set A, B and S\n",
    "print('A : ',A)\n",
    "print('B : ',B)\n",
    "print('A Union B : ',S)\n"
   ]
  },
  {
   "cell_type": "markdown",
   "metadata": {},
   "source": [
    "### 2. Intersection Method :"
   ]
  },
  {
   "cell_type": "code",
   "execution_count": 5,
   "metadata": {},
   "outputs": [
    {
     "name": "stdout",
     "output_type": "stream",
     "text": [
      "A :  {1, 2, 3, 4, 5}\n",
      "B :  {4, 5, 6, 7, 8, 9}\n",
      "A Intersection B :  {4, 5}\n"
     ]
    }
   ],
   "source": [
    "# Python Set Intersection\n",
    "# create set object and assign it to variable A\n",
    "A = {1,2,3,4,5}\n",
    "\n",
    "# create set object and assign it to variable B\n",
    "B = {4,5,6,7,8,9}\n",
    "\n",
    "# call intersection method to get intersection of set A and B and assign it to variable S\n",
    "S = A.intersection(B)\n",
    "\n",
    "# print all the values of set A, B and S\n",
    "print('A : ',A)\n",
    "print('B : ',B)\n",
    "print('A Intersection B : ',S)\n"
   ]
  },
  {
   "cell_type": "markdown",
   "metadata": {},
   "source": [
    "### 3. Difference Method :"
   ]
  },
  {
   "cell_type": "code",
   "execution_count": 6,
   "metadata": {},
   "outputs": [
    {
     "name": "stdout",
     "output_type": "stream",
     "text": [
      "A :  {1, 2, 3, 4, 5}\n",
      "B :  {4, 5, 6, 7, 8, 9}\n",
      "A Difference B :  {1, 2, 3}\n",
      "B Difference A :  {8, 9, 6, 7}\n"
     ]
    }
   ],
   "source": [
    "# Python Set Difference\n",
    "# create set object and assign it to variable A\n",
    "A = {1,2,3,4,5}\n",
    "\n",
    "# create set object and assign it to variable B\n",
    "B = {4,5,6,7,8,9}\n",
    "\n",
    "# call difference method to get A - B and assign it to variable S\n",
    "SA = A.difference(B) # A - B\n",
    "SB = B.difference(A) # B - A\n",
    "\n",
    "# print all the values of set A, B and S\n",
    "print('A : ',A)\n",
    "print('B : ',B)\n",
    "print('A Difference B : ',SA)\n",
    "print('B Difference A : ',SB)\n"
   ]
  },
  {
   "cell_type": "markdown",
   "metadata": {},
   "source": [
    "### 4. Difference_update Method :"
   ]
  },
  {
   "cell_type": "code",
   "execution_count": 12,
   "metadata": {},
   "outputs": [
    {
     "name": "stdout",
     "output_type": "stream",
     "text": [
      "B Difference A :  {6, 7, 8, 9}\n"
     ]
    }
   ],
   "source": [
    "# Python Set Difference\n",
    "# create set object and assign it to variable A\n",
    "A = {1,2,3,4,5}\n",
    "\n",
    "# create set object and assign it to variable B\n",
    "B = {4,5,6,7,8,9}\n",
    "\n",
    "# call difference_update method to get A - B by updating set A\n",
    "B.difference_update(A)\n",
    "\n",
    "# print all the values of set A\n",
    "print('B Difference A : ',B)"
   ]
  },
  {
   "cell_type": "markdown",
   "metadata": {},
   "source": [
    "### 5. Isdisjoint method :"
   ]
  },
  {
   "cell_type": "code",
   "execution_count": 13,
   "metadata": {},
   "outputs": [
    {
     "name": "stdout",
     "output_type": "stream",
     "text": [
      "s1 and s2 are not disjoint\n",
      "s1 and s3 are disjoint\n"
     ]
    }
   ],
   "source": [
    "# Python Set isdisjoint\n",
    "# create first set object and assign it to variable s1\n",
    "s1 = {1,2,3,4,5}\n",
    "\n",
    "# create second set object and assign it to variable s2\n",
    "s2 = {5,6,7,8,9}\n",
    "\n",
    "# create third set object and assign it to variable s3\n",
    "s3 = {6,7,8,9,10}\n",
    "\n",
    "# call isdisjoint() to check if s1 & s2 are disoint or not\n",
    "if(s1.isdisjoint(s2)):\n",
    "    print('s1 and s2 are disjoint');\n",
    "else:\n",
    "    print('s1 and s2 are not disjoint');\n",
    "\n",
    "# call isdisjoint() to check if s1 & s3 are disoint or not\n",
    "if(s1.isdisjoint(s3)):\n",
    "    print('s1 and s3 are disjoint');\n",
    "else:\n",
    "    print('s1 and s3 are not disjoint');\n",
    "\n",
    "# print('s1 and s2 are disjoint?',s1.isdisjoint(s2))\n",
    "# print('s1 and s3 are disjoint?',s1.isdisjoint(s3))"
   ]
  },
  {
   "cell_type": "code",
   "execution_count": null,
   "metadata": {},
   "outputs": [],
   "source": []
  }
 ],
 "metadata": {
  "kernelspec": {
   "display_name": "Python 3",
   "language": "python",
   "name": "python3"
  },
  "language_info": {
   "codemirror_mode": {
    "name": "ipython",
    "version": 3
   },
   "file_extension": ".py",
   "mimetype": "text/x-python",
   "name": "python",
   "nbconvert_exporter": "python",
   "pygments_lexer": "ipython3",
   "version": "3.8.5"
  }
 },
 "nbformat": 4,
 "nbformat_minor": 4
}
