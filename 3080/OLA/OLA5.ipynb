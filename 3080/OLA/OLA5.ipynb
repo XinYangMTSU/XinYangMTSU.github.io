{
 "cells": [
  {
   "cell_type": "code",
   "execution_count": 3,
   "metadata": {},
   "outputs": [],
   "source": [
    "### CSCI-3080 Discrete Structure\n",
    "### OLA 5: Chapter 3 -- Recursive Definitions, Recurrence Relations\n",
    "### Name: \n",
    "### Student ID: \n",
    "### Date: "
   ]
  },
  {
   "cell_type": "markdown",
   "metadata": {},
   "source": [
    "### Exercise 1: Write the first 5 values in the sequence: <br>\n",
    "\n",
    "### <font color=\"blue\"> $ C(1) = 5$ <Br> <font color=\"blue\">$ C(n) = 2C(n-1) + 5$ for $n > 1$ </font>"
   ]
  },
  {
   "cell_type": "code",
   "execution_count": null,
   "metadata": {},
   "outputs": [],
   "source": []
  },
  {
   "cell_type": "code",
   "execution_count": null,
   "metadata": {},
   "outputs": [],
   "source": []
  },
  {
   "cell_type": "markdown",
   "metadata": {},
   "source": [
    "### Exercise 2:  Write the first 5 values in the sequence: <Br>\n",
    "\n",
    "### <font color=\"blue\"> $ A(1) = 2$  <Br> $ A(n) = nA(n-1) + n$ for $n > 1$ </font>\n"
   ]
  },
  {
   "cell_type": "code",
   "execution_count": null,
   "metadata": {},
   "outputs": [],
   "source": []
  },
  {
   "cell_type": "code",
   "execution_count": null,
   "metadata": {},
   "outputs": [],
   "source": []
  },
  {
   "cell_type": "markdown",
   "metadata": {},
   "source": [
    "### Exercise 3: An amount of $500 is invested in an account paying 1.2% interest compounded annually (meaning they don't add interest until the end of the year, so the start of the next year you have the money plus interest)"
   ]
  },
  {
   "cell_type": "markdown",
   "metadata": {},
   "source": [
    "### <font color=\"blue\"> (a) Please write a recursive definition for $P(n)$, the amount in the account at the begining of the $n_{th}$ year. <Br> (b) After how many years will the account balance exceed $570? (You can write a python program to calculate) </font>"
   ]
  },
  {
   "cell_type": "code",
   "execution_count": null,
   "metadata": {},
   "outputs": [],
   "source": []
  },
  {
   "cell_type": "code",
   "execution_count": null,
   "metadata": {},
   "outputs": [],
   "source": []
  },
  {
   "cell_type": "markdown",
   "metadata": {},
   "source": [
    "### Exercise 4: Please write the python code of a recursive function to compute the sequence <br> <center>$1, 2, 4, 7, 11, 16,22, \\dots $</center>  <Br> Begin by defining the recursive definition <Br><Br> <font color=\"blue\"> $S(1) = 1$ <br> $S(n) = S(n-1) + n - 1$ for $n > 1$</font> \n"
   ]
  },
  {
   "cell_type": "code",
   "execution_count": null,
   "metadata": {},
   "outputs": [],
   "source": []
  },
  {
   "cell_type": "markdown",
   "metadata": {},
   "source": [
    "### Exercise 5: Please find the closed form solution for the recurrence relation subject to the basis step.\n",
    "Hint: Please use the linear,first-order, constant coefficient formula.\n",
    "###    <font color=\"blue\">$B(1) = 5$ <br> $B(n) = 3B(n-1)$ for $n > 1$</font> "
   ]
  },
  {
   "cell_type": "code",
   "execution_count": null,
   "metadata": {},
   "outputs": [],
   "source": []
  },
  {
   "cell_type": "code",
   "execution_count": null,
   "metadata": {},
   "outputs": [],
   "source": []
  },
  {
   "cell_type": "markdown",
   "metadata": {},
   "source": [
    "### Exercise 6: In an account that pays 3% annually (i.e. interest is added at the end of the year to be available at the beginning of the next year),  $1000 is deposited. At the end of each year, and additional 100 dollars is deposited into the account."
   ]
  },
  {
   "cell_type": "markdown",
   "metadata": {},
   "source": [
    "###  <font color=\"blue\">A. Please write a recurrence relation for the amount in the account at the beginning of year $n$ <br> B. Please find the closed-form solution of the recurrence relation (note it is linear, first order, constant coefficient) <br> C. What is the account worth at the begining of the $8_{th}$ year?</font> \n",
    "  "
   ]
  },
  {
   "cell_type": "code",
   "execution_count": null,
   "metadata": {},
   "outputs": [],
   "source": []
  },
  {
   "cell_type": "code",
   "execution_count": null,
   "metadata": {},
   "outputs": [],
   "source": []
  }
 ],
 "metadata": {
  "kernelspec": {
   "display_name": "Python 3",
   "language": "python",
   "name": "python3"
  },
  "language_info": {
   "codemirror_mode": {
    "name": "ipython",
    "version": 3
   },
   "file_extension": ".py",
   "mimetype": "text/x-python",
   "name": "python",
   "nbconvert_exporter": "python",
   "pygments_lexer": "ipython3",
   "version": "3.8.5"
  }
 },
 "nbformat": 4,
 "nbformat_minor": 4
}
