{
 "cells": [
  {
   "cell_type": "code",
   "execution_count": 12,
   "metadata": {},
   "outputs": [],
   "source": [
    "### CSCI-3080 Discrete Structure\n",
    "### OLA 7: Chapter 6 -- Graphs and Trees\n",
    "### Name: \n",
    "### Student ID: \n",
    "### Date: "
   ]
  },
  {
   "cell_type": "markdown",
   "metadata": {},
   "source": [
    "### 1. Which of the following graphs is not isomorphic to the others, and why?"
   ]
  },
  {
   "cell_type": "markdown",
   "metadata": {},
   "source": [
    "<img width=\"40%\" src=\"https://www.cs.mtsu.edu/~xyang/3080/OLA/ola7_1.png\">"
   ]
  },
  {
   "cell_type": "code",
   "execution_count": null,
   "metadata": {},
   "outputs": [],
   "source": []
  },
  {
   "cell_type": "markdown",
   "metadata": {},
   "source": [
    "### 2. Decide if the two graphs are isomorphic. If so, give the function or functions that establish the isomorphism; if not, explain why."
   ]
  },
  {
   "cell_type": "markdown",
   "metadata": {},
   "source": [
    "<img width=\"40%\" src=\"https://www.cs.mtsu.edu/~xyang/3080/OLA/ola7_2.png\">"
   ]
  },
  {
   "cell_type": "code",
   "execution_count": null,
   "metadata": {},
   "outputs": [],
   "source": []
  },
  {
   "cell_type": "markdown",
   "metadata": {},
   "source": [
    "### 3. Write the adjacency matrix for the given graph."
   ]
  },
  {
   "cell_type": "markdown",
   "metadata": {},
   "source": [
    "<img width=\"20%\" src=\"https://www.cs.mtsu.edu/~xyang/3080/OLA/ola7_3.png\">"
   ]
  },
  {
   "cell_type": "code",
   "execution_count": null,
   "metadata": {},
   "outputs": [],
   "source": []
  },
  {
   "cell_type": "markdown",
   "metadata": {},
   "source": [
    "### 4. Draw the graph represented by the adjacency matrix."
   ]
  },
  {
   "cell_type": "markdown",
   "metadata": {},
   "source": [
    "### <font color=\"blue\">  \\begin{pmatrix}\n",
    "    0 & 1 & 0 & 0 & 0 & 0 \\\\ \n",
    "    1 & 0 & 1 & 0 & 0 & 0 \\\\ \n",
    "    0 & 1 & 1 & 1 & 0 & 0 \\\\ \n",
    "    0 & 0 & 1 & 0 & 0 & 0 \\\\\n",
    "    0 & 0 & 0 & 0 & 0 & 2 \\\\\n",
    "    0 & 0 & 0 & 0 & 2 & 0 \\\\\n",
    "    \\end{pmatrix} </font>"
   ]
  },
  {
   "cell_type": "code",
   "execution_count": null,
   "metadata": {},
   "outputs": [],
   "source": []
  },
  {
   "cell_type": "markdown",
   "metadata": {},
   "source": [
    "### 5. Write the adjacency list representation for the given weighted directed graph."
   ]
  },
  {
   "cell_type": "markdown",
   "metadata": {},
   "source": [
    "<img width=\"20%\" src=\"https://www.cs.mtsu.edu/~xyang/3080/OLA/ola7_4.png\">"
   ]
  },
  {
   "cell_type": "code",
   "execution_count": null,
   "metadata": {},
   "outputs": [],
   "source": []
  },
  {
   "cell_type": "markdown",
   "metadata": {},
   "source": [
    "### 6. Please draw the expression tree for the expression:\n",
    "$[(x-2)*3]+(5+4)$\n",
    "1. Please draw the expression binary tree\n",
    "2. Write the list of nodes resulting from a <b>preorder</b> traversal, an <b>inorder</b> traversal, and a <b>postorder</b> traversal of the given tree"
   ]
  },
  {
   "cell_type": "code",
   "execution_count": null,
   "metadata": {},
   "outputs": [],
   "source": []
  },
  {
   "cell_type": "markdown",
   "metadata": {},
   "source": [
    "### 7. Given the codes:\n",
    "<pre>\n",
    "character     b      h     q     w     % \n",
    "encoding    1000   1001    0     11   101\n",
    "</pre>\n",
    "(1) decode the sequence 10001001101101 <Br>\n",
    "(2) decode the sequence 11110 <br>\n",
    "(3) decode the sequence 01001111000 <br>"
   ]
  },
  {
   "cell_type": "code",
   "execution_count": null,
   "metadata": {},
   "outputs": [],
   "source": []
  },
  {
   "cell_type": "markdown",
   "metadata": {},
   "source": [
    "### 8. \n",
    "<pre>\n",
    "Character    ?    x    w    e    t    s    a\n",
    "Frequency    14   3    11   27   18   22   5\n",
    "</pre>\n",
    "(1) Please construct the Huffman tree for the following characters and frequencies. <br>\n",
    "(2) Please find the Huffman codes for these characters. <br>\n",
    "(3) A file consisting of 100,000 instances of these seven characters is stored using a fixed-length binary encoding scheme. How many bits are required for each code and what is the toal number of bits needed? <br>\n",
    "(4) Storing the same file using the Huffman code in (2), how many bits are needed?"
   ]
  },
  {
   "cell_type": "code",
   "execution_count": null,
   "metadata": {},
   "outputs": [],
   "source": []
  },
  {
   "cell_type": "code",
   "execution_count": null,
   "metadata": {},
   "outputs": [],
   "source": []
  }
 ],
 "metadata": {
  "kernelspec": {
   "display_name": "Python 3",
   "language": "python",
   "name": "python3"
  },
  "language_info": {
   "codemirror_mode": {
    "name": "ipython",
    "version": 3
   },
   "file_extension": ".py",
   "mimetype": "text/x-python",
   "name": "python",
   "nbconvert_exporter": "python",
   "pygments_lexer": "ipython3",
   "version": "3.8.5"
  }
 },
 "nbformat": 4,
 "nbformat_minor": 4
}
