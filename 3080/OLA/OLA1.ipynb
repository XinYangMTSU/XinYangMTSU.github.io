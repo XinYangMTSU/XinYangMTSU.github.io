{
 "cells": [
  {
   "cell_type": "code",
   "execution_count": 35,
   "metadata": {},
   "outputs": [],
   "source": [
    "### CSCI-3080 Discrete Structure\n",
    "### Department of Computer Science\n",
    "### OLA 1: Set Operations & Combinatorics in Python\n",
    "### Name: \n",
    "### Student ID: \n",
    "### Date: \n",
    "### Total Points: 30 Points"
   ]
  },
  {
   "cell_type": "markdown",
   "metadata": {},
   "source": [
    "### Part 1: Please use <font color=\"red\">union</font>, <font color=\"red\">intersection</font>, <font color=\"red\">difference</font>, <font color=\"red\">difference_update</font>, <font color=\"red\">isdisjoint</font> methods to finish the following exercises. Please print the result. (10 points)"
   ]
  },
  {
   "cell_type": "markdown",
   "metadata": {},
   "source": [
    "#### Exercise 1: Return a new set of identical items from a given two sets:  A &cap; B      <font color=\"blue\">(2 points)</font>"
   ]
  },
  {
   "cell_type": "code",
   "execution_count": 27,
   "metadata": {},
   "outputs": [],
   "source": [
    "A = {10, 20, 30, 40, 50}\n",
    "B = {30, 40, 50, 60, 70}"
   ]
  },
  {
   "cell_type": "code",
   "execution_count": null,
   "metadata": {},
   "outputs": [],
   "source": []
  },
  {
   "cell_type": "markdown",
   "metadata": {},
   "source": [
    "#### Exercise 2: Returns a new set with all items from both sets by removing duplicates:  A &cup; B <font color=\"blue\">(2 points)</font>"
   ]
  },
  {
   "cell_type": "code",
   "execution_count": 28,
   "metadata": {},
   "outputs": [],
   "source": [
    "A = {10, 20, 30, 40, 50}\n",
    "B = {30, 40, 50, 60, 70}"
   ]
  },
  {
   "cell_type": "code",
   "execution_count": null,
   "metadata": {},
   "outputs": [],
   "source": []
  },
  {
   "cell_type": "markdown",
   "metadata": {},
   "source": [
    "#### Exercise 3: Given two Python sets, <font color=\"red\">update the first set A</font> with items that exist only in the first set and not in the second set:  A - B  <font color=\"blue\">(2 points)</font>"
   ]
  },
  {
   "cell_type": "code",
   "execution_count": 29,
   "metadata": {},
   "outputs": [],
   "source": [
    "A = {10, 20, 30, 40, 50}\n",
    "B = {30, 40, 50, 60, 70}"
   ]
  },
  {
   "cell_type": "code",
   "execution_count": null,
   "metadata": {},
   "outputs": [],
   "source": []
  },
  {
   "cell_type": "markdown",
   "metadata": {},
   "source": [
    "#### Exercise 4: Remove items 10, 20, 30 from the following set A at once using <font color=\"red\">difference_update</font><font color=\"blue\">(2 points)</font>"
   ]
  },
  {
   "cell_type": "code",
   "execution_count": 30,
   "metadata": {},
   "outputs": [],
   "source": [
    "A = {10, 20, 30, 40, 50}"
   ]
  },
  {
   "cell_type": "code",
   "execution_count": null,
   "metadata": {},
   "outputs": [],
   "source": []
  },
  {
   "cell_type": "markdown",
   "metadata": {},
   "source": [
    "#### Exercise 5: Check if two sets have any elements in common. If yes, display the common elements, else display \"two sets have no items in common\". <font color=\"blue\">(2 points)</font>"
   ]
  },
  {
   "cell_type": "code",
   "execution_count": 31,
   "metadata": {},
   "outputs": [],
   "source": [
    "A = {10, 20, 30, 40, 50}\n",
    "B = {30, 40, 50, 60, 70}"
   ]
  },
  {
   "cell_type": "code",
   "execution_count": null,
   "metadata": {},
   "outputs": [],
   "source": []
  },
  {
   "cell_type": "markdown",
   "metadata": {},
   "source": [
    "### Part 2: Please use <font color=\"red\">Factorial</font>, <font color=\"red\">Permutation</font>, <font color=\"red\">Combination</font> methods to finish the following exercises. Please print the result. (20 points)"
   ]
  },
  {
   "cell_type": "code",
   "execution_count": 42,
   "metadata": {},
   "outputs": [],
   "source": [
    "import math\n",
    "## Factorial\n",
    "def fact(n):\n",
    "    if (n <= 1):\n",
    "        return 1\n",
    "         \n",
    "    return n * fact(n - 1)"
   ]
  },
  {
   "cell_type": "code",
   "execution_count": 43,
   "metadata": {},
   "outputs": [],
   "source": [
    "## Permutation\n",
    "def nPr(n, r):\n",
    "     \n",
    "    return math.floor(fact(n) / fact(n - r))"
   ]
  },
  {
   "cell_type": "code",
   "execution_count": 44,
   "metadata": {},
   "outputs": [],
   "source": [
    "## Combination \n",
    "def nCr(n, r):\n",
    "     \n",
    "    return math.floor(fact(n) / (fact(n - r)*fact(r)) )"
   ]
  },
  {
   "cell_type": "markdown",
   "metadata": {},
   "source": [
    "### Exercise 1: How many three letter words (including nonsense words) can you make from the letters of the English alphabet, if letters cannot be repeated? <font color=\"red\">(2 points)</font>\n",
    "\n",
    "<font color=\"red\">Please wrtie the code to calcualte, and print the result. Please call the function <font color=\"blue\"><b>nPr</b></font> defined above.</font>"
   ]
  },
  {
   "cell_type": "code",
   "execution_count": null,
   "metadata": {},
   "outputs": [],
   "source": []
  },
  {
   "cell_type": "code",
   "execution_count": null,
   "metadata": {},
   "outputs": [],
   "source": []
  },
  {
   "cell_type": "markdown",
   "metadata": {},
   "source": [
    "### Exercise 2: Consider only the letters T, H, E, O, R, Y.  <font color=\"red\">(6 points)</font>\n",
    "\n",
    "(a) How many length-4 lists can be formed if no repetition of letters can occur? (2 points) <br>\n",
    "(b) How many length-4 lists can be formed if repetition of letters is allowed? (2 points) <Br>\n",
    "(c) How many length-4 lists are there that begin with T, with repetition of letters is allowed? (2 points) <br>\n",
    "\n",
    "\n",
    "<font color=\"red\">Please write the code to calculate, and print the results.</font>"
   ]
  },
  {
   "cell_type": "code",
   "execution_count": null,
   "metadata": {},
   "outputs": [],
   "source": []
  },
  {
   "cell_type": "code",
   "execution_count": null,
   "metadata": {},
   "outputs": [],
   "source": []
  },
  {
   "cell_type": "markdown",
   "metadata": {},
   "source": [
    "### Exercise 3: Please Compute the probability of randomly drawing five cards from a deck and getting exactly one Ace.  <font color=\"red\">(6 points)</font>\n",
    "In many card games (such as poker) the order in which the cards are drawn is not important (since the player may rearrange the cards in his hand any way he chooses), so we will use combinations to compute the possible number. For the <b><font color=\"blue\">numerator</font></b>, we need the number of ways to draw one Ace and four other cards (none of them Aces) from the deck. For the <font color=\"blue\"><b>denominator</b></font>, we need to compute the possible number of 5-card hands. There are 52 cards in total.\n",
    "\n",
    "<font color=\"red\">Please write the code to calculate, and print the result. Please call the function <font color=\"blue\"><b>nCr</b></font> defined above.</font>"
   ]
  },
  {
   "cell_type": "code",
   "execution_count": null,
   "metadata": {},
   "outputs": [],
   "source": []
  },
  {
   "cell_type": "code",
   "execution_count": null,
   "metadata": {},
   "outputs": [],
   "source": []
  },
  {
   "cell_type": "markdown",
   "metadata": {},
   "source": [
    "### Exercise 4: Compute the probability of randomly drawing five cards from a deck and getting exactly two Aces. <font color=\"red\">(6 points)</font>\n",
    "<font color=\"red\">Please write the code to calculate, and print the result. Please call the function <font color=\"blue\"><b>nCr</b></font> defined above.</font>"
   ]
  },
  {
   "cell_type": "code",
   "execution_count": null,
   "metadata": {},
   "outputs": [],
   "source": []
  },
  {
   "cell_type": "code",
   "execution_count": null,
   "metadata": {},
   "outputs": [],
   "source": []
  }
 ],
 "metadata": {
  "kernelspec": {
   "display_name": "Python 3",
   "language": "python",
   "name": "python3"
  },
  "language_info": {
   "codemirror_mode": {
    "name": "ipython",
    "version": 3
   },
   "file_extension": ".py",
   "mimetype": "text/x-python",
   "name": "python",
   "nbconvert_exporter": "python",
   "pygments_lexer": "ipython3",
   "version": "3.8.5"
  }
 },
 "nbformat": 4,
 "nbformat_minor": 4
}
