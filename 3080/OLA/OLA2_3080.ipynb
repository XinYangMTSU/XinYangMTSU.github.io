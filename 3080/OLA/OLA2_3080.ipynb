{
 "cells": [
  {
   "cell_type": "code",
   "execution_count": 2,
   "metadata": {},
   "outputs": [],
   "source": [
    "### CSCI-3080 Discrete Structure\n",
    "### OLA 2: Chapter 1--Formal Logic & Chapter 2 -- Proofs, Induction\n",
    "### Name: \n",
    "### Student ID: \n",
    "### Date: "
   ]
  },
  {
   "cell_type": "markdown",
   "metadata": {},
   "source": [
    "# Part 1: Please use <font color=\"red\">formal logic</font> to finish the following 4 exercises.  (100 points)\n",
    "==================================================================================================================="
   ]
  },
  {
   "cell_type": "markdown",
   "metadata": {},
   "source": [
    "### Exercise 1: Write the negation of each statement (10 points)\n",
    "(1) The processor is fast but the printer is slow. <Br>\n",
    "(2) The processor is fast or else the printer is slow. <Br>\n",
    "(3) If the processor is fast, then the printer is slow. <Br>\n",
    "(4) Either the processor is fast and the printer is slow, or else the file is damaged. <Br>\n",
    "(5) The printer is slow only if the file is damaged. <br>\n",
    "    \n",
    "<font color=\"red\">Note: (3) and (5) rely on the fact that A &rarr; B &harr; A' &or; B (Implication rule). <br> so (A &rarr; B)' &harr; (A' &or; B)' , \n",
    "  (A &rarr; B)' &harr; A &and; B'  by De Morgan's law</font>"
   ]
  },
  {
   "cell_type": "code",
   "execution_count": null,
   "metadata": {},
   "outputs": [],
   "source": []
  },
  {
   "cell_type": "code",
   "execution_count": null,
   "metadata": {},
   "outputs": [],
   "source": []
  },
  {
   "cell_type": "markdown",
   "metadata": {},
   "source": [
    "### Exercise 2:  Construct truth tables for the following wffs. Note any tautologies or contradictions (56 points)\n",
    "\n",
    "(a) (A &rarr; B) &harr; A' &or; B <br>\n",
    "(b) (A &and; B)' &harr; A' &or; B' <Br>\n"
   ]
  },
  {
   "cell_type": "markdown",
   "metadata": {},
   "source": [
    "(a) Truth table for (A &rarr; B) &harr; A' &or; B \n",
    "<table>\n",
    "    <tr style=\"border: 1px solid black\">\n",
    "        <th style=\"border: 1px solid black\">A</th>\n",
    "        <th style=\"border: 1px solid black\">B</th>\n",
    "        <th style=\"border: 1px solid black\">A &rarr; B</th>\n",
    "        <th style=\"border: 1px solid black\">A'</th>\n",
    "        <th style=\"border: 1px solid black\">A' &or; B</th>\n",
    "        <th style=\"border: 1px solid black\">(A &rarr; B) &harr; A' &or; B</th>\n",
    "    </tr>\n",
    "    <tr>\n",
    "        <td>T</td>\n",
    "        <td>T</td>\n",
    "        <td></td>\n",
    "        <td></td>\n",
    "        <td></td>\n",
    "        <td></td>\n",
    "    </tr>\n",
    "    <tr>\n",
    "        <td>T</td>\n",
    "        <td>F</td>\n",
    "        <td></td>\n",
    "        <td></td>\n",
    "        <td></td>\n",
    "        <td></td>\n",
    "    </tr>\n",
    "    <tr>\n",
    "        <td>F</td>\n",
    "        <td>T</td>\n",
    "        <td></td>\n",
    "        <td></td>\n",
    "        <td></td>\n",
    "        <td></td>\n",
    "    </tr>\n",
    "    <tr>\n",
    "        <td>F</td>\n",
    "        <td>F</td>\n",
    "        <td></td>\n",
    "        <td></td>\n",
    "        <td></td>\n",
    "        <td></td>\n",
    "    </tr>\n",
    "</table>"
   ]
  },
  {
   "cell_type": "markdown",
   "metadata": {},
   "source": [
    "(b) Truth table for (A &and; B)' &harr; A' &or; B'\n",
    "<table>\n",
    "    <tr style=\"border: 1px solid black\">\n",
    "        <th style=\"border: 1px solid black\">A</th>\n",
    "        <th style=\"border: 1px solid black\">B</th>\n",
    "        <th style=\"border: 1px solid black\">A &and; B</th>\n",
    "        <th style=\"border: 1px solid black\">(A &and; B)'</th>\n",
    "        <th style=\"border: 1px solid black\">A'</th>\n",
    "         <th style=\"border: 1px solid black\">B'</th>\n",
    "        <th style=\"border: 1px solid black\">A' &or; B'</th>\n",
    "        <th style=\"border: 1px solid black\">(A &and; B)' &harr; A' &or; B'</th>\n",
    "    </tr>\n",
    "    <tr>\n",
    "        <td>T</td>\n",
    "        <td>T</td>\n",
    "        <td></td>\n",
    "        <td></td>\n",
    "        <td></td>\n",
    "        <td></td>\n",
    "        <td></td>\n",
    "        <td></td>\n",
    "    </tr>\n",
    "    <tr>\n",
    "        <td>T</td>\n",
    "        <td>F</td>\n",
    "        <td></td>\n",
    "        <td></td>\n",
    "        <td></td>\n",
    "        <td></td>\n",
    "        <td></td>\n",
    "        <td></td>\n",
    "    </tr>\n",
    "    <tr>\n",
    "        <td>F</td>\n",
    "        <td>T</td>\n",
    "        <td></td>\n",
    "        <td></td>\n",
    "        <td></td>\n",
    "        <td></td>\n",
    "        <td></td>\n",
    "        <td></td>\n",
    "    </tr>\n",
    "    <tr>\n",
    "        <td>F</td>\n",
    "        <td>F</td>\n",
    "        <td></td>\n",
    "        <td></td>\n",
    "        <td></td>\n",
    "        <td></td>\n",
    "        <td></td>\n",
    "        <td></td>\n",
    "    </tr>\n",
    "</table>"
   ]
  },
  {
   "cell_type": "code",
   "execution_count": null,
   "metadata": {},
   "outputs": [],
   "source": []
  },
  {
   "cell_type": "markdown",
   "metadata": {},
   "source": [
    "### Exercise 3: Use a proof sequence to prove that the following argument is valid. (20 points)\n",
    "<font color=\"red\"> (A &rarr; B) &and; [B &rarr; (C &rarr; D)] &and; [A &rarr; (B &rarr; C)] &rarr; (A &rarr; D) </font>"
   ]
  },
  {
   "cell_type": "code",
   "execution_count": null,
   "metadata": {},
   "outputs": [],
   "source": []
  },
  {
   "cell_type": "code",
   "execution_count": null,
   "metadata": {},
   "outputs": [],
   "source": []
  },
  {
   "cell_type": "markdown",
   "metadata": {},
   "source": [
    "### Exercise 4: Write the following argument using propositional wffs, then prove that the argument is valid using a proof sequence. (14 points)\n",
    "\n",
    "<font color=\"red\">If DeWayne is not tall, then Jayden is not DeWayne's brother. If DeWayne is tall, then Trevor is DeWayne's brother. Therefore, if jayden is DeWayne's brother, then Trevor is DeWayne's brother.</font> <br>\n",
    "<Br>\n",
    "You can use D,J,T as the statement letters <Br>\n",
    "D: DeWayne is tall. <Br>\n",
    "J: Jayden is DeWayne's brother <Br>\n",
    "T: Trevor is DeWayne's brother <br>"
   ]
  },
  {
   "cell_type": "code",
   "execution_count": null,
   "metadata": {},
   "outputs": [],
   "source": []
  },
  {
   "cell_type": "markdown",
   "metadata": {},
   "source": [
    "# Part 2: Please use <font color=\"red\">Proofs, Induction</font> to finish the following 6 exercises.  (100 points)\n",
    "==================================================================================================================="
   ]
  },
  {
   "cell_type": "markdown",
   "metadata": {},
   "source": [
    "### Exercise 1: Provide a <font color=\"red\">counter example</font> to the following statement:  (4 points)\n",
    "### <font color=\"blue\"> The number $n$ is an odd integer if and only if $3n + 5$ is an even integer.</font> \n",
    "\n",
    "This is actually the statement: (If $n$ is an odd integer then $3n + 5$ is an even integer) AND (If $3n + 5$ is an even integer, then $n$ is an odd integer)"
   ]
  },
  {
   "cell_type": "code",
   "execution_count": null,
   "metadata": {},
   "outputs": [],
   "source": []
  },
  {
   "cell_type": "code",
   "execution_count": null,
   "metadata": {},
   "outputs": [],
   "source": []
  },
  {
   "cell_type": "markdown",
   "metadata": {},
   "source": [
    "### Exercise 2:  Please prove the following statement using <font color=\"red\">exhaustive proof</font>. (16 points)\n",
    "### <font color=\"blue\">For 2 &le; n &le; 4 ,  $n^2$ &ge; $2^n$ </font>\n"
   ]
  },
  {
   "cell_type": "code",
   "execution_count": null,
   "metadata": {},
   "outputs": [],
   "source": []
  },
  {
   "cell_type": "code",
   "execution_count": null,
   "metadata": {},
   "outputs": [],
   "source": []
  },
  {
   "cell_type": "markdown",
   "metadata": {},
   "source": [
    "### Exercise 3: Please prove the following statement using <font color=\"red\">direct proof</font> (10 points)\n",
    "\n",
    "### <font color=\"blue\">The sum of an even integer and an odd integer is odd.</font>\n",
    "\n",
    "Rewrite mathematically: If $x$ is even and $y$ is odd, then $x + y$ is odd."
   ]
  },
  {
   "cell_type": "code",
   "execution_count": null,
   "metadata": {},
   "outputs": [],
   "source": []
  },
  {
   "cell_type": "code",
   "execution_count": null,
   "metadata": {},
   "outputs": [],
   "source": []
  },
  {
   "cell_type": "markdown",
   "metadata": {},
   "source": [
    "### Exercise 4: Please prove the following statement using <font color=\"red\">proof by contradiction</font>. (10 points)\n",
    "\n",
    "### <font color=\"blue\">If $x^2 + 2x - 3 = 0$, then x &ne; 2</font> <br>\n"
   ]
  },
  {
   "cell_type": "code",
   "execution_count": null,
   "metadata": {},
   "outputs": [],
   "source": []
  },
  {
   "cell_type": "code",
   "execution_count": null,
   "metadata": {},
   "outputs": [],
   "source": []
  },
  {
   "cell_type": "markdown",
   "metadata": {},
   "source": [
    "### Exercise 5: For all positive integers, let $P(n)$ be the equation. (16 points)\n",
    "###    <font color=\"blue\">$2 + 4 + 6 + \\dots + 2n = n(n+1)$</font> \n",
    "a. Write the equation for the base case $P(1)$ and verify that it is true. <br>\n",
    "b. Write the inductive hypothesis $P(k)$ <Br>\n",
    "c. Write the equation for $P(k+1)$ <br>\n",
    "d. Prove that $P(k+1)$ is true given b<Br>"
   ]
  },
  {
   "cell_type": "code",
   "execution_count": null,
   "metadata": {},
   "outputs": [],
   "source": []
  },
  {
   "cell_type": "code",
   "execution_count": null,
   "metadata": {},
   "outputs": [],
   "source": []
  },
  {
   "cell_type": "markdown",
   "metadata": {},
   "source": [
    "### Exercise 6: Please prove the following statements are true for every positive integer $n$ using <font color=\"red\">mathematical induction</font>. (44 points)"
   ]
  },
  {
   "cell_type": "markdown",
   "metadata": {},
   "source": [
    "### (1) <font color=\"blue\">$2 + 6 + 18 + \\dots + 2\\times3^{n-1} = 3^n - 1$</font>  \n",
    "### (2) <font color=\"blue\">$1\\times2^1 + 2\\times2^2 + 3\\times2^3 + \\ddots + n\\times2^n = (n-1)\\times2^{n+1}+2$</font> <Br>   "
   ]
  },
  {
   "cell_type": "markdown",
   "metadata": {},
   "source": []
  },
  {
   "cell_type": "code",
   "execution_count": null,
   "metadata": {},
   "outputs": [],
   "source": []
  }
 ],
 "metadata": {
  "kernelspec": {
   "display_name": "Python 3",
   "language": "python",
   "name": "python3"
  },
  "language_info": {
   "codemirror_mode": {
    "name": "ipython",
    "version": 3
   },
   "file_extension": ".py",
   "mimetype": "text/x-python",
   "name": "python",
   "nbconvert_exporter": "python",
   "pygments_lexer": "ipython3",
   "version": "3.8.5"
  }
 },
 "nbformat": 4,
 "nbformat_minor": 4
}
