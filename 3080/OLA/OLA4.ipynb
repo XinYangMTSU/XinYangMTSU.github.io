{
 "cells": [
  {
   "cell_type": "code",
   "execution_count": 2,
   "metadata": {},
   "outputs": [],
   "source": [
    "### CSCI-3080 Discrete Structure\n",
    "### OLA 4: Chapter 2 -- Proofs, Induction\n",
    "### Name: \n",
    "### Student ID: \n",
    "### Date: "
   ]
  },
  {
   "cell_type": "markdown",
   "metadata": {},
   "source": [
    "### Exercise 1: Provide a counter example to the following statement: \n",
    "### <font color=\"blue\"> The number $n$ is an odd integer if and only if $3n + 5$ is an even integer.</font> \n",
    "\n",
    "This is actually the statement: (If $n$ is an odd integer then $3n + 5$ is an even integer) AND (If $3n + 5$ is an even integer, then $n$ is an odd integer)"
   ]
  },
  {
   "cell_type": "code",
   "execution_count": null,
   "metadata": {},
   "outputs": [],
   "source": []
  },
  {
   "cell_type": "code",
   "execution_count": null,
   "metadata": {},
   "outputs": [],
   "source": []
  },
  {
   "cell_type": "markdown",
   "metadata": {},
   "source": [
    "### Exercise 2:  Please prove the following statement using exhaustive proof.\n",
    "### <font color=\"blue\">For 2 &le; n &le; 4 ,  $n^2$ &ge; $2^n$ </font>\n"
   ]
  },
  {
   "cell_type": "code",
   "execution_count": null,
   "metadata": {},
   "outputs": [],
   "source": []
  },
  {
   "cell_type": "code",
   "execution_count": null,
   "metadata": {},
   "outputs": [],
   "source": []
  },
  {
   "cell_type": "markdown",
   "metadata": {},
   "source": [
    "### Exercise 3: Please prove the following statement using direct proof\n",
    "\n",
    "### <font color=\"blue\">The sum of an even integer and an odd integer is odd.</font>\n",
    "\n",
    "Rewrite mathematically: If $x$ is even and $y$ is odd, then $x + y$ is odd."
   ]
  },
  {
   "cell_type": "code",
   "execution_count": null,
   "metadata": {},
   "outputs": [],
   "source": []
  },
  {
   "cell_type": "code",
   "execution_count": null,
   "metadata": {},
   "outputs": [],
   "source": []
  },
  {
   "cell_type": "markdown",
   "metadata": {},
   "source": [
    "### Exercise 4: Please prove the following statement using proof by contradiction.\n",
    "\n",
    "### <font color=\"blue\">If $x^2 + 2x - 3 = 0$, then x &ne; 2</font> <br>\n"
   ]
  },
  {
   "cell_type": "code",
   "execution_count": null,
   "metadata": {},
   "outputs": [],
   "source": []
  },
  {
   "cell_type": "code",
   "execution_count": null,
   "metadata": {},
   "outputs": [],
   "source": []
  },
  {
   "cell_type": "markdown",
   "metadata": {},
   "source": [
    "### Exercise 5: For all positive integers, let $P(n)$ be the equation.\n",
    "###    <font color=\"blue\">$2 + 4 + 6 + \\dots + 2n = n(n+1)$</font> \n",
    "a. Write the equation for the base case $P(1)$ and verify that it is true. <br>\n",
    "b. Write the inductive hypothesis $P(k)$ <Br>\n",
    "c. Write the equation for $P(k+1)$ <br>\n",
    "d. Prove that $P(k+1)$ is true given b<Br>"
   ]
  },
  {
   "cell_type": "code",
   "execution_count": null,
   "metadata": {},
   "outputs": [],
   "source": []
  },
  {
   "cell_type": "code",
   "execution_count": null,
   "metadata": {},
   "outputs": [],
   "source": []
  },
  {
   "cell_type": "markdown",
   "metadata": {},
   "source": [
    "### Exercise 6: Please prove the following statements are true for every positive integer $n$ using mathematical induction."
   ]
  },
  {
   "cell_type": "markdown",
   "metadata": {},
   "source": [
    "### (1) <font color=\"blue\">$2 + 6 + 18 + \\dots + 2\\times3^{n-1} = 3^n - 1$</font> \n",
    "### (2) <font color=\"blue\">$1\\times2^1 + 2\\times2^2 + 3\\times2^3 + \\ddots + n\\times2^n = (n-1)\\times2^{n+1}+2$</font> <Br>   "
   ]
  },
  {
   "cell_type": "code",
   "execution_count": null,
   "metadata": {},
   "outputs": [],
   "source": []
  },
  {
   "cell_type": "code",
   "execution_count": null,
   "metadata": {},
   "outputs": [],
   "source": []
  }
 ],
 "metadata": {
  "kernelspec": {
   "display_name": "Python 3",
   "language": "python",
   "name": "python3"
  },
  "language_info": {
   "codemirror_mode": {
    "name": "ipython",
    "version": 3
   },
   "file_extension": ".py",
   "mimetype": "text/x-python",
   "name": "python",
   "nbconvert_exporter": "python",
   "pygments_lexer": "ipython3",
   "version": "3.8.5"
  }
 },
 "nbformat": 4,
 "nbformat_minor": 4
}
