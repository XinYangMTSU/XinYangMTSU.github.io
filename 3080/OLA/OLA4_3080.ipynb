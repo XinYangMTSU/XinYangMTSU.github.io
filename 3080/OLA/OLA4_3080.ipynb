{
 "cells": [
  {
   "cell_type": "code",
   "execution_count": 1,
   "metadata": {},
   "outputs": [],
   "source": [
    "### CSCI-3080 Discrete Structure\n",
    "### OLA 4: Chapter 5 -- Matrices\n",
    "### Name: \n",
    "### Student ID: \n",
    "### Date: "
   ]
  },
  {
   "cell_type": "markdown",
   "metadata": {},
   "source": [
    "### Exercise 1: Find x and y if<br>\n",
    "\n",
    "### <font color=\"blue\"> $\\begin{pmatrix}1 & 3 \\\\ x & x + y \\end{pmatrix} = \\begin{pmatrix}1 & 3 \\\\ 2 & 6\\end{pmatrix}$ </font>"
   ]
  },
  {
   "cell_type": "code",
   "execution_count": null,
   "metadata": {},
   "outputs": [],
   "source": []
  },
  {
   "cell_type": "markdown",
   "metadata": {},
   "source": [
    "### Exercise 2:  Compute A + rD <Br>\n",
    "\n",
    "### <font color=\"blue\"> $A + rD = \\begin{pmatrix}2 & 1 \\\\ -1 & 0 \\\\ 3 & 4 \\end{pmatrix} + 3\\begin{pmatrix}4 & -6 \\\\ 1 & 3 \\\\ 2 & -1 \\end{pmatrix}$ </font>"
   ]
  },
  {
   "cell_type": "code",
   "execution_count": null,
   "metadata": {},
   "outputs": [],
   "source": []
  },
  {
   "cell_type": "code",
   "execution_count": null,
   "metadata": {},
   "outputs": [],
   "source": []
  },
  {
   "cell_type": "markdown",
   "metadata": {},
   "source": [
    "### Exercise 3: Compute B&middot;D"
   ]
  },
  {
   "cell_type": "markdown",
   "metadata": {},
   "source": [
    "### <font color=\"blue\"> B &middot; D $= \\begin{pmatrix}4 & 1 & 2\\\\ 6 & -1 & 5 \\\\ 1 & 3 & 2 \\end{pmatrix} . \\begin{pmatrix}4 & -6 \\\\ 1 & 3 \\\\ 2 & -1 \\end{pmatrix}$ </font>"
   ]
  },
  {
   "cell_type": "code",
   "execution_count": null,
   "metadata": {},
   "outputs": [],
   "source": []
  },
  {
   "cell_type": "code",
   "execution_count": null,
   "metadata": {},
   "outputs": [],
   "source": []
  },
  {
   "cell_type": "markdown",
   "metadata": {},
   "source": [
    "### Exercise 4: Solve the system of equations using Gaussian Elimination (<font color=\"red\">Please show all the steps</font>)\n",
    "###    <font color=\"blue\">$-x + 2y + z = -1$ <br> $3x - 5y - z = 5$ <br> $2x - y + 3z = 22$</font> "
   ]
  },
  {
   "cell_type": "code",
   "execution_count": null,
   "metadata": {},
   "outputs": [],
   "source": []
  },
  {
   "cell_type": "code",
   "execution_count": null,
   "metadata": {},
   "outputs": [],
   "source": []
  },
  {
   "cell_type": "markdown",
   "metadata": {},
   "source": [
    "### Exercise 5: For the given Boolean matrices, calculate A &and; B, A &or; B, A &times; B, and B &times; A\n",
    "(Don't need to show all steps, the final result is fine.)"
   ]
  },
  {
   "cell_type": "markdown",
   "metadata": {},
   "source": [
    "### <font color=\"blue\"> A $= \\begin{pmatrix}1 & 1 & 0\\\\ 0 & 1 & 1 \\\\ 0 & 0 & 1 \\end{pmatrix} \\quad B=\\begin{pmatrix}1 & 0 & 1 \\\\ 0 & 1 & 1 \\\\ 1 & 1 & 1 \\end{pmatrix}$ </font>"
   ]
  },
  {
   "cell_type": "code",
   "execution_count": null,
   "metadata": {},
   "outputs": [],
   "source": []
  },
  {
   "cell_type": "code",
   "execution_count": null,
   "metadata": {},
   "outputs": [],
   "source": []
  }
 ],
 "metadata": {
  "kernelspec": {
   "display_name": "Python 3",
   "language": "python",
   "name": "python3"
  },
  "language_info": {
   "codemirror_mode": {
    "name": "ipython",
    "version": 3
   },
   "file_extension": ".py",
   "mimetype": "text/x-python",
   "name": "python",
   "nbconvert_exporter": "python",
   "pygments_lexer": "ipython3",
   "version": "3.8.5"
  }
 },
 "nbformat": 4,
 "nbformat_minor": 4
}
