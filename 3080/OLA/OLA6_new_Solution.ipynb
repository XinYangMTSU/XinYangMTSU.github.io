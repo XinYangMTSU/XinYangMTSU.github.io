{
 "cells": [
  {
   "cell_type": "code",
   "execution_count": 17,
   "metadata": {},
   "outputs": [],
   "source": [
    "### CSCI-3080 Discrete Structure\n",
    "### OLA 8: Chapter 7 -- Graphs and Algorithms\n",
    "### Name: \n",
    "### Student ID: \n",
    "### Date: "
   ]
  },
  {
   "cell_type": "markdown",
   "metadata": {},
   "source": [
    "### 1. Find the adjacency matrix and adjacency relation (binary relation) for the following graph."
   ]
  },
  {
   "cell_type": "markdown",
   "metadata": {},
   "source": [
    "<img width=\"30%\" src=\"https://www.cs.mtsu.edu/~xyang/3080/OLA/exe_7.1.png\">"
   ]
  },
  {
   "cell_type": "markdown",
   "metadata": {},
   "source": [
    "<font color=\"blue\" size=4>\n",
    "Adjacency relation: {(1,1),(2,1),(2,3),(3,2)}\n",
    "</font>"
   ]
  },
  {
   "cell_type": "markdown",
   "metadata": {},
   "source": [
    "<font color=\"blue\" size=4>\n",
    "Adjacency matrix: \n",
    " $ = \n",
    "  \\begin{pmatrix}\n",
    "          1 & 0 & 0 \\\\ \n",
    "          1 & 0 & 1 \\\\\n",
    "          0 & 1 & 0\n",
    "  \\end{pmatrix}\n",
    " $\n",
    "</font>"
   ]
  },
  {
   "cell_type": "markdown",
   "metadata": {},
   "source": [
    "### 2. Find the corresponding directed graph and adjacency relation (binary relation) for the following adjacency matrix."
   ]
  },
  {
   "cell_type": "markdown",
   "metadata": {},
   "source": [
    "<img width=\"30%\" src=\"https://www.cs.mtsu.edu/~xyang/3080/OLA/exe_7.2.png\">"
   ]
  },
  {
   "cell_type": "markdown",
   "metadata": {},
   "source": [
    "<font color=\"blue\" size=4>\n",
    "Adjacency relation: {(1,4),(2,5),(4,2),(5,3),(5,4)}\n",
    "</font>"
   ]
  },
  {
   "cell_type": "markdown",
   "metadata": {},
   "source": [
    "<font color=\"blue\" size=4>\n",
    "Directed Graph: \n",
    "</font>\n",
    "<img width=\"30%\" src=\"https://www.cs.mtsu.edu/~xyang/3080/OLA/ola8_2.png\">"
   ]
  },
  {
   "cell_type": "markdown",
   "metadata": {},
   "source": [
    "### 3. Given the adjacency relation &rho; = {(1, 4), (1, 5), (1, 6), (6, 2), (6, 3), (6, 5)} on the set of nodes {1, 2, 3, 4, 5, 6,} find the corresponding directed graph and adjacency matrix."
   ]
  },
  {
   "cell_type": "markdown",
   "metadata": {},
   "source": [
    "<font color=\"blue\" size=4>\n",
    "Adjacency matrix: \n",
    " $ = \n",
    "  \\begin{pmatrix}\n",
    "          0 & 0 & 0 & 1 & 1 & 1 \\\\ \n",
    "          0 & 0 & 0 & 0 & 0 & 0 \\\\\n",
    "          0 & 0 & 0 & 0 & 0 & 0 \\\\\n",
    "          0 & 0 & 0 & 0 & 0 & 0 \\\\\n",
    "          0 & 0 & 0 & 0 & 0 & 0 \\\\\n",
    "          0 & 1 & 1 & 0 & 1 & 0\n",
    "  \\end{pmatrix}\n",
    " $\n",
    "</font>"
   ]
  },
  {
   "cell_type": "markdown",
   "metadata": {},
   "source": [
    "<font color=\"blue\" size=4>\n",
    "Directed Graph: \n",
    "</font>\n",
    "<img width=\"20%\" src=\"https://www.cs.mtsu.edu/~xyang/3080/OLA/ola8_3.png\">"
   ]
  },
  {
   "cell_type": "markdown",
   "metadata": {},
   "source": [
    "### 4. Let A be the following matrix. Find the products <font color=\"blue\">$A^2$</font> and <font color=\"blue\">$A^{(2)}$</font>"
   ]
  },
  {
   "cell_type": "markdown",
   "metadata": {},
   "source": [
    "<img width=\"30%\" src=\"https://www.cs.mtsu.edu/~xyang/3080/OLA/exe_7.4.png\">"
   ]
  },
  {
   "cell_type": "markdown",
   "metadata": {},
   "source": [
    "<font color=\"blue\" size=4>\n",
    "Matrix Multiplication\n",
    " $ A^2 = \n",
    "  \\begin{pmatrix}\n",
    "          1 & 1 & 2 \\\\ \n",
    "          1 & 2 & 3 \\\\\n",
    "          0 & 0 & 1\n",
    "  \\end{pmatrix}\n",
    " $\n",
    "</font>\n",
    "<br>\n",
    "<font color=\"blue\" size=4>\n",
    "\n",
    "Boolean Matrix Multiplication:\n",
    " $ A^{(2)} = \n",
    "  \\begin{pmatrix}\n",
    "          1 & 1 & 1 \\\\ \n",
    "          1 & 1 & 1 \\\\\n",
    "          0 & 0 & 1\n",
    "  \\end{pmatrix}\n",
    " $\n",
    "</font>"
   ]
  },
  {
   "cell_type": "markdown",
   "metadata": {},
   "source": [
    "### 5. Compute the reachability matrix <font color=\"blue\">R</font> using the formula <font color=\"blue\">R = A &or; $A^{(2)}$ &or; &middot; &middot;  &middot; &or; $A^{(n)}$</font> for exercise 2."
   ]
  },
  {
   "cell_type": "markdown",
   "metadata": {},
   "source": [
    "<font color=\"blue\" size=4>\n",
    "A \n",
    " $ = \n",
    "  \\begin{pmatrix}\n",
    "          0 & 0 & 0 & 1 & 0 \\\\ \n",
    "          0 & 0 & 0 & 0 & 1 \\\\ \n",
    "          0 & 0 & 0 & 0 & 0 \\\\ \n",
    "          0 & 1 & 0 & 0 & 0 \\\\ \n",
    "          0 & 0 & 1 & 1 & 0 \\\\ \n",
    "  \\end{pmatrix}\n",
    " $\n",
    "</font>\n",
    "<br>\n",
    "<font color=\"blue\" size=4>\n",
    " $ A ^{(2)}= \n",
    "  \\begin{pmatrix}\n",
    "          0 & 1 & 0 & 0 & 0 \\\\ \n",
    "          0 & 0 & 1 & 1 & 0 \\\\ \n",
    "          0 & 0 & 0 & 0 & 0 \\\\ \n",
    "          0 & 0 & 0 & 0 & 1 \\\\ \n",
    "          0 & 1 & 0 & 0 & 0 \\\\ \n",
    "  \\end{pmatrix}\n",
    " $\n",
    "</font>\n",
    "<br>\n",
    "<font color=\"blue\" size=4>\n",
    " $ A^{(3)}\n",
    "  \\begin{pmatrix}\n",
    "          0 & 0 & 0 & 0 & 1 \\\\ \n",
    "          0 & 1 & 0 & 0 & 0 \\\\ \n",
    "          0 & 0 & 0 & 0 & 0 \\\\ \n",
    "          0 & 0 & 1 & 1 & 0 \\\\ \n",
    "          0 & 0 & 0 & 0 & 1 \\\\ \n",
    "  \\end{pmatrix}\n",
    " $\n",
    "</font>\n",
    "<br>\n",
    "<font color=\"blue\" size=4>\n",
    " $ A^{(4)}\n",
    "  \\begin{pmatrix}\n",
    "          0 & 0 & 1 & 1 & 0 \\\\ \n",
    "          0 & 0 & 0 & 0 & 1 \\\\ \n",
    "          0 & 0 & 0 & 0 & 0 \\\\ \n",
    "          0 & 1 & 0 & 0 & 0 \\\\ \n",
    "          0 & 0 & 1 & 1 & 0 \\\\ \n",
    "  \\end{pmatrix}\n",
    " $\n",
    "</font>\n",
    "<br>\n",
    "<font color=\"blue\" size=4>\n",
    " $ A^{(5)}\n",
    "  \\begin{pmatrix}\n",
    "          0 & 1 & 0 & 0 & 0 \\\\ \n",
    "          0 & 0 & 1 & 1 & 0 \\\\ \n",
    "          0 & 0 & 0 & 0 & 0 \\\\ \n",
    "          0 & 0 & 0 & 0 & 1 \\\\ \n",
    "          0 & 1 & 0 & 0 & 0 \\\\ \n",
    "  \\end{pmatrix}\n",
    " $\n",
    "</font>\n",
    "<br>\n",
    "<font color=\"blue\" size=4>\n",
    "R = A  &or; $A^{(2)}$ &or; $A^{(3)}$ &or; $A^{(4)}$ &or; $A^{(5)}$ = \n",
    "$\n",
    "  \\begin{pmatrix}\n",
    "          0 & 1 & 1 & 1 & 1 \\\\ \n",
    "          0 & 1 & 1 & 1 & 1 \\\\ \n",
    "          0 & 0 & 0 & 0 & 0 \\\\ \n",
    "          0 & 1 & 1 & 1 & 1 \\\\ \n",
    "          0 & 1 & 1 & 1 & 1 \\\\ \n",
    "  \\end{pmatrix}\n",
    "$\n",
    "</font>"
   ]
  },
  {
   "cell_type": "markdown",
   "metadata": {},
   "source": [
    "### 6. Compute the reachability matrix <font color=\"blue\">R</font> using <font color=\"blue\">Warshall's algorithm</font> for exercise 2."
   ]
  },
  {
   "cell_type": "markdown",
   "metadata": {},
   "source": [
    "<font color=\"blue\" size=4>\n",
    "\n",
    " $ M_0= \n",
    "  \\begin{pmatrix}\n",
    "          0 & 0 & 0 & 1 & 0 \\\\ \n",
    "          0 & 0 & 0 & 0 & 1 \\\\ \n",
    "          0 & 0 & 0 & 0 & 0 \\\\ \n",
    "          0 & 1 & 0 & 0 & 0 \\\\ \n",
    "          0 & 0 & 1 & 1 & 0 \\\\ \n",
    "  \\end{pmatrix}\n",
    " $\n",
    "</font>\n",
    "<br>\n",
    "<font color=\"blue\" size=4>\n",
    " $ M_1= \n",
    "  \\begin{pmatrix}\n",
    "          0 & 0 & 0 & 1 & 0 \\\\ \n",
    "          0 & 0 & 0 & 0 & 1 \\\\ \n",
    "          0 & 0 & 0 & 0 & 0 \\\\ \n",
    "          0 & 1 & 0 & 0 & 0 \\\\ \n",
    "          0 & 0 & 1 & 1 & 0 \\\\ \n",
    "  \\end{pmatrix}\n",
    " $\n",
    "</font>\n",
    "<br>\n",
    "<font color=\"blue\" size=4>\n",
    " $ M_2 = \n",
    "  \\begin{pmatrix}\n",
    "          0 & 0 & 0 & 1 & 0 \\\\ \n",
    "          0 & 0 & 0 & 0 & 1 \\\\ \n",
    "          0 & 0 & 0 & 0 & 0 \\\\ \n",
    "          0 & 1 & 0 & 0 & 1 \\\\ \n",
    "          0 & 0 & 1 & 1 & 0 \\\\ \n",
    "  \\end{pmatrix}\n",
    " $\n",
    "</font>\n",
    "<br>\n",
    "<font color=\"blue\" size=4>\n",
    " $ M_3 = \n",
    "  \\begin{pmatrix}\n",
    "          0 & 0 & 0 & 1 & 0 \\\\ \n",
    "          0 & 0 & 0 & 0 & 1 \\\\ \n",
    "          0 & 0 & 0 & 0 & 0 \\\\ \n",
    "          0 & 1 & 0 & 0 & 1 \\\\ \n",
    "          0 & 0 & 1 & 1 & 0 \\\\ \n",
    "  \\end{pmatrix}\n",
    " $\n",
    "</font>\n",
    "<br>\n",
    "<font color=\"blue\" size=4>\n",
    " $ M_4 = \n",
    "  \\begin{pmatrix}\n",
    "          0 & 1 & 0 & 1 & 1 \\\\ \n",
    "          0 & 0 & 0 & 0 & 1 \\\\ \n",
    "          0 & 0 & 0 & 0 & 0 \\\\ \n",
    "          0 & 1 & 0 & 0 & 1 \\\\ \n",
    "          0 & 1 & 1 & 1 & 1 \\\\ \n",
    "  \\end{pmatrix}\n",
    " $\n",
    "</font>\n",
    "<br>\n",
    "<font color=\"blue\" size=4>\n",
    "$\n",
    "R = M_5 \n",
    "  \\begin{pmatrix}\n",
    "          0 & 1 & 1 & 1 & 1 \\\\ \n",
    "          0 & 1 & 1 & 1 & 1 \\\\ \n",
    "          0 & 0 & 0 & 0 & 0 \\\\ \n",
    "          0 & 1 & 1 & 1 & 1 \\\\ \n",
    "          0 & 1 & 1 & 1 & 1 \\\\ \n",
    "  \\end{pmatrix}\n",
    "$\n",
    "</font>"
   ]
  },
  {
   "cell_type": "markdown",
   "metadata": {},
   "source": [
    "### 7. For the following graph, count the number of paths of length 2 from node 1 to node 3. Check by computing $A^{2}$"
   ]
  },
  {
   "cell_type": "markdown",
   "metadata": {},
   "source": [
    "<img width=\"20%\" src=\"https://www.cs.mtsu.edu/~xyang/3080/OLA/exe_7.7.png\">"
   ]
  },
  {
   "cell_type": "code",
   "execution_count": 18,
   "metadata": {},
   "outputs": [],
   "source": [
    "import numpy as np\n",
    "A = np.array([[0,2,0,1],[0,0,1,0],[0,0,0,0],[0,0,1,0]])"
   ]
  },
  {
   "cell_type": "code",
   "execution_count": 19,
   "metadata": {},
   "outputs": [
    {
     "data": {
      "text/plain": [
       "array([[0, 0, 3, 0],\n",
       "       [0, 0, 0, 0],\n",
       "       [0, 0, 0, 0],\n",
       "       [0, 0, 0, 0]])"
      ]
     },
     "execution_count": 19,
     "metadata": {},
     "output_type": "execute_result"
    }
   ],
   "source": [
    "A2 = np.matmul(A,A)\n",
    "A2"
   ]
  },
  {
   "cell_type": "markdown",
   "metadata": {},
   "source": [
    "There are three paths of length 2 from node 1 to node 3."
   ]
  },
  {
   "cell_type": "markdown",
   "metadata": {},
   "source": [
    "### 8.  \n",
    "<b><font size=\"4\">\n",
    "(1) Determine whether this graph has an <font color=\"blue\">Euler path</font>. If so, list the nodes in such a path.  \n",
    "(2) Determine whether this graph has a <font color=\"blue\">Hamiltonian circuit</font>. If so, list the nodes in such a circuit.\n",
    "</font></b>"
   ]
  },
  {
   "cell_type": "markdown",
   "metadata": {},
   "source": [
    "<img width=\"20%\" src=\"https://www.cs.mtsu.edu/~xyang/3080/OLA/exe_7.8.png\">"
   ]
  },
  {
   "cell_type": "markdown",
   "metadata": {},
   "source": [
    "<font color=\"blue\" size=4>\n",
    "(1) Yes. There are two odd-Node 1 and 4. The euler path starts from Node 1 and ends at Node 4.<br>\n",
    "    1->3->1->2->3->4->2->4\n",
    "</font>"
   ]
  },
  {
   "cell_type": "markdown",
   "metadata": {},
   "source": [
    "<font color=\"blue\" size=4>\n",
    "(2) No.\n",
    "</font>"
   ]
  },
  {
   "cell_type": "markdown",
   "metadata": {},
   "source": [
    "### 9.   Apply <font color=\"blue\">Dijkstra's algorithm</font> for the following graph. Show the values for <font color=\"blue\">p</font> and <font color=\"blue\">IN</font> and the <font color=\"blue\">d</font> values and <font color=\"blue\">s</font> values for each pass. Write out the nodes in the <font color=\"blue\">shortest path</font> from <font color=\"red\">2 to 5</font> and the distances of the path.\n",
    "Hint: p is the current node that has the shortest d that you will include in your current IN set."
   ]
  },
  {
   "cell_type": "markdown",
   "metadata": {},
   "source": [
    "<img width=\"30%\" src=\"https://www.cs.mtsu.edu/~xyang/3080/OLA/exe_7.9.png\">"
   ]
  },
  {
   "cell_type": "markdown",
   "metadata": {},
   "source": [
    "<img width=\"90%\" src=\"https://www.cs.mtsu.edu/~xyang/3080/OLA/ola8_9.png\">"
   ]
  },
  {
   "cell_type": "markdown",
   "metadata": {},
   "source": [
    "### 10.\n",
    "<b><font size=\"4\">(1) Write the nodes in a <font color=\"blue\">depth-first search</font>  of the following graph, beginning with the node <font color=\"blue\">a</font>.  <Br>\n",
    "(2)  Write the nodes in a <font color=\"blue\">breadth-first search</font>  of the following graph, beginning with the node <font color=\"blue\">a</font>. </font></b>"
   ]
  },
  {
   "cell_type": "markdown",
   "metadata": {},
   "source": [
    "<img width=\"30%\" src=\"https://www.cs.mtsu.edu/~xyang/3080/OLA/exe_7.10.png\">"
   ]
  },
  {
   "cell_type": "markdown",
   "metadata": {},
   "source": [
    "<font color=\"blue\" size=4>\n",
    "Depth-first search: a,b,c,e,f,d,h,g,j,i\n",
    "</font>"
   ]
  },
  {
   "cell_type": "markdown",
   "metadata": {},
   "source": [
    "<font color=\"blue\" size=4>\n",
    "Breadth-first search: a,b,c,d,e,g,f,h,j,i\n",
    "</font>"
   ]
  },
  {
   "cell_type": "code",
   "execution_count": null,
   "metadata": {},
   "outputs": [],
   "source": []
  }
 ],
 "metadata": {
  "kernelspec": {
   "display_name": "Python 3",
   "language": "python",
   "name": "python3"
  },
  "language_info": {
   "codemirror_mode": {
    "name": "ipython",
    "version": 3
   },
   "file_extension": ".py",
   "mimetype": "text/x-python",
   "name": "python",
   "nbconvert_exporter": "python",
   "pygments_lexer": "ipython3",
   "version": "3.8.5"
  }
 },
 "nbformat": 4,
 "nbformat_minor": 4
}
